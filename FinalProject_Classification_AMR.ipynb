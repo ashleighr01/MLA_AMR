{
  "nbformat": 4,
  "nbformat_minor": 0,
  "metadata": {
    "colab": {
      "name": "FinalProject_Classification_AMR.ipynb",
      "provenance": [],
      "authorship_tag": "ABX9TyNPqtN8RLJOd9rOPbeTjrl7",
      "include_colab_link": true
    },
    "kernelspec": {
      "name": "python3",
      "display_name": "Python 3"
    },
    "language_info": {
      "name": "python"
    }
  },
  "cells": [
    {
      "cell_type": "markdown",
      "metadata": {
        "id": "view-in-github",
        "colab_type": "text"
      },
      "source": [
        "<a href=\"https://colab.research.google.com/github/ashleighr01/MLA_AMR/blob/main/FinalProject_Classification_AMR.ipynb\" target=\"_parent\"><img src=\"https://colab.research.google.com/assets/colab-badge.svg\" alt=\"Open In Colab\"/></a>"
      ]
    },
    {
      "cell_type": "markdown",
      "source": [
        "#**Final Project--Classification**\n",
        "\n",
        "*Ashleigh Rufus*"
      ],
      "metadata": {
        "id": "9BqUO65Hzisq"
      }
    },
    {
      "cell_type": "markdown",
      "source": [
        "#*Import Specific Models*"
      ],
      "metadata": {
        "id": "wXDYxpBB0Ps8"
      }
    },
    {
      "cell_type": "code",
      "execution_count": 1,
      "metadata": {
        "id": "Ln1ch6V_zT34"
      },
      "outputs": [],
      "source": [
        "import pandas as pd\n",
        "import numpy as np\n",
        "import matplotlib.pyplot as plt\n",
        "import seaborn as sns\n",
        "%matplotlib inline"
      ]
    },
    {
      "cell_type": "code",
      "source": [
        "from google.colab import drive\n",
        "drive.mount('/content/gdrive')"
      ],
      "metadata": {
        "colab": {
          "base_uri": "https://localhost:8080/"
        },
        "id": "PE64H2833Vdp",
        "outputId": "f09ef413-4a91-48ef-98fa-150c1a5e8991"
      },
      "execution_count": 2,
      "outputs": [
        {
          "output_type": "stream",
          "name": "stdout",
          "text": [
            "Mounted at /content/gdrive\n"
          ]
        }
      ]
    },
    {
      "cell_type": "code",
      "source": [
        "from sklearn.linear_model import LogisticRegression\n",
        "from sklearn.ensemble import RandomForestClassifier\n",
        "from sklearn.neighbors import KNeighborsClassifier"
      ],
      "metadata": {
        "id": "7GN8kz0H3Y4c"
      },
      "execution_count": 3,
      "outputs": []
    },
    {
      "cell_type": "code",
      "source": [
        "from sklearn.pipeline import Pipeline\n",
        "from sklearn.model_selection import GridSearchCV\n",
        "from sklearn.compose import ColumnTransformer\n",
        "from sklearn.preprocessing import MinMaxScaler\n",
        "from sklearn.preprocessing import OneHotEncoder\n",
        "\n",
        "from sklearn.model_selection import train_test_split"
      ],
      "metadata": {
        "id": "wXXJbH-w-qSs"
      },
      "execution_count": 4,
      "outputs": []
    },
    {
      "cell_type": "code",
      "source": [
        "from sklearn import set_config\n",
        "set_config(display='diagram')"
      ],
      "metadata": {
        "id": "iZqHUGaW-s6l"
      },
      "execution_count": 5,
      "outputs": []
    },
    {
      "cell_type": "code",
      "source": [
        "from sklearn.metrics import precision_score, recall_score, f1_score\n",
        "from sklearn.metrics import classification_report\n",
        "from sklearn.metrics import confusion_matrix\n",
        "from sklearn.metrics import ConfusionMatrixDisplay"
      ],
      "metadata": {
        "id": "3dw8L8sm_k6O"
      },
      "execution_count": 6,
      "outputs": []
    },
    {
      "cell_type": "code",
      "source": [
        "from sklearn.metrics import roc_curve\n",
        "from sklearn.metrics import roc_auc_score\n",
        "from sklearn.metrics import precision_recall_curve\n",
        "from sklearn.metrics import auc"
      ],
      "metadata": {
        "id": "77eI8DiuAj-7"
      },
      "execution_count": 7,
      "outputs": []
    },
    {
      "cell_type": "code",
      "source": [
        "def plot_roc_curve(fpr, tpr):\n",
        "  plt.plot(fpr, tpr, linewidth=2)\n",
        "  plt.plot([0,1], [0,1], 'k--')\n",
        "  plt.xlim([0.0, 1.0])\n",
        "  plt.ylim([0.0, 1.0])"
      ],
      "metadata": {
        "id": "K2D6_Go4Aldo"
      },
      "execution_count": 8,
      "outputs": []
    },
    {
      "cell_type": "markdown",
      "source": [
        "#*Acquire Data*"
      ],
      "metadata": {
        "id": "smYmnIAlBPHG"
      }
    },
    {
      "cell_type": "code",
      "source": [
        "shoppingdf = pd.read_csv('/content/gdrive/MyDrive/CS430/online_shoppers_intention.csv')"
      ],
      "metadata": {
        "id": "zRYdKGDTBU-G"
      },
      "execution_count": 9,
      "outputs": []
    },
    {
      "cell_type": "code",
      "source": [
        "shoppingdf.sample(15)"
      ],
      "metadata": {
        "colab": {
          "base_uri": "https://localhost:8080/",
          "height": 583
        },
        "id": "GXpEMsrLBqFC",
        "outputId": "f2f1f76a-8036-4957-cf39-dcfa3948b9a7"
      },
      "execution_count": 10,
      "outputs": [
        {
          "output_type": "execute_result",
          "data": {
            "text/plain": [
              "       Administrative  Administrative_Duration  Informational  \\\n",
              "7046                0                 0.000000              0   \n",
              "10504               2               217.000000              0   \n",
              "12002               2                67.166667              0   \n",
              "1863                0                 0.000000              0   \n",
              "11544               0                 0.000000              0   \n",
              "8840                6                65.416667              0   \n",
              "3309                1                88.000000              0   \n",
              "8328                5                60.500000              0   \n",
              "10884               4                92.000000              0   \n",
              "6139                1               197.400000              0   \n",
              "10967               2                44.312500              2   \n",
              "9660                2               146.000000              2   \n",
              "3528                1                 2.000000              0   \n",
              "129                 0                 0.000000              0   \n",
              "2264                0                 0.000000              0   \n",
              "\n",
              "       Informational_Duration  ProductRelated  ProductRelated_Duration  \\\n",
              "7046                     0.00              14               343.520000   \n",
              "10504                    0.00              34               409.500000   \n",
              "12002                    0.00              61              2495.615079   \n",
              "1863                     0.00               3                51.500000   \n",
              "11544                    0.00              13               342.920238   \n",
              "8840                     0.00              29              1904.541667   \n",
              "3309                     0.00              11               522.666667   \n",
              "8328                     0.00               5                50.000000   \n",
              "10884                    0.00              21               755.000000   \n",
              "6139                     0.00              83              1631.400000   \n",
              "10967                    7.00              39              2447.548611   \n",
              "9660                    52.25               1                 0.000000   \n",
              "3528                     0.00              24               958.250000   \n",
              "129                      0.00               3                13.000000   \n",
              "2264                     0.00               3                29.000000   \n",
              "\n",
              "       BounceRates  ExitRates  PageValues  SpecialDay Month  OperatingSystems  \\\n",
              "7046      0.000000   0.028571    0.000000         0.0   Jul                 3   \n",
              "10504     0.000000   0.005556    0.000000         0.0   Dec                 2   \n",
              "12002     0.005650   0.016001    0.000000         0.0   Dec                 2   \n",
              "1863      0.000000   0.066667    0.000000         0.0   Mar                 3   \n",
              "11544     0.000000   0.011795    0.000000         0.0   Nov                 3   \n",
              "8840      0.004848   0.026061    0.000000         0.0   Nov                 1   \n",
              "3309      0.000000   0.022222    0.000000         0.0   May                 3   \n",
              "8328      0.000000   0.025000    0.000000         0.0   Dec                 8   \n",
              "10884     0.000000   0.004348    0.000000         0.0   Nov                 3   \n",
              "6139      0.027381   0.068651    0.000000         0.0   Oct                 2   \n",
              "10967     0.028355   0.057999    5.291989         0.0   Nov                 1   \n",
              "9660      0.000000   0.040000    0.000000         0.0   Dec                 1   \n",
              "3528      0.025000   0.035000   24.340167         0.0   May                 2   \n",
              "129       0.133333   0.166667    0.000000         0.0   Feb                 2   \n",
              "2264      0.000000   0.066667    0.000000         0.0   May                 2   \n",
              "\n",
              "       Browser  Region  TrafficType        VisitorType  Weekend  Revenue  \n",
              "7046         2       8            1  Returning_Visitor     True    False  \n",
              "10504        2       4            2  Returning_Visitor    False    False  \n",
              "12002        2       3            2  Returning_Visitor     True    False  \n",
              "1863         2       1           10  Returning_Visitor     True    False  \n",
              "11544        2       3            2        New_Visitor     True    False  \n",
              "8840         1       2            8  Returning_Visitor    False     True  \n",
              "3309         3       1            4  Returning_Visitor    False    False  \n",
              "8328        13       9           20              Other     True     True  \n",
              "10884        2       1            2        New_Visitor    False    False  \n",
              "6139         2       3           13  Returning_Visitor    False    False  \n",
              "10967        1       9            1  Returning_Visitor     True    False  \n",
              "9660         1       1            2  Returning_Visitor    False    False  \n",
              "3528         2       1            6  Returning_Visitor    False    False  \n",
              "129          4       1            1  Returning_Visitor    False    False  \n",
              "2264         2       1            4  Returning_Visitor     True    False  "
            ],
            "text/html": [
              "\n",
              "  <div id=\"df-4372315f-d180-46af-ac5d-cfff15f39f69\">\n",
              "    <div class=\"colab-df-container\">\n",
              "      <div>\n",
              "<style scoped>\n",
              "    .dataframe tbody tr th:only-of-type {\n",
              "        vertical-align: middle;\n",
              "    }\n",
              "\n",
              "    .dataframe tbody tr th {\n",
              "        vertical-align: top;\n",
              "    }\n",
              "\n",
              "    .dataframe thead th {\n",
              "        text-align: right;\n",
              "    }\n",
              "</style>\n",
              "<table border=\"1\" class=\"dataframe\">\n",
              "  <thead>\n",
              "    <tr style=\"text-align: right;\">\n",
              "      <th></th>\n",
              "      <th>Administrative</th>\n",
              "      <th>Administrative_Duration</th>\n",
              "      <th>Informational</th>\n",
              "      <th>Informational_Duration</th>\n",
              "      <th>ProductRelated</th>\n",
              "      <th>ProductRelated_Duration</th>\n",
              "      <th>BounceRates</th>\n",
              "      <th>ExitRates</th>\n",
              "      <th>PageValues</th>\n",
              "      <th>SpecialDay</th>\n",
              "      <th>Month</th>\n",
              "      <th>OperatingSystems</th>\n",
              "      <th>Browser</th>\n",
              "      <th>Region</th>\n",
              "      <th>TrafficType</th>\n",
              "      <th>VisitorType</th>\n",
              "      <th>Weekend</th>\n",
              "      <th>Revenue</th>\n",
              "    </tr>\n",
              "  </thead>\n",
              "  <tbody>\n",
              "    <tr>\n",
              "      <th>7046</th>\n",
              "      <td>0</td>\n",
              "      <td>0.000000</td>\n",
              "      <td>0</td>\n",
              "      <td>0.00</td>\n",
              "      <td>14</td>\n",
              "      <td>343.520000</td>\n",
              "      <td>0.000000</td>\n",
              "      <td>0.028571</td>\n",
              "      <td>0.000000</td>\n",
              "      <td>0.0</td>\n",
              "      <td>Jul</td>\n",
              "      <td>3</td>\n",
              "      <td>2</td>\n",
              "      <td>8</td>\n",
              "      <td>1</td>\n",
              "      <td>Returning_Visitor</td>\n",
              "      <td>True</td>\n",
              "      <td>False</td>\n",
              "    </tr>\n",
              "    <tr>\n",
              "      <th>10504</th>\n",
              "      <td>2</td>\n",
              "      <td>217.000000</td>\n",
              "      <td>0</td>\n",
              "      <td>0.00</td>\n",
              "      <td>34</td>\n",
              "      <td>409.500000</td>\n",
              "      <td>0.000000</td>\n",
              "      <td>0.005556</td>\n",
              "      <td>0.000000</td>\n",
              "      <td>0.0</td>\n",
              "      <td>Dec</td>\n",
              "      <td>2</td>\n",
              "      <td>2</td>\n",
              "      <td>4</td>\n",
              "      <td>2</td>\n",
              "      <td>Returning_Visitor</td>\n",
              "      <td>False</td>\n",
              "      <td>False</td>\n",
              "    </tr>\n",
              "    <tr>\n",
              "      <th>12002</th>\n",
              "      <td>2</td>\n",
              "      <td>67.166667</td>\n",
              "      <td>0</td>\n",
              "      <td>0.00</td>\n",
              "      <td>61</td>\n",
              "      <td>2495.615079</td>\n",
              "      <td>0.005650</td>\n",
              "      <td>0.016001</td>\n",
              "      <td>0.000000</td>\n",
              "      <td>0.0</td>\n",
              "      <td>Dec</td>\n",
              "      <td>2</td>\n",
              "      <td>2</td>\n",
              "      <td>3</td>\n",
              "      <td>2</td>\n",
              "      <td>Returning_Visitor</td>\n",
              "      <td>True</td>\n",
              "      <td>False</td>\n",
              "    </tr>\n",
              "    <tr>\n",
              "      <th>1863</th>\n",
              "      <td>0</td>\n",
              "      <td>0.000000</td>\n",
              "      <td>0</td>\n",
              "      <td>0.00</td>\n",
              "      <td>3</td>\n",
              "      <td>51.500000</td>\n",
              "      <td>0.000000</td>\n",
              "      <td>0.066667</td>\n",
              "      <td>0.000000</td>\n",
              "      <td>0.0</td>\n",
              "      <td>Mar</td>\n",
              "      <td>3</td>\n",
              "      <td>2</td>\n",
              "      <td>1</td>\n",
              "      <td>10</td>\n",
              "      <td>Returning_Visitor</td>\n",
              "      <td>True</td>\n",
              "      <td>False</td>\n",
              "    </tr>\n",
              "    <tr>\n",
              "      <th>11544</th>\n",
              "      <td>0</td>\n",
              "      <td>0.000000</td>\n",
              "      <td>0</td>\n",
              "      <td>0.00</td>\n",
              "      <td>13</td>\n",
              "      <td>342.920238</td>\n",
              "      <td>0.000000</td>\n",
              "      <td>0.011795</td>\n",
              "      <td>0.000000</td>\n",
              "      <td>0.0</td>\n",
              "      <td>Nov</td>\n",
              "      <td>3</td>\n",
              "      <td>2</td>\n",
              "      <td>3</td>\n",
              "      <td>2</td>\n",
              "      <td>New_Visitor</td>\n",
              "      <td>True</td>\n",
              "      <td>False</td>\n",
              "    </tr>\n",
              "    <tr>\n",
              "      <th>8840</th>\n",
              "      <td>6</td>\n",
              "      <td>65.416667</td>\n",
              "      <td>0</td>\n",
              "      <td>0.00</td>\n",
              "      <td>29</td>\n",
              "      <td>1904.541667</td>\n",
              "      <td>0.004848</td>\n",
              "      <td>0.026061</td>\n",
              "      <td>0.000000</td>\n",
              "      <td>0.0</td>\n",
              "      <td>Nov</td>\n",
              "      <td>1</td>\n",
              "      <td>1</td>\n",
              "      <td>2</td>\n",
              "      <td>8</td>\n",
              "      <td>Returning_Visitor</td>\n",
              "      <td>False</td>\n",
              "      <td>True</td>\n",
              "    </tr>\n",
              "    <tr>\n",
              "      <th>3309</th>\n",
              "      <td>1</td>\n",
              "      <td>88.000000</td>\n",
              "      <td>0</td>\n",
              "      <td>0.00</td>\n",
              "      <td>11</td>\n",
              "      <td>522.666667</td>\n",
              "      <td>0.000000</td>\n",
              "      <td>0.022222</td>\n",
              "      <td>0.000000</td>\n",
              "      <td>0.0</td>\n",
              "      <td>May</td>\n",
              "      <td>3</td>\n",
              "      <td>3</td>\n",
              "      <td>1</td>\n",
              "      <td>4</td>\n",
              "      <td>Returning_Visitor</td>\n",
              "      <td>False</td>\n",
              "      <td>False</td>\n",
              "    </tr>\n",
              "    <tr>\n",
              "      <th>8328</th>\n",
              "      <td>5</td>\n",
              "      <td>60.500000</td>\n",
              "      <td>0</td>\n",
              "      <td>0.00</td>\n",
              "      <td>5</td>\n",
              "      <td>50.000000</td>\n",
              "      <td>0.000000</td>\n",
              "      <td>0.025000</td>\n",
              "      <td>0.000000</td>\n",
              "      <td>0.0</td>\n",
              "      <td>Dec</td>\n",
              "      <td>8</td>\n",
              "      <td>13</td>\n",
              "      <td>9</td>\n",
              "      <td>20</td>\n",
              "      <td>Other</td>\n",
              "      <td>True</td>\n",
              "      <td>True</td>\n",
              "    </tr>\n",
              "    <tr>\n",
              "      <th>10884</th>\n",
              "      <td>4</td>\n",
              "      <td>92.000000</td>\n",
              "      <td>0</td>\n",
              "      <td>0.00</td>\n",
              "      <td>21</td>\n",
              "      <td>755.000000</td>\n",
              "      <td>0.000000</td>\n",
              "      <td>0.004348</td>\n",
              "      <td>0.000000</td>\n",
              "      <td>0.0</td>\n",
              "      <td>Nov</td>\n",
              "      <td>3</td>\n",
              "      <td>2</td>\n",
              "      <td>1</td>\n",
              "      <td>2</td>\n",
              "      <td>New_Visitor</td>\n",
              "      <td>False</td>\n",
              "      <td>False</td>\n",
              "    </tr>\n",
              "    <tr>\n",
              "      <th>6139</th>\n",
              "      <td>1</td>\n",
              "      <td>197.400000</td>\n",
              "      <td>0</td>\n",
              "      <td>0.00</td>\n",
              "      <td>83</td>\n",
              "      <td>1631.400000</td>\n",
              "      <td>0.027381</td>\n",
              "      <td>0.068651</td>\n",
              "      <td>0.000000</td>\n",
              "      <td>0.0</td>\n",
              "      <td>Oct</td>\n",
              "      <td>2</td>\n",
              "      <td>2</td>\n",
              "      <td>3</td>\n",
              "      <td>13</td>\n",
              "      <td>Returning_Visitor</td>\n",
              "      <td>False</td>\n",
              "      <td>False</td>\n",
              "    </tr>\n",
              "    <tr>\n",
              "      <th>10967</th>\n",
              "      <td>2</td>\n",
              "      <td>44.312500</td>\n",
              "      <td>2</td>\n",
              "      <td>7.00</td>\n",
              "      <td>39</td>\n",
              "      <td>2447.548611</td>\n",
              "      <td>0.028355</td>\n",
              "      <td>0.057999</td>\n",
              "      <td>5.291989</td>\n",
              "      <td>0.0</td>\n",
              "      <td>Nov</td>\n",
              "      <td>1</td>\n",
              "      <td>1</td>\n",
              "      <td>9</td>\n",
              "      <td>1</td>\n",
              "      <td>Returning_Visitor</td>\n",
              "      <td>True</td>\n",
              "      <td>False</td>\n",
              "    </tr>\n",
              "    <tr>\n",
              "      <th>9660</th>\n",
              "      <td>2</td>\n",
              "      <td>146.000000</td>\n",
              "      <td>2</td>\n",
              "      <td>52.25</td>\n",
              "      <td>1</td>\n",
              "      <td>0.000000</td>\n",
              "      <td>0.000000</td>\n",
              "      <td>0.040000</td>\n",
              "      <td>0.000000</td>\n",
              "      <td>0.0</td>\n",
              "      <td>Dec</td>\n",
              "      <td>1</td>\n",
              "      <td>1</td>\n",
              "      <td>1</td>\n",
              "      <td>2</td>\n",
              "      <td>Returning_Visitor</td>\n",
              "      <td>False</td>\n",
              "      <td>False</td>\n",
              "    </tr>\n",
              "    <tr>\n",
              "      <th>3528</th>\n",
              "      <td>1</td>\n",
              "      <td>2.000000</td>\n",
              "      <td>0</td>\n",
              "      <td>0.00</td>\n",
              "      <td>24</td>\n",
              "      <td>958.250000</td>\n",
              "      <td>0.025000</td>\n",
              "      <td>0.035000</td>\n",
              "      <td>24.340167</td>\n",
              "      <td>0.0</td>\n",
              "      <td>May</td>\n",
              "      <td>2</td>\n",
              "      <td>2</td>\n",
              "      <td>1</td>\n",
              "      <td>6</td>\n",
              "      <td>Returning_Visitor</td>\n",
              "      <td>False</td>\n",
              "      <td>False</td>\n",
              "    </tr>\n",
              "    <tr>\n",
              "      <th>129</th>\n",
              "      <td>0</td>\n",
              "      <td>0.000000</td>\n",
              "      <td>0</td>\n",
              "      <td>0.00</td>\n",
              "      <td>3</td>\n",
              "      <td>13.000000</td>\n",
              "      <td>0.133333</td>\n",
              "      <td>0.166667</td>\n",
              "      <td>0.000000</td>\n",
              "      <td>0.0</td>\n",
              "      <td>Feb</td>\n",
              "      <td>2</td>\n",
              "      <td>4</td>\n",
              "      <td>1</td>\n",
              "      <td>1</td>\n",
              "      <td>Returning_Visitor</td>\n",
              "      <td>False</td>\n",
              "      <td>False</td>\n",
              "    </tr>\n",
              "    <tr>\n",
              "      <th>2264</th>\n",
              "      <td>0</td>\n",
              "      <td>0.000000</td>\n",
              "      <td>0</td>\n",
              "      <td>0.00</td>\n",
              "      <td>3</td>\n",
              "      <td>29.000000</td>\n",
              "      <td>0.000000</td>\n",
              "      <td>0.066667</td>\n",
              "      <td>0.000000</td>\n",
              "      <td>0.0</td>\n",
              "      <td>May</td>\n",
              "      <td>2</td>\n",
              "      <td>2</td>\n",
              "      <td>1</td>\n",
              "      <td>4</td>\n",
              "      <td>Returning_Visitor</td>\n",
              "      <td>True</td>\n",
              "      <td>False</td>\n",
              "    </tr>\n",
              "  </tbody>\n",
              "</table>\n",
              "</div>\n",
              "      <button class=\"colab-df-convert\" onclick=\"convertToInteractive('df-4372315f-d180-46af-ac5d-cfff15f39f69')\"\n",
              "              title=\"Convert this dataframe to an interactive table.\"\n",
              "              style=\"display:none;\">\n",
              "        \n",
              "  <svg xmlns=\"http://www.w3.org/2000/svg\" height=\"24px\"viewBox=\"0 0 24 24\"\n",
              "       width=\"24px\">\n",
              "    <path d=\"M0 0h24v24H0V0z\" fill=\"none\"/>\n",
              "    <path d=\"M18.56 5.44l.94 2.06.94-2.06 2.06-.94-2.06-.94-.94-2.06-.94 2.06-2.06.94zm-11 1L8.5 8.5l.94-2.06 2.06-.94-2.06-.94L8.5 2.5l-.94 2.06-2.06.94zm10 10l.94 2.06.94-2.06 2.06-.94-2.06-.94-.94-2.06-.94 2.06-2.06.94z\"/><path d=\"M17.41 7.96l-1.37-1.37c-.4-.4-.92-.59-1.43-.59-.52 0-1.04.2-1.43.59L10.3 9.45l-7.72 7.72c-.78.78-.78 2.05 0 2.83L4 21.41c.39.39.9.59 1.41.59.51 0 1.02-.2 1.41-.59l7.78-7.78 2.81-2.81c.8-.78.8-2.07 0-2.86zM5.41 20L4 18.59l7.72-7.72 1.47 1.35L5.41 20z\"/>\n",
              "  </svg>\n",
              "      </button>\n",
              "      \n",
              "  <style>\n",
              "    .colab-df-container {\n",
              "      display:flex;\n",
              "      flex-wrap:wrap;\n",
              "      gap: 12px;\n",
              "    }\n",
              "\n",
              "    .colab-df-convert {\n",
              "      background-color: #E8F0FE;\n",
              "      border: none;\n",
              "      border-radius: 50%;\n",
              "      cursor: pointer;\n",
              "      display: none;\n",
              "      fill: #1967D2;\n",
              "      height: 32px;\n",
              "      padding: 0 0 0 0;\n",
              "      width: 32px;\n",
              "    }\n",
              "\n",
              "    .colab-df-convert:hover {\n",
              "      background-color: #E2EBFA;\n",
              "      box-shadow: 0px 1px 2px rgba(60, 64, 67, 0.3), 0px 1px 3px 1px rgba(60, 64, 67, 0.15);\n",
              "      fill: #174EA6;\n",
              "    }\n",
              "\n",
              "    [theme=dark] .colab-df-convert {\n",
              "      background-color: #3B4455;\n",
              "      fill: #D2E3FC;\n",
              "    }\n",
              "\n",
              "    [theme=dark] .colab-df-convert:hover {\n",
              "      background-color: #434B5C;\n",
              "      box-shadow: 0px 1px 3px 1px rgba(0, 0, 0, 0.15);\n",
              "      filter: drop-shadow(0px 1px 2px rgba(0, 0, 0, 0.3));\n",
              "      fill: #FFFFFF;\n",
              "    }\n",
              "  </style>\n",
              "\n",
              "      <script>\n",
              "        const buttonEl =\n",
              "          document.querySelector('#df-4372315f-d180-46af-ac5d-cfff15f39f69 button.colab-df-convert');\n",
              "        buttonEl.style.display =\n",
              "          google.colab.kernel.accessAllowed ? 'block' : 'none';\n",
              "\n",
              "        async function convertToInteractive(key) {\n",
              "          const element = document.querySelector('#df-4372315f-d180-46af-ac5d-cfff15f39f69');\n",
              "          const dataTable =\n",
              "            await google.colab.kernel.invokeFunction('convertToInteractive',\n",
              "                                                     [key], {});\n",
              "          if (!dataTable) return;\n",
              "\n",
              "          const docLinkHtml = 'Like what you see? Visit the ' +\n",
              "            '<a target=\"_blank\" href=https://colab.research.google.com/notebooks/data_table.ipynb>data table notebook</a>'\n",
              "            + ' to learn more about interactive tables.';\n",
              "          element.innerHTML = '';\n",
              "          dataTable['output_type'] = 'display_data';\n",
              "          await google.colab.output.renderOutput(dataTable, element);\n",
              "          const docLink = document.createElement('div');\n",
              "          docLink.innerHTML = docLinkHtml;\n",
              "          element.appendChild(docLink);\n",
              "        }\n",
              "      </script>\n",
              "    </div>\n",
              "  </div>\n",
              "  "
            ]
          },
          "metadata": {},
          "execution_count": 10
        }
      ]
    },
    {
      "cell_type": "markdown",
      "source": [
        "#*Statistical & Visual Exploration*"
      ],
      "metadata": {
        "id": "DK8Fc019FcYi"
      }
    },
    {
      "cell_type": "code",
      "source": [
        "shoppingdf.describe()"
      ],
      "metadata": {
        "colab": {
          "base_uri": "https://localhost:8080/",
          "height": 364
        },
        "id": "KIvn4pCKFi8P",
        "outputId": "11d2afa9-d21f-41f4-f747-304b7d99db0e"
      },
      "execution_count": 11,
      "outputs": [
        {
          "output_type": "execute_result",
          "data": {
            "text/plain": [
              "       Administrative  Administrative_Duration  Informational  \\\n",
              "count    12330.000000             12330.000000   12330.000000   \n",
              "mean         2.315166                80.818611       0.503569   \n",
              "std          3.321784               176.779107       1.270156   \n",
              "min          0.000000                 0.000000       0.000000   \n",
              "25%          0.000000                 0.000000       0.000000   \n",
              "50%          1.000000                 7.500000       0.000000   \n",
              "75%          4.000000                93.256250       0.000000   \n",
              "max         27.000000              3398.750000      24.000000   \n",
              "\n",
              "       Informational_Duration  ProductRelated  ProductRelated_Duration  \\\n",
              "count            12330.000000    12330.000000             12330.000000   \n",
              "mean                34.472398       31.731468              1194.746220   \n",
              "std                140.749294       44.475503              1913.669288   \n",
              "min                  0.000000        0.000000                 0.000000   \n",
              "25%                  0.000000        7.000000               184.137500   \n",
              "50%                  0.000000       18.000000               598.936905   \n",
              "75%                  0.000000       38.000000              1464.157214   \n",
              "max               2549.375000      705.000000             63973.522230   \n",
              "\n",
              "        BounceRates     ExitRates    PageValues    SpecialDay  \\\n",
              "count  12330.000000  12330.000000  12330.000000  12330.000000   \n",
              "mean       0.022191      0.043073      5.889258      0.061427   \n",
              "std        0.048488      0.048597     18.568437      0.198917   \n",
              "min        0.000000      0.000000      0.000000      0.000000   \n",
              "25%        0.000000      0.014286      0.000000      0.000000   \n",
              "50%        0.003112      0.025156      0.000000      0.000000   \n",
              "75%        0.016813      0.050000      0.000000      0.000000   \n",
              "max        0.200000      0.200000    361.763742      1.000000   \n",
              "\n",
              "       OperatingSystems       Browser        Region   TrafficType  \n",
              "count      12330.000000  12330.000000  12330.000000  12330.000000  \n",
              "mean           2.124006      2.357097      3.147364      4.069586  \n",
              "std            0.911325      1.717277      2.401591      4.025169  \n",
              "min            1.000000      1.000000      1.000000      1.000000  \n",
              "25%            2.000000      2.000000      1.000000      2.000000  \n",
              "50%            2.000000      2.000000      3.000000      2.000000  \n",
              "75%            3.000000      2.000000      4.000000      4.000000  \n",
              "max            8.000000     13.000000      9.000000     20.000000  "
            ],
            "text/html": [
              "\n",
              "  <div id=\"df-411d0e65-2290-4e63-ab27-f6e98f36c437\">\n",
              "    <div class=\"colab-df-container\">\n",
              "      <div>\n",
              "<style scoped>\n",
              "    .dataframe tbody tr th:only-of-type {\n",
              "        vertical-align: middle;\n",
              "    }\n",
              "\n",
              "    .dataframe tbody tr th {\n",
              "        vertical-align: top;\n",
              "    }\n",
              "\n",
              "    .dataframe thead th {\n",
              "        text-align: right;\n",
              "    }\n",
              "</style>\n",
              "<table border=\"1\" class=\"dataframe\">\n",
              "  <thead>\n",
              "    <tr style=\"text-align: right;\">\n",
              "      <th></th>\n",
              "      <th>Administrative</th>\n",
              "      <th>Administrative_Duration</th>\n",
              "      <th>Informational</th>\n",
              "      <th>Informational_Duration</th>\n",
              "      <th>ProductRelated</th>\n",
              "      <th>ProductRelated_Duration</th>\n",
              "      <th>BounceRates</th>\n",
              "      <th>ExitRates</th>\n",
              "      <th>PageValues</th>\n",
              "      <th>SpecialDay</th>\n",
              "      <th>OperatingSystems</th>\n",
              "      <th>Browser</th>\n",
              "      <th>Region</th>\n",
              "      <th>TrafficType</th>\n",
              "    </tr>\n",
              "  </thead>\n",
              "  <tbody>\n",
              "    <tr>\n",
              "      <th>count</th>\n",
              "      <td>12330.000000</td>\n",
              "      <td>12330.000000</td>\n",
              "      <td>12330.000000</td>\n",
              "      <td>12330.000000</td>\n",
              "      <td>12330.000000</td>\n",
              "      <td>12330.000000</td>\n",
              "      <td>12330.000000</td>\n",
              "      <td>12330.000000</td>\n",
              "      <td>12330.000000</td>\n",
              "      <td>12330.000000</td>\n",
              "      <td>12330.000000</td>\n",
              "      <td>12330.000000</td>\n",
              "      <td>12330.000000</td>\n",
              "      <td>12330.000000</td>\n",
              "    </tr>\n",
              "    <tr>\n",
              "      <th>mean</th>\n",
              "      <td>2.315166</td>\n",
              "      <td>80.818611</td>\n",
              "      <td>0.503569</td>\n",
              "      <td>34.472398</td>\n",
              "      <td>31.731468</td>\n",
              "      <td>1194.746220</td>\n",
              "      <td>0.022191</td>\n",
              "      <td>0.043073</td>\n",
              "      <td>5.889258</td>\n",
              "      <td>0.061427</td>\n",
              "      <td>2.124006</td>\n",
              "      <td>2.357097</td>\n",
              "      <td>3.147364</td>\n",
              "      <td>4.069586</td>\n",
              "    </tr>\n",
              "    <tr>\n",
              "      <th>std</th>\n",
              "      <td>3.321784</td>\n",
              "      <td>176.779107</td>\n",
              "      <td>1.270156</td>\n",
              "      <td>140.749294</td>\n",
              "      <td>44.475503</td>\n",
              "      <td>1913.669288</td>\n",
              "      <td>0.048488</td>\n",
              "      <td>0.048597</td>\n",
              "      <td>18.568437</td>\n",
              "      <td>0.198917</td>\n",
              "      <td>0.911325</td>\n",
              "      <td>1.717277</td>\n",
              "      <td>2.401591</td>\n",
              "      <td>4.025169</td>\n",
              "    </tr>\n",
              "    <tr>\n",
              "      <th>min</th>\n",
              "      <td>0.000000</td>\n",
              "      <td>0.000000</td>\n",
              "      <td>0.000000</td>\n",
              "      <td>0.000000</td>\n",
              "      <td>0.000000</td>\n",
              "      <td>0.000000</td>\n",
              "      <td>0.000000</td>\n",
              "      <td>0.000000</td>\n",
              "      <td>0.000000</td>\n",
              "      <td>0.000000</td>\n",
              "      <td>1.000000</td>\n",
              "      <td>1.000000</td>\n",
              "      <td>1.000000</td>\n",
              "      <td>1.000000</td>\n",
              "    </tr>\n",
              "    <tr>\n",
              "      <th>25%</th>\n",
              "      <td>0.000000</td>\n",
              "      <td>0.000000</td>\n",
              "      <td>0.000000</td>\n",
              "      <td>0.000000</td>\n",
              "      <td>7.000000</td>\n",
              "      <td>184.137500</td>\n",
              "      <td>0.000000</td>\n",
              "      <td>0.014286</td>\n",
              "      <td>0.000000</td>\n",
              "      <td>0.000000</td>\n",
              "      <td>2.000000</td>\n",
              "      <td>2.000000</td>\n",
              "      <td>1.000000</td>\n",
              "      <td>2.000000</td>\n",
              "    </tr>\n",
              "    <tr>\n",
              "      <th>50%</th>\n",
              "      <td>1.000000</td>\n",
              "      <td>7.500000</td>\n",
              "      <td>0.000000</td>\n",
              "      <td>0.000000</td>\n",
              "      <td>18.000000</td>\n",
              "      <td>598.936905</td>\n",
              "      <td>0.003112</td>\n",
              "      <td>0.025156</td>\n",
              "      <td>0.000000</td>\n",
              "      <td>0.000000</td>\n",
              "      <td>2.000000</td>\n",
              "      <td>2.000000</td>\n",
              "      <td>3.000000</td>\n",
              "      <td>2.000000</td>\n",
              "    </tr>\n",
              "    <tr>\n",
              "      <th>75%</th>\n",
              "      <td>4.000000</td>\n",
              "      <td>93.256250</td>\n",
              "      <td>0.000000</td>\n",
              "      <td>0.000000</td>\n",
              "      <td>38.000000</td>\n",
              "      <td>1464.157214</td>\n",
              "      <td>0.016813</td>\n",
              "      <td>0.050000</td>\n",
              "      <td>0.000000</td>\n",
              "      <td>0.000000</td>\n",
              "      <td>3.000000</td>\n",
              "      <td>2.000000</td>\n",
              "      <td>4.000000</td>\n",
              "      <td>4.000000</td>\n",
              "    </tr>\n",
              "    <tr>\n",
              "      <th>max</th>\n",
              "      <td>27.000000</td>\n",
              "      <td>3398.750000</td>\n",
              "      <td>24.000000</td>\n",
              "      <td>2549.375000</td>\n",
              "      <td>705.000000</td>\n",
              "      <td>63973.522230</td>\n",
              "      <td>0.200000</td>\n",
              "      <td>0.200000</td>\n",
              "      <td>361.763742</td>\n",
              "      <td>1.000000</td>\n",
              "      <td>8.000000</td>\n",
              "      <td>13.000000</td>\n",
              "      <td>9.000000</td>\n",
              "      <td>20.000000</td>\n",
              "    </tr>\n",
              "  </tbody>\n",
              "</table>\n",
              "</div>\n",
              "      <button class=\"colab-df-convert\" onclick=\"convertToInteractive('df-411d0e65-2290-4e63-ab27-f6e98f36c437')\"\n",
              "              title=\"Convert this dataframe to an interactive table.\"\n",
              "              style=\"display:none;\">\n",
              "        \n",
              "  <svg xmlns=\"http://www.w3.org/2000/svg\" height=\"24px\"viewBox=\"0 0 24 24\"\n",
              "       width=\"24px\">\n",
              "    <path d=\"M0 0h24v24H0V0z\" fill=\"none\"/>\n",
              "    <path d=\"M18.56 5.44l.94 2.06.94-2.06 2.06-.94-2.06-.94-.94-2.06-.94 2.06-2.06.94zm-11 1L8.5 8.5l.94-2.06 2.06-.94-2.06-.94L8.5 2.5l-.94 2.06-2.06.94zm10 10l.94 2.06.94-2.06 2.06-.94-2.06-.94-.94-2.06-.94 2.06-2.06.94z\"/><path d=\"M17.41 7.96l-1.37-1.37c-.4-.4-.92-.59-1.43-.59-.52 0-1.04.2-1.43.59L10.3 9.45l-7.72 7.72c-.78.78-.78 2.05 0 2.83L4 21.41c.39.39.9.59 1.41.59.51 0 1.02-.2 1.41-.59l7.78-7.78 2.81-2.81c.8-.78.8-2.07 0-2.86zM5.41 20L4 18.59l7.72-7.72 1.47 1.35L5.41 20z\"/>\n",
              "  </svg>\n",
              "      </button>\n",
              "      \n",
              "  <style>\n",
              "    .colab-df-container {\n",
              "      display:flex;\n",
              "      flex-wrap:wrap;\n",
              "      gap: 12px;\n",
              "    }\n",
              "\n",
              "    .colab-df-convert {\n",
              "      background-color: #E8F0FE;\n",
              "      border: none;\n",
              "      border-radius: 50%;\n",
              "      cursor: pointer;\n",
              "      display: none;\n",
              "      fill: #1967D2;\n",
              "      height: 32px;\n",
              "      padding: 0 0 0 0;\n",
              "      width: 32px;\n",
              "    }\n",
              "\n",
              "    .colab-df-convert:hover {\n",
              "      background-color: #E2EBFA;\n",
              "      box-shadow: 0px 1px 2px rgba(60, 64, 67, 0.3), 0px 1px 3px 1px rgba(60, 64, 67, 0.15);\n",
              "      fill: #174EA6;\n",
              "    }\n",
              "\n",
              "    [theme=dark] .colab-df-convert {\n",
              "      background-color: #3B4455;\n",
              "      fill: #D2E3FC;\n",
              "    }\n",
              "\n",
              "    [theme=dark] .colab-df-convert:hover {\n",
              "      background-color: #434B5C;\n",
              "      box-shadow: 0px 1px 3px 1px rgba(0, 0, 0, 0.15);\n",
              "      filter: drop-shadow(0px 1px 2px rgba(0, 0, 0, 0.3));\n",
              "      fill: #FFFFFF;\n",
              "    }\n",
              "  </style>\n",
              "\n",
              "      <script>\n",
              "        const buttonEl =\n",
              "          document.querySelector('#df-411d0e65-2290-4e63-ab27-f6e98f36c437 button.colab-df-convert');\n",
              "        buttonEl.style.display =\n",
              "          google.colab.kernel.accessAllowed ? 'block' : 'none';\n",
              "\n",
              "        async function convertToInteractive(key) {\n",
              "          const element = document.querySelector('#df-411d0e65-2290-4e63-ab27-f6e98f36c437');\n",
              "          const dataTable =\n",
              "            await google.colab.kernel.invokeFunction('convertToInteractive',\n",
              "                                                     [key], {});\n",
              "          if (!dataTable) return;\n",
              "\n",
              "          const docLinkHtml = 'Like what you see? Visit the ' +\n",
              "            '<a target=\"_blank\" href=https://colab.research.google.com/notebooks/data_table.ipynb>data table notebook</a>'\n",
              "            + ' to learn more about interactive tables.';\n",
              "          element.innerHTML = '';\n",
              "          dataTable['output_type'] = 'display_data';\n",
              "          await google.colab.output.renderOutput(dataTable, element);\n",
              "          const docLink = document.createElement('div');\n",
              "          docLink.innerHTML = docLinkHtml;\n",
              "          element.appendChild(docLink);\n",
              "        }\n",
              "      </script>\n",
              "    </div>\n",
              "  </div>\n",
              "  "
            ]
          },
          "metadata": {},
          "execution_count": 11
        }
      ]
    },
    {
      "cell_type": "code",
      "source": [
        "revenue = shoppingdf.Revenue.groupby(shoppingdf.Revenue).count()\n",
        "revenue"
      ],
      "metadata": {
        "colab": {
          "base_uri": "https://localhost:8080/"
        },
        "id": "8NalqjF5FoyR",
        "outputId": "70d79fdd-8553-43c4-f01d-1409a25d6ad8"
      },
      "execution_count": 12,
      "outputs": [
        {
          "output_type": "execute_result",
          "data": {
            "text/plain": [
              "Revenue\n",
              "False    10422\n",
              "True      1908\n",
              "Name: Revenue, dtype: int64"
            ]
          },
          "metadata": {},
          "execution_count": 12
        }
      ]
    },
    {
      "cell_type": "code",
      "source": [
        "revenue.plot(kind='barh', title=\"Count for Revenue\", color='Orange')"
      ],
      "metadata": {
        "colab": {
          "base_uri": "https://localhost:8080/",
          "height": 299
        },
        "id": "LZy_rYwuH5Ff",
        "outputId": "58834afe-42cc-4da8-d5bf-43f9bcd93d1c"
      },
      "execution_count": 13,
      "outputs": [
        {
          "output_type": "execute_result",
          "data": {
            "text/plain": [
              "<matplotlib.axes._subplots.AxesSubplot at 0x7f5c1522f650>"
            ]
          },
          "metadata": {},
          "execution_count": 13
        },
        {
          "output_type": "display_data",
          "data": {
            "text/plain": [
              "<Figure size 432x288 with 1 Axes>"
            ],
            "image/png": "[encoded data removed]"
          },
          "metadata": {
            "needs_background": "light"
          }
        }
      ]
    },
    {
      "cell_type": "code",
      "source": [
        "fig = plt.figure(figsize=(10,10))\n",
        "sns.scatterplot(x='Administrative',y='Informational', data=shoppingdf, hue='OperatingSystems')"
      ],
      "metadata": {
        "colab": {
          "base_uri": "https://localhost:8080/",
          "height": 624
        },
        "id": "WppEyM1zIe_I",
        "outputId": "49b2d5c8-4e7f-4c39-f579-47de55292428"
      },
      "execution_count": 14,
      "outputs": [
        {
          "output_type": "execute_result",
          "data": {
            "text/plain": [
              "<matplotlib.axes._subplots.AxesSubplot at 0x7f5c1538ae50>"
            ]
          },
          "metadata": {},
          "execution_count": 14
        },
        {
          "output_type": "display_data",
          "data": {
            "text/plain": [
              "<Figure size 720x720 with 1 Axes>"
            ],
            "image/png": "[encoded data removed]"
          },
          "metadata": {
            "needs_background": "light"
          }
        }
      ]
    },
    {
      "cell_type": "markdown",
      "source": [
        "#*Splitting the Data into Train/Test*"
      ],
      "metadata": {
        "id": "2wMYzGFKSMoW"
      }
    },
    {
      "cell_type": "code",
      "source": [
        "shoppingdf.Revenue = shoppingdf.Revenue.astype('int')"
      ],
      "metadata": {
        "id": "LYwh0SD8SRAj"
      },
      "execution_count": 15,
      "outputs": []
    },
    {
      "cell_type": "code",
      "source": [
        "shoppingdf.Revenue.groupby(shoppingdf.Revenue).count()"
      ],
      "metadata": {
        "colab": {
          "base_uri": "https://localhost:8080/"
        },
        "id": "KUOv1WCNqrYS",
        "outputId": "ceb3bc45-02c5-426b-8111-5ea808b470fc"
      },
      "execution_count": 16,
      "outputs": [
        {
          "output_type": "execute_result",
          "data": {
            "text/plain": [
              "Revenue\n",
              "0    10422\n",
              "1     1908\n",
              "Name: Revenue, dtype: int64"
            ]
          },
          "metadata": {},
          "execution_count": 16
        }
      ]
    },
    {
      "cell_type": "code",
      "source": [
        "shoppingdf.sample(5)"
      ],
      "metadata": {
        "colab": {
          "base_uri": "https://localhost:8080/",
          "height": 270
        },
        "id": "uG7ejJOKaaOX",
        "outputId": "6564468f-0522-416e-d2d5-5794f3cd65b3"
      },
      "execution_count": 17,
      "outputs": [
        {
          "output_type": "execute_result",
          "data": {
            "text/plain": [
              "      Administrative  Administrative_Duration  Informational  \\\n",
              "1175               0                     0.00              0   \n",
              "3890               2                    17.00              0   \n",
              "2163               1                     0.00              0   \n",
              "9151               3                    34.25              2   \n",
              "3209               0                     0.00              0   \n",
              "\n",
              "      Informational_Duration  ProductRelated  ProductRelated_Duration  \\\n",
              "1175                     0.0              30                 1224.750   \n",
              "3890                     0.0              14                  260.200   \n",
              "2163                     0.0               7                   88.000   \n",
              "9151                    17.0              60                 2335.125   \n",
              "3209                     0.0              12                 1111.000   \n",
              "\n",
              "      BounceRates  ExitRates  PageValues  SpecialDay Month  OperatingSystems  \\\n",
              "1175     0.000000   0.007143   21.048642         0.0   Mar                 2   \n",
              "3890     0.000000   0.037500    0.000000         0.4   May                 2   \n",
              "2163     0.062500   0.116667    0.000000         0.8   May                 3   \n",
              "9151     0.001563   0.018750    0.000000         0.0   Dec                 2   \n",
              "3209     0.000000   0.033333    0.000000         0.6   May                 2   \n",
              "\n",
              "      Browser  Region  TrafficType        VisitorType  Weekend  Revenue  \n",
              "1175        4       2            2        New_Visitor    False        1  \n",
              "3890        2       3            3  Returning_Visitor    False        0  \n",
              "2163        2       1            6  Returning_Visitor    False        0  \n",
              "9151        2       1            2  Returning_Visitor     True        0  \n",
              "3209        2       5            1  Returning_Visitor    False        0  "
            ],
            "text/html": [
              "\n",
              "  <div id=\"df-01e055db-76bc-4b90-ba40-9dd02b6b91df\">\n",
              "    <div class=\"colab-df-container\">\n",
              "      <div>\n",
              "<style scoped>\n",
              "    .dataframe tbody tr th:only-of-type {\n",
              "        vertical-align: middle;\n",
              "    }\n",
              "\n",
              "    .dataframe tbody tr th {\n",
              "        vertical-align: top;\n",
              "    }\n",
              "\n",
              "    .dataframe thead th {\n",
              "        text-align: right;\n",
              "    }\n",
              "</style>\n",
              "<table border=\"1\" class=\"dataframe\">\n",
              "  <thead>\n",
              "    <tr style=\"text-align: right;\">\n",
              "      <th></th>\n",
              "      <th>Administrative</th>\n",
              "      <th>Administrative_Duration</th>\n",
              "      <th>Informational</th>\n",
              "      <th>Informational_Duration</th>\n",
              "      <th>ProductRelated</th>\n",
              "      <th>ProductRelated_Duration</th>\n",
              "      <th>BounceRates</th>\n",
              "      <th>ExitRates</th>\n",
              "      <th>PageValues</th>\n",
              "      <th>SpecialDay</th>\n",
              "      <th>Month</th>\n",
              "      <th>OperatingSystems</th>\n",
              "      <th>Browser</th>\n",
              "      <th>Region</th>\n",
              "      <th>TrafficType</th>\n",
              "      <th>VisitorType</th>\n",
              "      <th>Weekend</th>\n",
              "      <th>Revenue</th>\n",
              "    </tr>\n",
              "  </thead>\n",
              "  <tbody>\n",
              "    <tr>\n",
              "      <th>1175</th>\n",
              "      <td>0</td>\n",
              "      <td>0.00</td>\n",
              "      <td>0</td>\n",
              "      <td>0.0</td>\n",
              "      <td>30</td>\n",
              "      <td>1224.750</td>\n",
              "      <td>0.000000</td>\n",
              "      <td>0.007143</td>\n",
              "      <td>21.048642</td>\n",
              "      <td>0.0</td>\n",
              "      <td>Mar</td>\n",
              "      <td>2</td>\n",
              "      <td>4</td>\n",
              "      <td>2</td>\n",
              "      <td>2</td>\n",
              "      <td>New_Visitor</td>\n",
              "      <td>False</td>\n",
              "      <td>1</td>\n",
              "    </tr>\n",
              "    <tr>\n",
              "      <th>3890</th>\n",
              "      <td>2</td>\n",
              "      <td>17.00</td>\n",
              "      <td>0</td>\n",
              "      <td>0.0</td>\n",
              "      <td>14</td>\n",
              "      <td>260.200</td>\n",
              "      <td>0.000000</td>\n",
              "      <td>0.037500</td>\n",
              "      <td>0.000000</td>\n",
              "      <td>0.4</td>\n",
              "      <td>May</td>\n",
              "      <td>2</td>\n",
              "      <td>2</td>\n",
              "      <td>3</td>\n",
              "      <td>3</td>\n",
              "      <td>Returning_Visitor</td>\n",
              "      <td>False</td>\n",
              "      <td>0</td>\n",
              "    </tr>\n",
              "    <tr>\n",
              "      <th>2163</th>\n",
              "      <td>1</td>\n",
              "      <td>0.00</td>\n",
              "      <td>0</td>\n",
              "      <td>0.0</td>\n",
              "      <td>7</td>\n",
              "      <td>88.000</td>\n",
              "      <td>0.062500</td>\n",
              "      <td>0.116667</td>\n",
              "      <td>0.000000</td>\n",
              "      <td>0.8</td>\n",
              "      <td>May</td>\n",
              "      <td>3</td>\n",
              "      <td>2</td>\n",
              "      <td>1</td>\n",
              "      <td>6</td>\n",
              "      <td>Returning_Visitor</td>\n",
              "      <td>False</td>\n",
              "      <td>0</td>\n",
              "    </tr>\n",
              "    <tr>\n",
              "      <th>9151</th>\n",
              "      <td>3</td>\n",
              "      <td>34.25</td>\n",
              "      <td>2</td>\n",
              "      <td>17.0</td>\n",
              "      <td>60</td>\n",
              "      <td>2335.125</td>\n",
              "      <td>0.001563</td>\n",
              "      <td>0.018750</td>\n",
              "      <td>0.000000</td>\n",
              "      <td>0.0</td>\n",
              "      <td>Dec</td>\n",
              "      <td>2</td>\n",
              "      <td>2</td>\n",
              "      <td>1</td>\n",
              "      <td>2</td>\n",
              "      <td>Returning_Visitor</td>\n",
              "      <td>True</td>\n",
              "      <td>0</td>\n",
              "    </tr>\n",
              "    <tr>\n",
              "      <th>3209</th>\n",
              "      <td>0</td>\n",
              "      <td>0.00</td>\n",
              "      <td>0</td>\n",
              "      <td>0.0</td>\n",
              "      <td>12</td>\n",
              "      <td>1111.000</td>\n",
              "      <td>0.000000</td>\n",
              "      <td>0.033333</td>\n",
              "      <td>0.000000</td>\n",
              "      <td>0.6</td>\n",
              "      <td>May</td>\n",
              "      <td>2</td>\n",
              "      <td>2</td>\n",
              "      <td>5</td>\n",
              "      <td>1</td>\n",
              "      <td>Returning_Visitor</td>\n",
              "      <td>False</td>\n",
              "      <td>0</td>\n",
              "    </tr>\n",
              "  </tbody>\n",
              "</table>\n",
              "</div>\n",
              "      <button class=\"colab-df-convert\" onclick=\"convertToInteractive('df-01e055db-76bc-4b90-ba40-9dd02b6b91df')\"\n",
              "              title=\"Convert this dataframe to an interactive table.\"\n",
              "              style=\"display:none;\">\n",
              "        \n",
              "  <svg xmlns=\"http://www.w3.org/2000/svg\" height=\"24px\"viewBox=\"0 0 24 24\"\n",
              "       width=\"24px\">\n",
              "    <path d=\"M0 0h24v24H0V0z\" fill=\"none\"/>\n",
              "    <path d=\"M18.56 5.44l.94 2.06.94-2.06 2.06-.94-2.06-.94-.94-2.06-.94 2.06-2.06.94zm-11 1L8.5 8.5l.94-2.06 2.06-.94-2.06-.94L8.5 2.5l-.94 2.06-2.06.94zm10 10l.94 2.06.94-2.06 2.06-.94-2.06-.94-.94-2.06-.94 2.06-2.06.94z\"/><path d=\"M17.41 7.96l-1.37-1.37c-.4-.4-.92-.59-1.43-.59-.52 0-1.04.2-1.43.59L10.3 9.45l-7.72 7.72c-.78.78-.78 2.05 0 2.83L4 21.41c.39.39.9.59 1.41.59.51 0 1.02-.2 1.41-.59l7.78-7.78 2.81-2.81c.8-.78.8-2.07 0-2.86zM5.41 20L4 18.59l7.72-7.72 1.47 1.35L5.41 20z\"/>\n",
              "  </svg>\n",
              "      </button>\n",
              "      \n",
              "  <style>\n",
              "    .colab-df-container {\n",
              "      display:flex;\n",
              "      flex-wrap:wrap;\n",
              "      gap: 12px;\n",
              "    }\n",
              "\n",
              "    .colab-df-convert {\n",
              "      background-color: #E8F0FE;\n",
              "      border: none;\n",
              "      border-radius: 50%;\n",
              "      cursor: pointer;\n",
              "      display: none;\n",
              "      fill: #1967D2;\n",
              "      height: 32px;\n",
              "      padding: 0 0 0 0;\n",
              "      width: 32px;\n",
              "    }\n",
              "\n",
              "    .colab-df-convert:hover {\n",
              "      background-color: #E2EBFA;\n",
              "      box-shadow: 0px 1px 2px rgba(60, 64, 67, 0.3), 0px 1px 3px 1px rgba(60, 64, 67, 0.15);\n",
              "      fill: #174EA6;\n",
              "    }\n",
              "\n",
              "    [theme=dark] .colab-df-convert {\n",
              "      background-color: #3B4455;\n",
              "      fill: #D2E3FC;\n",
              "    }\n",
              "\n",
              "    [theme=dark] .colab-df-convert:hover {\n",
              "      background-color: #434B5C;\n",
              "      box-shadow: 0px 1px 3px 1px rgba(0, 0, 0, 0.15);\n",
              "      filter: drop-shadow(0px 1px 2px rgba(0, 0, 0, 0.3));\n",
              "      fill: #FFFFFF;\n",
              "    }\n",
              "  </style>\n",
              "\n",
              "      <script>\n",
              "        const buttonEl =\n",
              "          document.querySelector('#df-01e055db-76bc-4b90-ba40-9dd02b6b91df button.colab-df-convert');\n",
              "        buttonEl.style.display =\n",
              "          google.colab.kernel.accessAllowed ? 'block' : 'none';\n",
              "\n",
              "        async function convertToInteractive(key) {\n",
              "          const element = document.querySelector('#df-01e055db-76bc-4b90-ba40-9dd02b6b91df');\n",
              "          const dataTable =\n",
              "            await google.colab.kernel.invokeFunction('convertToInteractive',\n",
              "                                                     [key], {});\n",
              "          if (!dataTable) return;\n",
              "\n",
              "          const docLinkHtml = 'Like what you see? Visit the ' +\n",
              "            '<a target=\"_blank\" href=https://colab.research.google.com/notebooks/data_table.ipynb>data table notebook</a>'\n",
              "            + ' to learn more about interactive tables.';\n",
              "          element.innerHTML = '';\n",
              "          dataTable['output_type'] = 'display_data';\n",
              "          await google.colab.output.renderOutput(dataTable, element);\n",
              "          const docLink = document.createElement('div');\n",
              "          docLink.innerHTML = docLinkHtml;\n",
              "          element.appendChild(docLink);\n",
              "        }\n",
              "      </script>\n",
              "    </div>\n",
              "  </div>\n",
              "  "
            ]
          },
          "metadata": {},
          "execution_count": 17
        }
      ]
    },
    {
      "cell_type": "code",
      "source": [
        "X = shoppingdf.iloc[:, 0:-1]\n",
        "y = shoppingdf[['Revenue']]"
      ],
      "metadata": {
        "id": "xoi3-tiOSwlu"
      },
      "execution_count": 18,
      "outputs": []
    },
    {
      "cell_type": "code",
      "source": [
        "X_train, X_test, y_train, y_test = train_test_split(X, y, test_size=.20, random_state=32)"
      ],
      "metadata": {
        "id": "7TuGrDiIV5He"
      },
      "execution_count": 19,
      "outputs": []
    },
    {
      "cell_type": "markdown",
      "source": [
        "#*Building the Pipeline(s)*"
      ],
      "metadata": {
        "id": "vdIPH0UUWJHb"
      }
    },
    {
      "cell_type": "code",
      "source": [
        "shoppingdf.columns"
      ],
      "metadata": {
        "colab": {
          "base_uri": "https://localhost:8080/"
        },
        "id": "adKWdIubYk27",
        "outputId": "3fb65a3f-fd6a-4506-ae87-b8bccf71b2c6"
      },
      "execution_count": 20,
      "outputs": [
        {
          "output_type": "execute_result",
          "data": {
            "text/plain": [
              "Index(['Administrative', 'Administrative_Duration', 'Informational',\n",
              "       'Informational_Duration', 'ProductRelated', 'ProductRelated_Duration',\n",
              "       'BounceRates', 'ExitRates', 'PageValues', 'SpecialDay', 'Month',\n",
              "       'OperatingSystems', 'Browser', 'Region', 'TrafficType', 'VisitorType',\n",
              "       'Weekend', 'Revenue'],\n",
              "      dtype='object')"
            ]
          },
          "metadata": {},
          "execution_count": 20
        }
      ]
    },
    {
      "cell_type": "code",
      "source": [
        "num_attribs = ['Administrative', 'Administrative_Duration', 'Informational', 'Informational_Duration', 'ProductRelated', 'ProductRelated_Duration', 'BounceRates', 'ExitRates', 'PageValues', 'SpecialDay', 'OperatingSystems', 'Browser', 'Region', 'TrafficType']\n",
        "cat_attribs = ['Month', 'VisitorType', 'Weekend']"
      ],
      "metadata": {
        "id": "Ls7CvtJnWPNk"
      },
      "execution_count": 21,
      "outputs": []
    },
    {
      "cell_type": "code",
      "source": [
        "col_transform = ColumnTransformer(transformers=[\n",
        "    ('num', MinMaxScaler(), num_attribs),\n",
        "    ('cat', OneHotEncoder(), cat_attribs),\n",
        "])"
      ],
      "metadata": {
        "id": "Tyij6nen5C2Q"
      },
      "execution_count": 22,
      "outputs": []
    },
    {
      "cell_type": "markdown",
      "source": [
        "*Logistic Regression*"
      ],
      "metadata": {
        "id": "ozJz2HuR6trq"
      }
    },
    {
      "cell_type": "code",
      "source": [
        "logistic = Pipeline([\n",
        "    ('transform', col_transform),\n",
        "    ('logisticReg', LogisticRegression(max_iter=1000)),\n",
        "])"
      ],
      "metadata": {
        "id": "Fxc319iv6xNd"
      },
      "execution_count": 23,
      "outputs": []
    },
    {
      "cell_type": "markdown",
      "source": [
        "*K-Nearest Neighbor*"
      ],
      "metadata": {
        "id": "7xsxKXYH7wYB"
      }
    },
    {
      "cell_type": "code",
      "source": [
        "knn = Pipeline([\n",
        "    ('transform', col_transform),\n",
        "    ('knn', KNeighborsClassifier(n_neighbors=3)),\n",
        "])"
      ],
      "metadata": {
        "id": "rX9aF3Z--CWo"
      },
      "execution_count": 24,
      "outputs": []
    },
    {
      "cell_type": "markdown",
      "source": [
        "*GridSearchCV*"
      ],
      "metadata": {
        "id": "eVMoozsNADPC"
      }
    },
    {
      "cell_type": "code",
      "source": [
        "parameters = {\n",
        "    'knn__n_neighbors':[3,6,8,11],\n",
        "    'knn__weights':['uniform','distance'],\n",
        "    'knn__leaf_size':[15,20]\n",
        "}"
      ],
      "metadata": {
        "id": "LU-hI1fYAHy9"
      },
      "execution_count": 25,
      "outputs": []
    },
    {
      "cell_type": "code",
      "source": [
        "grid_pipeline = GridSearchCV(knn, param_grid=parameters)"
      ],
      "metadata": {
        "id": "iSpIGJnuBBlE"
      },
      "execution_count": 26,
      "outputs": []
    },
    {
      "cell_type": "markdown",
      "source": [
        "#*Execute the Models*"
      ],
      "metadata": {
        "id": "awc-8jbeCPbW"
      }
    },
    {
      "cell_type": "markdown",
      "source": [
        "*Logistic Regression*"
      ],
      "metadata": {
        "id": "QmIBqT8KCVxK"
      }
    },
    {
      "cell_type": "code",
      "source": [
        "logistic.fit(X_train, np.ravel(y_train))"
      ],
      "metadata": {
        "colab": {
          "base_uri": "https://localhost:8080/",
          "height": 192
        },
        "id": "ULujfVsADVRD",
        "outputId": "27faf6f6-8342-40c1-f78f-81aa34773bfb"
      },
      "execution_count": 27,
      "outputs": [
        {
          "output_type": "execute_result",
          "data": {
            "text/plain": [
              "Pipeline(steps=[('transform',\n",
              "                 ColumnTransformer(transformers=[('num', MinMaxScaler(),\n",
              "                                                  ['Administrative',\n",
              "                                                   'Administrative_Duration',\n",
              "                                                   'Informational',\n",
              "                                                   'Informational_Duration',\n",
              "                                                   'ProductRelated',\n",
              "                                                   'ProductRelated_Duration',\n",
              "                                                   'BounceRates', 'ExitRates',\n",
              "                                                   'PageValues', 'SpecialDay',\n",
              "                                                   'OperatingSystems',\n",
              "                                                   'Browser', 'Region',\n",
              "                                                   'TrafficType']),\n",
              "                                                 ('cat', OneHotEncoder(),\n",
              "                                                  ['Month', 'VisitorType',\n",
              "                                                   'Weekend'])])),\n",
              "                ('logisticReg', LogisticRegression(max_iter=1000))])"
            ],
            "text/html": [
              "<style>#sk-2e7e2136-37d3-4784-9a21-40e2d5881fe4 {color: black;background-color: white;}#sk-2e7e2136-37d3-4784-9a21-40e2d5881fe4 pre{padding: 0;}#sk-2e7e2136-37d3-4784-9a21-40e2d5881fe4 div.sk-toggleable {background-color: white;}#sk-2e7e2136-37d3-4784-9a21-40e2d5881fe4 label.sk-toggleable__label {cursor: pointer;display: block;width: 100%;margin-bottom: 0;padding: 0.3em;box-sizing: border-box;text-align: center;}#sk-2e7e2136-37d3-4784-9a21-40e2d5881fe4 label.sk-toggleable__label-arrow:before {content: \"▸\";float: left;margin-right: 0.25em;color: #696969;}#sk-2e7e2136-37d3-4784-9a21-40e2d5881fe4 label.sk-toggleable__label-arrow:hover:before {color: black;}#sk-2e7e2136-37d3-4784-9a21-40e2d5881fe4 div.sk-estimator:hover label.sk-toggleable__label-arrow:before {color: black;}#sk-2e7e2136-37d3-4784-9a21-40e2d5881fe4 div.sk-toggleable__content {max-height: 0;max-width: 0;overflow: hidden;text-align: left;background-color: #f0f8ff;}#sk-2e7e2136-37d3-4784-9a21-40e2d5881fe4 div.sk-toggleable__content pre {margin: 0.2em;color: black;border-radius: 0.25em;background-color: #f0f8ff;}#sk-2e7e2136-37d3-4784-9a21-40e2d5881fe4 input.sk-toggleable__control:checked~div.sk-toggleable__content {max-height: 200px;max-width: 100%;overflow: auto;}#sk-2e7e2136-37d3-4784-9a21-40e2d5881fe4 input.sk-toggleable__control:checked~label.sk-toggleable__label-arrow:before {content: \"▾\";}#sk-2e7e2136-37d3-4784-9a21-40e2d5881fe4 div.sk-estimator input.sk-toggleable__control:checked~label.sk-toggleable__label {background-color: #d4ebff;}#sk-2e7e2136-37d3-4784-9a21-40e2d5881fe4 div.sk-label input.sk-toggleable__control:checked~label.sk-toggleable__label {background-color: #d4ebff;}#sk-2e7e2136-37d3-4784-9a21-40e2d5881fe4 input.sk-hidden--visually {border: 0;clip: rect(1px 1px 1px 1px);clip: rect(1px, 1px, 1px, 1px);height: 1px;margin: -1px;overflow: hidden;padding: 0;position: absolute;width: 1px;}#sk-2e7e2136-37d3-4784-9a21-40e2d5881fe4 div.sk-estimator {font-family: monospace;background-color: #f0f8ff;border: 1px dotted black;border-radius: 0.25em;box-sizing: border-box;margin-bottom: 0.5em;}#sk-2e7e2136-37d3-4784-9a21-40e2d5881fe4 div.sk-estimator:hover {background-color: #d4ebff;}#sk-2e7e2136-37d3-4784-9a21-40e2d5881fe4 div.sk-parallel-item::after {content: \"\";width: 100%;border-bottom: 1px solid gray;flex-grow: 1;}#sk-2e7e2136-37d3-4784-9a21-40e2d5881fe4 div.sk-label:hover label.sk-toggleable__label {background-color: #d4ebff;}#sk-2e7e2136-37d3-4784-9a21-40e2d5881fe4 div.sk-serial::before {content: \"\";position: absolute;border-left: 1px solid gray;box-sizing: border-box;top: 2em;bottom: 0;left: 50%;}#sk-2e7e2136-37d3-4784-9a21-40e2d5881fe4 div.sk-serial {display: flex;flex-direction: column;align-items: center;background-color: white;padding-right: 0.2em;padding-left: 0.2em;}#sk-2e7e2136-37d3-4784-9a21-40e2d5881fe4 div.sk-item {z-index: 1;}#sk-2e7e2136-37d3-4784-9a21-40e2d5881fe4 div.sk-parallel {display: flex;align-items: stretch;justify-content: center;background-color: white;}#sk-2e7e2136-37d3-4784-9a21-40e2d5881fe4 div.sk-parallel::before {content: \"\";position: absolute;border-left: 1px solid gray;box-sizing: border-box;top: 2em;bottom: 0;left: 50%;}#sk-2e7e2136-37d3-4784-9a21-40e2d5881fe4 div.sk-parallel-item {display: flex;flex-direction: column;position: relative;background-color: white;}#sk-2e7e2136-37d3-4784-9a21-40e2d5881fe4 div.sk-parallel-item:first-child::after {align-self: flex-end;width: 50%;}#sk-2e7e2136-37d3-4784-9a21-40e2d5881fe4 div.sk-parallel-item:last-child::after {align-self: flex-start;width: 50%;}#sk-2e7e2136-37d3-4784-9a21-40e2d5881fe4 div.sk-parallel-item:only-child::after {width: 0;}#sk-2e7e2136-37d3-4784-9a21-40e2d5881fe4 div.sk-dashed-wrapped {border: 1px dashed gray;margin: 0 0.4em 0.5em 0.4em;box-sizing: border-box;padding-bottom: 0.4em;background-color: white;position: relative;}#sk-2e7e2136-37d3-4784-9a21-40e2d5881fe4 div.sk-label label {font-family: monospace;font-weight: bold;background-color: white;display: inline-block;line-height: 1.2em;}#sk-2e7e2136-37d3-4784-9a21-40e2d5881fe4 div.sk-label-container {position: relative;z-index: 2;text-align: center;}#sk-2e7e2136-37d3-4784-9a21-40e2d5881fe4 div.sk-container {/* jupyter's `normalize.less` sets `[hidden] { display: none; }` but bootstrap.min.css set `[hidden] { display: none !important; }` so we also need the `!important` here to be able to override the default hidden behavior on the sphinx rendered scikit-learn.org. See: https://github.com/scikit-learn/scikit-learn/issues/21755 */display: inline-block !important;position: relative;}#sk-2e7e2136-37d3-4784-9a21-40e2d5881fe4 div.sk-text-repr-fallback {display: none;}</style><div id=\"sk-2e7e2136-37d3-4784-9a21-40e2d5881fe4\" class=\"sk-top-container\"><div class=\"sk-text-repr-fallback\"><pre>Pipeline(steps=[(&#x27;transform&#x27;,\n",
              "                 ColumnTransformer(transformers=[(&#x27;num&#x27;, MinMaxScaler(),\n",
              "                                                  [&#x27;Administrative&#x27;,\n",
              "                                                   &#x27;Administrative_Duration&#x27;,\n",
              "                                                   &#x27;Informational&#x27;,\n",
              "                                                   &#x27;Informational_Duration&#x27;,\n",
              "                                                   &#x27;ProductRelated&#x27;,\n",
              "                                                   &#x27;ProductRelated_Duration&#x27;,\n",
              "                                                   &#x27;BounceRates&#x27;, &#x27;ExitRates&#x27;,\n",
              "                                                   &#x27;PageValues&#x27;, &#x27;SpecialDay&#x27;,\n",
              "                                                   &#x27;OperatingSystems&#x27;,\n",
              "                                                   &#x27;Browser&#x27;, &#x27;Region&#x27;,\n",
              "                                                   &#x27;TrafficType&#x27;]),\n",
              "                                                 (&#x27;cat&#x27;, OneHotEncoder(),\n",
              "                                                  [&#x27;Month&#x27;, &#x27;VisitorType&#x27;,\n",
              "                                                   &#x27;Weekend&#x27;])])),\n",
              "                (&#x27;logisticReg&#x27;, LogisticRegression(max_iter=1000))])</pre><b>Please rerun this cell to show the HTML repr or trust the notebook.</b></div><div class=\"sk-container\" hidden><div class=\"sk-item sk-dashed-wrapped\"><div class=\"sk-label-container\"><div class=\"sk-label sk-toggleable\"><input class=\"sk-toggleable__control sk-hidden--visually\" id=\"0b44c60d-4386-4960-986a-9804317645d1\" type=\"checkbox\" ><label for=\"0b44c60d-4386-4960-986a-9804317645d1\" class=\"sk-toggleable__label sk-toggleable__label-arrow\">Pipeline</label><div class=\"sk-toggleable__content\"><pre>Pipeline(steps=[(&#x27;transform&#x27;,\n",
              "                 ColumnTransformer(transformers=[(&#x27;num&#x27;, MinMaxScaler(),\n",
              "                                                  [&#x27;Administrative&#x27;,\n",
              "                                                   &#x27;Administrative_Duration&#x27;,\n",
              "                                                   &#x27;Informational&#x27;,\n",
              "                                                   &#x27;Informational_Duration&#x27;,\n",
              "                                                   &#x27;ProductRelated&#x27;,\n",
              "                                                   &#x27;ProductRelated_Duration&#x27;,\n",
              "                                                   &#x27;BounceRates&#x27;, &#x27;ExitRates&#x27;,\n",
              "                                                   &#x27;PageValues&#x27;, &#x27;SpecialDay&#x27;,\n",
              "                                                   &#x27;OperatingSystems&#x27;,\n",
              "                                                   &#x27;Browser&#x27;, &#x27;Region&#x27;,\n",
              "                                                   &#x27;TrafficType&#x27;]),\n",
              "                                                 (&#x27;cat&#x27;, OneHotEncoder(),\n",
              "                                                  [&#x27;Month&#x27;, &#x27;VisitorType&#x27;,\n",
              "                                                   &#x27;Weekend&#x27;])])),\n",
              "                (&#x27;logisticReg&#x27;, LogisticRegression(max_iter=1000))])</pre></div></div></div><div class=\"sk-serial\"><div class=\"sk-item sk-dashed-wrapped\"><div class=\"sk-label-container\"><div class=\"sk-label sk-toggleable\"><input class=\"sk-toggleable__control sk-hidden--visually\" id=\"969a7d35-4ead-4797-b365-03ac90efd5c2\" type=\"checkbox\" ><label for=\"969a7d35-4ead-4797-b365-03ac90efd5c2\" class=\"sk-toggleable__label sk-toggleable__label-arrow\">transform: ColumnTransformer</label><div class=\"sk-toggleable__content\"><pre>ColumnTransformer(transformers=[(&#x27;num&#x27;, MinMaxScaler(),\n",
              "                                 [&#x27;Administrative&#x27;, &#x27;Administrative_Duration&#x27;,\n",
              "                                  &#x27;Informational&#x27;, &#x27;Informational_Duration&#x27;,\n",
              "                                  &#x27;ProductRelated&#x27;, &#x27;ProductRelated_Duration&#x27;,\n",
              "                                  &#x27;BounceRates&#x27;, &#x27;ExitRates&#x27;, &#x27;PageValues&#x27;,\n",
              "                                  &#x27;SpecialDay&#x27;, &#x27;OperatingSystems&#x27;, &#x27;Browser&#x27;,\n",
              "                                  &#x27;Region&#x27;, &#x27;TrafficType&#x27;]),\n",
              "                                (&#x27;cat&#x27;, OneHotEncoder(),\n",
              "                                 [&#x27;Month&#x27;, &#x27;VisitorType&#x27;, &#x27;Weekend&#x27;])])</pre></div></div></div><div class=\"sk-parallel\"><div class=\"sk-parallel-item\"><div class=\"sk-item\"><div class=\"sk-label-container\"><div class=\"sk-label sk-toggleable\"><input class=\"sk-toggleable__control sk-hidden--visually\" id=\"1b501281-9ff5-4287-a529-edad82250cad\" type=\"checkbox\" ><label for=\"1b501281-9ff5-4287-a529-edad82250cad\" class=\"sk-toggleable__label sk-toggleable__label-arrow\">num</label><div class=\"sk-toggleable__content\"><pre>[&#x27;Administrative&#x27;, &#x27;Administrative_Duration&#x27;, &#x27;Informational&#x27;, &#x27;Informational_Duration&#x27;, &#x27;ProductRelated&#x27;, &#x27;ProductRelated_Duration&#x27;, &#x27;BounceRates&#x27;, &#x27;ExitRates&#x27;, &#x27;PageValues&#x27;, &#x27;SpecialDay&#x27;, &#x27;OperatingSystems&#x27;, &#x27;Browser&#x27;, &#x27;Region&#x27;, &#x27;TrafficType&#x27;]</pre></div></div></div><div class=\"sk-serial\"><div class=\"sk-item\"><div class=\"sk-estimator sk-toggleable\"><input class=\"sk-toggleable__control sk-hidden--visually\" id=\"5276adef-71b3-4298-b2d2-3f70ab7e50c2\" type=\"checkbox\" ><label for=\"5276adef-71b3-4298-b2d2-3f70ab7e50c2\" class=\"sk-toggleable__label sk-toggleable__label-arrow\">MinMaxScaler</label><div class=\"sk-toggleable__content\"><pre>MinMaxScaler()</pre></div></div></div></div></div></div><div class=\"sk-parallel-item\"><div class=\"sk-item\"><div class=\"sk-label-container\"><div class=\"sk-label sk-toggleable\"><input class=\"sk-toggleable__control sk-hidden--visually\" id=\"76876b74-3c71-4a97-9dae-6e1a2fccde95\" type=\"checkbox\" ><label for=\"76876b74-3c71-4a97-9dae-6e1a2fccde95\" class=\"sk-toggleable__label sk-toggleable__label-arrow\">cat</label><div class=\"sk-toggleable__content\"><pre>[&#x27;Month&#x27;, &#x27;VisitorType&#x27;, &#x27;Weekend&#x27;]</pre></div></div></div><div class=\"sk-serial\"><div class=\"sk-item\"><div class=\"sk-estimator sk-toggleable\"><input class=\"sk-toggleable__control sk-hidden--visually\" id=\"1f22f3e4-720a-4e89-8571-f17c2ceea00d\" type=\"checkbox\" ><label for=\"1f22f3e4-720a-4e89-8571-f17c2ceea00d\" class=\"sk-toggleable__label sk-toggleable__label-arrow\">OneHotEncoder</label><div class=\"sk-toggleable__content\"><pre>OneHotEncoder()</pre></div></div></div></div></div></div></div></div><div class=\"sk-item\"><div class=\"sk-estimator sk-toggleable\"><input class=\"sk-toggleable__control sk-hidden--visually\" id=\"a31297f9-6bdf-4c11-8b5b-67873802474a\" type=\"checkbox\" ><label for=\"a31297f9-6bdf-4c11-8b5b-67873802474a\" class=\"sk-toggleable__label sk-toggleable__label-arrow\">LogisticRegression</label><div class=\"sk-toggleable__content\"><pre>LogisticRegression(max_iter=1000)</pre></div></div></div></div></div></div></div>"
            ]
          },
          "metadata": {},
          "execution_count": 27
        }
      ]
    },
    {
      "cell_type": "markdown",
      "source": [
        "*K-Nearest Neighbor*"
      ],
      "metadata": {
        "id": "kEbN8E-jK4uE"
      }
    },
    {
      "cell_type": "code",
      "source": [
        "knn.fit(X_train, np.ravel(y_train))"
      ],
      "metadata": {
        "colab": {
          "base_uri": "https://localhost:8080/",
          "height": 192
        },
        "id": "x5KA45JXK-xf",
        "outputId": "87dfcf9f-892d-4548-ce70-964dbe358671"
      },
      "execution_count": 28,
      "outputs": [
        {
          "output_type": "execute_result",
          "data": {
            "text/plain": [
              "Pipeline(steps=[('transform',\n",
              "                 ColumnTransformer(transformers=[('num', MinMaxScaler(),\n",
              "                                                  ['Administrative',\n",
              "                                                   'Administrative_Duration',\n",
              "                                                   'Informational',\n",
              "                                                   'Informational_Duration',\n",
              "                                                   'ProductRelated',\n",
              "                                                   'ProductRelated_Duration',\n",
              "                                                   'BounceRates', 'ExitRates',\n",
              "                                                   'PageValues', 'SpecialDay',\n",
              "                                                   'OperatingSystems',\n",
              "                                                   'Browser', 'Region',\n",
              "                                                   'TrafficType']),\n",
              "                                                 ('cat', OneHotEncoder(),\n",
              "                                                  ['Month', 'VisitorType',\n",
              "                                                   'Weekend'])])),\n",
              "                ('knn', KNeighborsClassifier(n_neighbors=3))])"
            ],
            "text/html": [
              "<style>#sk-18ef74c0-32e7-4e77-abfc-01c95c1af2e8 {color: black;background-color: white;}#sk-18ef74c0-32e7-4e77-abfc-01c95c1af2e8 pre{padding: 0;}#sk-18ef74c0-32e7-4e77-abfc-01c95c1af2e8 div.sk-toggleable {background-color: white;}#sk-18ef74c0-32e7-4e77-abfc-01c95c1af2e8 label.sk-toggleable__label {cursor: pointer;display: block;width: 100%;margin-bottom: 0;padding: 0.3em;box-sizing: border-box;text-align: center;}#sk-18ef74c0-32e7-4e77-abfc-01c95c1af2e8 label.sk-toggleable__label-arrow:before {content: \"▸\";float: left;margin-right: 0.25em;color: #696969;}#sk-18ef74c0-32e7-4e77-abfc-01c95c1af2e8 label.sk-toggleable__label-arrow:hover:before {color: black;}#sk-18ef74c0-32e7-4e77-abfc-01c95c1af2e8 div.sk-estimator:hover label.sk-toggleable__label-arrow:before {color: black;}#sk-18ef74c0-32e7-4e77-abfc-01c95c1af2e8 div.sk-toggleable__content {max-height: 0;max-width: 0;overflow: hidden;text-align: left;background-color: #f0f8ff;}#sk-18ef74c0-32e7-4e77-abfc-01c95c1af2e8 div.sk-toggleable__content pre {margin: 0.2em;color: black;border-radius: 0.25em;background-color: #f0f8ff;}#sk-18ef74c0-32e7-4e77-abfc-01c95c1af2e8 input.sk-toggleable__control:checked~div.sk-toggleable__content {max-height: 200px;max-width: 100%;overflow: auto;}#sk-18ef74c0-32e7-4e77-abfc-01c95c1af2e8 input.sk-toggleable__control:checked~label.sk-toggleable__label-arrow:before {content: \"▾\";}#sk-18ef74c0-32e7-4e77-abfc-01c95c1af2e8 div.sk-estimator input.sk-toggleable__control:checked~label.sk-toggleable__label {background-color: #d4ebff;}#sk-18ef74c0-32e7-4e77-abfc-01c95c1af2e8 div.sk-label input.sk-toggleable__control:checked~label.sk-toggleable__label {background-color: #d4ebff;}#sk-18ef74c0-32e7-4e77-abfc-01c95c1af2e8 input.sk-hidden--visually {border: 0;clip: rect(1px 1px 1px 1px);clip: rect(1px, 1px, 1px, 1px);height: 1px;margin: -1px;overflow: hidden;padding: 0;position: absolute;width: 1px;}#sk-18ef74c0-32e7-4e77-abfc-01c95c1af2e8 div.sk-estimator {font-family: monospace;background-color: #f0f8ff;border: 1px dotted black;border-radius: 0.25em;box-sizing: border-box;margin-bottom: 0.5em;}#sk-18ef74c0-32e7-4e77-abfc-01c95c1af2e8 div.sk-estimator:hover {background-color: #d4ebff;}#sk-18ef74c0-32e7-4e77-abfc-01c95c1af2e8 div.sk-parallel-item::after {content: \"\";width: 100%;border-bottom: 1px solid gray;flex-grow: 1;}#sk-18ef74c0-32e7-4e77-abfc-01c95c1af2e8 div.sk-label:hover label.sk-toggleable__label {background-color: #d4ebff;}#sk-18ef74c0-32e7-4e77-abfc-01c95c1af2e8 div.sk-serial::before {content: \"\";position: absolute;border-left: 1px solid gray;box-sizing: border-box;top: 2em;bottom: 0;left: 50%;}#sk-18ef74c0-32e7-4e77-abfc-01c95c1af2e8 div.sk-serial {display: flex;flex-direction: column;align-items: center;background-color: white;padding-right: 0.2em;padding-left: 0.2em;}#sk-18ef74c0-32e7-4e77-abfc-01c95c1af2e8 div.sk-item {z-index: 1;}#sk-18ef74c0-32e7-4e77-abfc-01c95c1af2e8 div.sk-parallel {display: flex;align-items: stretch;justify-content: center;background-color: white;}#sk-18ef74c0-32e7-4e77-abfc-01c95c1af2e8 div.sk-parallel::before {content: \"\";position: absolute;border-left: 1px solid gray;box-sizing: border-box;top: 2em;bottom: 0;left: 50%;}#sk-18ef74c0-32e7-4e77-abfc-01c95c1af2e8 div.sk-parallel-item {display: flex;flex-direction: column;position: relative;background-color: white;}#sk-18ef74c0-32e7-4e77-abfc-01c95c1af2e8 div.sk-parallel-item:first-child::after {align-self: flex-end;width: 50%;}#sk-18ef74c0-32e7-4e77-abfc-01c95c1af2e8 div.sk-parallel-item:last-child::after {align-self: flex-start;width: 50%;}#sk-18ef74c0-32e7-4e77-abfc-01c95c1af2e8 div.sk-parallel-item:only-child::after {width: 0;}#sk-18ef74c0-32e7-4e77-abfc-01c95c1af2e8 div.sk-dashed-wrapped {border: 1px dashed gray;margin: 0 0.4em 0.5em 0.4em;box-sizing: border-box;padding-bottom: 0.4em;background-color: white;position: relative;}#sk-18ef74c0-32e7-4e77-abfc-01c95c1af2e8 div.sk-label label {font-family: monospace;font-weight: bold;background-color: white;display: inline-block;line-height: 1.2em;}#sk-18ef74c0-32e7-4e77-abfc-01c95c1af2e8 div.sk-label-container {position: relative;z-index: 2;text-align: center;}#sk-18ef74c0-32e7-4e77-abfc-01c95c1af2e8 div.sk-container {/* jupyter's `normalize.less` sets `[hidden] { display: none; }` but bootstrap.min.css set `[hidden] { display: none !important; }` so we also need the `!important` here to be able to override the default hidden behavior on the sphinx rendered scikit-learn.org. See: https://github.com/scikit-learn/scikit-learn/issues/21755 */display: inline-block !important;position: relative;}#sk-18ef74c0-32e7-4e77-abfc-01c95c1af2e8 div.sk-text-repr-fallback {display: none;}</style><div id=\"sk-18ef74c0-32e7-4e77-abfc-01c95c1af2e8\" class=\"sk-top-container\"><div class=\"sk-text-repr-fallback\"><pre>Pipeline(steps=[(&#x27;transform&#x27;,\n",
              "                 ColumnTransformer(transformers=[(&#x27;num&#x27;, MinMaxScaler(),\n",
              "                                                  [&#x27;Administrative&#x27;,\n",
              "                                                   &#x27;Administrative_Duration&#x27;,\n",
              "                                                   &#x27;Informational&#x27;,\n",
              "                                                   &#x27;Informational_Duration&#x27;,\n",
              "                                                   &#x27;ProductRelated&#x27;,\n",
              "                                                   &#x27;ProductRelated_Duration&#x27;,\n",
              "                                                   &#x27;BounceRates&#x27;, &#x27;ExitRates&#x27;,\n",
              "                                                   &#x27;PageValues&#x27;, &#x27;SpecialDay&#x27;,\n",
              "                                                   &#x27;OperatingSystems&#x27;,\n",
              "                                                   &#x27;Browser&#x27;, &#x27;Region&#x27;,\n",
              "                                                   &#x27;TrafficType&#x27;]),\n",
              "                                                 (&#x27;cat&#x27;, OneHotEncoder(),\n",
              "                                                  [&#x27;Month&#x27;, &#x27;VisitorType&#x27;,\n",
              "                                                   &#x27;Weekend&#x27;])])),\n",
              "                (&#x27;knn&#x27;, KNeighborsClassifier(n_neighbors=3))])</pre><b>Please rerun this cell to show the HTML repr or trust the notebook.</b></div><div class=\"sk-container\" hidden><div class=\"sk-item sk-dashed-wrapped\"><div class=\"sk-label-container\"><div class=\"sk-label sk-toggleable\"><input class=\"sk-toggleable__control sk-hidden--visually\" id=\"b3623392-d426-47bb-8426-18b8b78db08e\" type=\"checkbox\" ><label for=\"b3623392-d426-47bb-8426-18b8b78db08e\" class=\"sk-toggleable__label sk-toggleable__label-arrow\">Pipeline</label><div class=\"sk-toggleable__content\"><pre>Pipeline(steps=[(&#x27;transform&#x27;,\n",
              "                 ColumnTransformer(transformers=[(&#x27;num&#x27;, MinMaxScaler(),\n",
              "                                                  [&#x27;Administrative&#x27;,\n",
              "                                                   &#x27;Administrative_Duration&#x27;,\n",
              "                                                   &#x27;Informational&#x27;,\n",
              "                                                   &#x27;Informational_Duration&#x27;,\n",
              "                                                   &#x27;ProductRelated&#x27;,\n",
              "                                                   &#x27;ProductRelated_Duration&#x27;,\n",
              "                                                   &#x27;BounceRates&#x27;, &#x27;ExitRates&#x27;,\n",
              "                                                   &#x27;PageValues&#x27;, &#x27;SpecialDay&#x27;,\n",
              "                                                   &#x27;OperatingSystems&#x27;,\n",
              "                                                   &#x27;Browser&#x27;, &#x27;Region&#x27;,\n",
              "                                                   &#x27;TrafficType&#x27;]),\n",
              "                                                 (&#x27;cat&#x27;, OneHotEncoder(),\n",
              "                                                  [&#x27;Month&#x27;, &#x27;VisitorType&#x27;,\n",
              "                                                   &#x27;Weekend&#x27;])])),\n",
              "                (&#x27;knn&#x27;, KNeighborsClassifier(n_neighbors=3))])</pre></div></div></div><div class=\"sk-serial\"><div class=\"sk-item sk-dashed-wrapped\"><div class=\"sk-label-container\"><div class=\"sk-label sk-toggleable\"><input class=\"sk-toggleable__control sk-hidden--visually\" id=\"3a96cf6a-dfe0-48a4-9a45-178cb149b372\" type=\"checkbox\" ><label for=\"3a96cf6a-dfe0-48a4-9a45-178cb149b372\" class=\"sk-toggleable__label sk-toggleable__label-arrow\">transform: ColumnTransformer</label><div class=\"sk-toggleable__content\"><pre>ColumnTransformer(transformers=[(&#x27;num&#x27;, MinMaxScaler(),\n",
              "                                 [&#x27;Administrative&#x27;, &#x27;Administrative_Duration&#x27;,\n",
              "                                  &#x27;Informational&#x27;, &#x27;Informational_Duration&#x27;,\n",
              "                                  &#x27;ProductRelated&#x27;, &#x27;ProductRelated_Duration&#x27;,\n",
              "                                  &#x27;BounceRates&#x27;, &#x27;ExitRates&#x27;, &#x27;PageValues&#x27;,\n",
              "                                  &#x27;SpecialDay&#x27;, &#x27;OperatingSystems&#x27;, &#x27;Browser&#x27;,\n",
              "                                  &#x27;Region&#x27;, &#x27;TrafficType&#x27;]),\n",
              "                                (&#x27;cat&#x27;, OneHotEncoder(),\n",
              "                                 [&#x27;Month&#x27;, &#x27;VisitorType&#x27;, &#x27;Weekend&#x27;])])</pre></div></div></div><div class=\"sk-parallel\"><div class=\"sk-parallel-item\"><div class=\"sk-item\"><div class=\"sk-label-container\"><div class=\"sk-label sk-toggleable\"><input class=\"sk-toggleable__control sk-hidden--visually\" id=\"dfddf4b6-5553-4bd3-9a28-b6f527365223\" type=\"checkbox\" ><label for=\"dfddf4b6-5553-4bd3-9a28-b6f527365223\" class=\"sk-toggleable__label sk-toggleable__label-arrow\">num</label><div class=\"sk-toggleable__content\"><pre>[&#x27;Administrative&#x27;, &#x27;Administrative_Duration&#x27;, &#x27;Informational&#x27;, &#x27;Informational_Duration&#x27;, &#x27;ProductRelated&#x27;, &#x27;ProductRelated_Duration&#x27;, &#x27;BounceRates&#x27;, &#x27;ExitRates&#x27;, &#x27;PageValues&#x27;, &#x27;SpecialDay&#x27;, &#x27;OperatingSystems&#x27;, &#x27;Browser&#x27;, &#x27;Region&#x27;, &#x27;TrafficType&#x27;]</pre></div></div></div><div class=\"sk-serial\"><div class=\"sk-item\"><div class=\"sk-estimator sk-toggleable\"><input class=\"sk-toggleable__control sk-hidden--visually\" id=\"e851ef53-7624-4f90-bb82-fcf18fa3e684\" type=\"checkbox\" ><label for=\"e851ef53-7624-4f90-bb82-fcf18fa3e684\" class=\"sk-toggleable__label sk-toggleable__label-arrow\">MinMaxScaler</label><div class=\"sk-toggleable__content\"><pre>MinMaxScaler()</pre></div></div></div></div></div></div><div class=\"sk-parallel-item\"><div class=\"sk-item\"><div class=\"sk-label-container\"><div class=\"sk-label sk-toggleable\"><input class=\"sk-toggleable__control sk-hidden--visually\" id=\"ac7f065f-97c6-48a4-a060-51cf5785f320\" type=\"checkbox\" ><label for=\"ac7f065f-97c6-48a4-a060-51cf5785f320\" class=\"sk-toggleable__label sk-toggleable__label-arrow\">cat</label><div class=\"sk-toggleable__content\"><pre>[&#x27;Month&#x27;, &#x27;VisitorType&#x27;, &#x27;Weekend&#x27;]</pre></div></div></div><div class=\"sk-serial\"><div class=\"sk-item\"><div class=\"sk-estimator sk-toggleable\"><input class=\"sk-toggleable__control sk-hidden--visually\" id=\"1806620a-e2cf-4e27-aad3-0d43a0849d00\" type=\"checkbox\" ><label for=\"1806620a-e2cf-4e27-aad3-0d43a0849d00\" class=\"sk-toggleable__label sk-toggleable__label-arrow\">OneHotEncoder</label><div class=\"sk-toggleable__content\"><pre>OneHotEncoder()</pre></div></div></div></div></div></div></div></div><div class=\"sk-item\"><div class=\"sk-estimator sk-toggleable\"><input class=\"sk-toggleable__control sk-hidden--visually\" id=\"fb75eae7-1fde-4922-867d-b9c0effde4bf\" type=\"checkbox\" ><label for=\"fb75eae7-1fde-4922-867d-b9c0effde4bf\" class=\"sk-toggleable__label sk-toggleable__label-arrow\">KNeighborsClassifier</label><div class=\"sk-toggleable__content\"><pre>KNeighborsClassifier(n_neighbors=3)</pre></div></div></div></div></div></div></div>"
            ]
          },
          "metadata": {},
          "execution_count": 28
        }
      ]
    },
    {
      "cell_type": "markdown",
      "source": [
        "*GridSearchCV*"
      ],
      "metadata": {
        "id": "XlflzBwuMQsi"
      }
    },
    {
      "cell_type": "code",
      "source": [
        "grid_pipeline.fit(X_train, np.ravel(y_train))"
      ],
      "metadata": {
        "colab": {
          "base_uri": "https://localhost:8080/",
          "height": 193
        },
        "id": "JlVzbxzAMYl0",
        "outputId": "a3134f61-bc53-46d9-df21-b2143f6c7cda"
      },
      "execution_count": 29,
      "outputs": [
        {
          "output_type": "execute_result",
          "data": {
            "text/plain": [
              "GridSearchCV(estimator=Pipeline(steps=[('transform',\n",
              "                                        ColumnTransformer(transformers=[('num',\n",
              "                                                                         MinMaxScaler(),\n",
              "                                                                         ['Administrative',\n",
              "                                                                          'Administrative_Duration',\n",
              "                                                                          'Informational',\n",
              "                                                                          'Informational_Duration',\n",
              "                                                                          'ProductRelated',\n",
              "                                                                          'ProductRelated_Duration',\n",
              "                                                                          'BounceRates',\n",
              "                                                                          'ExitRates',\n",
              "                                                                          'PageValues',\n",
              "                                                                          'SpecialDay',\n",
              "                                                                          'OperatingSystems',\n",
              "                                                                          'Browser',\n",
              "                                                                          'Region',\n",
              "                                                                          'TrafficType']),\n",
              "                                                                        ('cat',\n",
              "                                                                         OneHotEncoder(),\n",
              "                                                                         ['Month',\n",
              "                                                                          'VisitorType',\n",
              "                                                                          'Weekend'])])),\n",
              "                                       ('knn',\n",
              "                                        KNeighborsClassifier(n_neighbors=3))]),\n",
              "             param_grid={'knn__leaf_size': [15, 20],\n",
              "                         'knn__n_neighbors': [3, 6, 8, 11],\n",
              "                         'knn__weights': ['uniform', 'distance']})"
            ],
            "text/html": [
              "<style>#sk-1816cc7b-b639-489e-a300-b1e7c1f9a7bb {color: black;background-color: white;}#sk-1816cc7b-b639-489e-a300-b1e7c1f9a7bb pre{padding: 0;}#sk-1816cc7b-b639-489e-a300-b1e7c1f9a7bb div.sk-toggleable {background-color: white;}#sk-1816cc7b-b639-489e-a300-b1e7c1f9a7bb label.sk-toggleable__label {cursor: pointer;display: block;width: 100%;margin-bottom: 0;padding: 0.3em;box-sizing: border-box;text-align: center;}#sk-1816cc7b-b639-489e-a300-b1e7c1f9a7bb label.sk-toggleable__label-arrow:before {content: \"▸\";float: left;margin-right: 0.25em;color: #696969;}#sk-1816cc7b-b639-489e-a300-b1e7c1f9a7bb label.sk-toggleable__label-arrow:hover:before {color: black;}#sk-1816cc7b-b639-489e-a300-b1e7c1f9a7bb div.sk-estimator:hover label.sk-toggleable__label-arrow:before {color: black;}#sk-1816cc7b-b639-489e-a300-b1e7c1f9a7bb div.sk-toggleable__content {max-height: 0;max-width: 0;overflow: hidden;text-align: left;background-color: #f0f8ff;}#sk-1816cc7b-b639-489e-a300-b1e7c1f9a7bb div.sk-toggleable__content pre {margin: 0.2em;color: black;border-radius: 0.25em;background-color: #f0f8ff;}#sk-1816cc7b-b639-489e-a300-b1e7c1f9a7bb input.sk-toggleable__control:checked~div.sk-toggleable__content {max-height: 200px;max-width: 100%;overflow: auto;}#sk-1816cc7b-b639-489e-a300-b1e7c1f9a7bb input.sk-toggleable__control:checked~label.sk-toggleable__label-arrow:before {content: \"▾\";}#sk-1816cc7b-b639-489e-a300-b1e7c1f9a7bb div.sk-estimator input.sk-toggleable__control:checked~label.sk-toggleable__label {background-color: #d4ebff;}#sk-1816cc7b-b639-489e-a300-b1e7c1f9a7bb div.sk-label input.sk-toggleable__control:checked~label.sk-toggleable__label {background-color: #d4ebff;}#sk-1816cc7b-b639-489e-a300-b1e7c1f9a7bb input.sk-hidden--visually {border: 0;clip: rect(1px 1px 1px 1px);clip: rect(1px, 1px, 1px, 1px);height: 1px;margin: -1px;overflow: hidden;padding: 0;position: absolute;width: 1px;}#sk-1816cc7b-b639-489e-a300-b1e7c1f9a7bb div.sk-estimator {font-family: monospace;background-color: #f0f8ff;border: 1px dotted black;border-radius: 0.25em;box-sizing: border-box;margin-bottom: 0.5em;}#sk-1816cc7b-b639-489e-a300-b1e7c1f9a7bb div.sk-estimator:hover {background-color: #d4ebff;}#sk-1816cc7b-b639-489e-a300-b1e7c1f9a7bb div.sk-parallel-item::after {content: \"\";width: 100%;border-bottom: 1px solid gray;flex-grow: 1;}#sk-1816cc7b-b639-489e-a300-b1e7c1f9a7bb div.sk-label:hover label.sk-toggleable__label {background-color: #d4ebff;}#sk-1816cc7b-b639-489e-a300-b1e7c1f9a7bb div.sk-serial::before {content: \"\";position: absolute;border-left: 1px solid gray;box-sizing: border-box;top: 2em;bottom: 0;left: 50%;}#sk-1816cc7b-b639-489e-a300-b1e7c1f9a7bb div.sk-serial {display: flex;flex-direction: column;align-items: center;background-color: white;padding-right: 0.2em;padding-left: 0.2em;}#sk-1816cc7b-b639-489e-a300-b1e7c1f9a7bb div.sk-item {z-index: 1;}#sk-1816cc7b-b639-489e-a300-b1e7c1f9a7bb div.sk-parallel {display: flex;align-items: stretch;justify-content: center;background-color: white;}#sk-1816cc7b-b639-489e-a300-b1e7c1f9a7bb div.sk-parallel::before {content: \"\";position: absolute;border-left: 1px solid gray;box-sizing: border-box;top: 2em;bottom: 0;left: 50%;}#sk-1816cc7b-b639-489e-a300-b1e7c1f9a7bb div.sk-parallel-item {display: flex;flex-direction: column;position: relative;background-color: white;}#sk-1816cc7b-b639-489e-a300-b1e7c1f9a7bb div.sk-parallel-item:first-child::after {align-self: flex-end;width: 50%;}#sk-1816cc7b-b639-489e-a300-b1e7c1f9a7bb div.sk-parallel-item:last-child::after {align-self: flex-start;width: 50%;}#sk-1816cc7b-b639-489e-a300-b1e7c1f9a7bb div.sk-parallel-item:only-child::after {width: 0;}#sk-1816cc7b-b639-489e-a300-b1e7c1f9a7bb div.sk-dashed-wrapped {border: 1px dashed gray;margin: 0 0.4em 0.5em 0.4em;box-sizing: border-box;padding-bottom: 0.4em;background-color: white;position: relative;}#sk-1816cc7b-b639-489e-a300-b1e7c1f9a7bb div.sk-label label {font-family: monospace;font-weight: bold;background-color: white;display: inline-block;line-height: 1.2em;}#sk-1816cc7b-b639-489e-a300-b1e7c1f9a7bb div.sk-label-container {position: relative;z-index: 2;text-align: center;}#sk-1816cc7b-b639-489e-a300-b1e7c1f9a7bb div.sk-container {/* jupyter's `normalize.less` sets `[hidden] { display: none; }` but bootstrap.min.css set `[hidden] { display: none !important; }` so we also need the `!important` here to be able to override the default hidden behavior on the sphinx rendered scikit-learn.org. See: https://github.com/scikit-learn/scikit-learn/issues/21755 */display: inline-block !important;position: relative;}#sk-1816cc7b-b639-489e-a300-b1e7c1f9a7bb div.sk-text-repr-fallback {display: none;}</style><div id=\"sk-1816cc7b-b639-489e-a300-b1e7c1f9a7bb\" class=\"sk-top-container\"><div class=\"sk-text-repr-fallback\"><pre>GridSearchCV(estimator=Pipeline(steps=[(&#x27;transform&#x27;,\n",
              "                                        ColumnTransformer(transformers=[(&#x27;num&#x27;,\n",
              "                                                                         MinMaxScaler(),\n",
              "                                                                         [&#x27;Administrative&#x27;,\n",
              "                                                                          &#x27;Administrative_Duration&#x27;,\n",
              "                                                                          &#x27;Informational&#x27;,\n",
              "                                                                          &#x27;Informational_Duration&#x27;,\n",
              "                                                                          &#x27;ProductRelated&#x27;,\n",
              "                                                                          &#x27;ProductRelated_Duration&#x27;,\n",
              "                                                                          &#x27;BounceRates&#x27;,\n",
              "                                                                          &#x27;ExitRates&#x27;,\n",
              "                                                                          &#x27;PageValues&#x27;,\n",
              "                                                                          &#x27;SpecialDay&#x27;,\n",
              "                                                                          &#x27;OperatingSystems&#x27;,\n",
              "                                                                          &#x27;Browser&#x27;,\n",
              "                                                                          &#x27;Region&#x27;,\n",
              "                                                                          &#x27;TrafficType&#x27;]),\n",
              "                                                                        (&#x27;cat&#x27;,\n",
              "                                                                         OneHotEncoder(),\n",
              "                                                                         [&#x27;Month&#x27;,\n",
              "                                                                          &#x27;VisitorType&#x27;,\n",
              "                                                                          &#x27;Weekend&#x27;])])),\n",
              "                                       (&#x27;knn&#x27;,\n",
              "                                        KNeighborsClassifier(n_neighbors=3))]),\n",
              "             param_grid={&#x27;knn__leaf_size&#x27;: [15, 20],\n",
              "                         &#x27;knn__n_neighbors&#x27;: [3, 6, 8, 11],\n",
              "                         &#x27;knn__weights&#x27;: [&#x27;uniform&#x27;, &#x27;distance&#x27;]})</pre><b>Please rerun this cell to show the HTML repr or trust the notebook.</b></div><div class=\"sk-container\" hidden><div class=\"sk-item sk-dashed-wrapped\"><div class=\"sk-label-container\"><div class=\"sk-label sk-toggleable\"><input class=\"sk-toggleable__control sk-hidden--visually\" id=\"41cacfa6-518b-4ac6-b79e-7bcd9c213832\" type=\"checkbox\" ><label for=\"41cacfa6-518b-4ac6-b79e-7bcd9c213832\" class=\"sk-toggleable__label sk-toggleable__label-arrow\">GridSearchCV</label><div class=\"sk-toggleable__content\"><pre>GridSearchCV(estimator=Pipeline(steps=[(&#x27;transform&#x27;,\n",
              "                                        ColumnTransformer(transformers=[(&#x27;num&#x27;,\n",
              "                                                                         MinMaxScaler(),\n",
              "                                                                         [&#x27;Administrative&#x27;,\n",
              "                                                                          &#x27;Administrative_Duration&#x27;,\n",
              "                                                                          &#x27;Informational&#x27;,\n",
              "                                                                          &#x27;Informational_Duration&#x27;,\n",
              "                                                                          &#x27;ProductRelated&#x27;,\n",
              "                                                                          &#x27;ProductRelated_Duration&#x27;,\n",
              "                                                                          &#x27;BounceRates&#x27;,\n",
              "                                                                          &#x27;ExitRates&#x27;,\n",
              "                                                                          &#x27;PageValues&#x27;,\n",
              "                                                                          &#x27;SpecialDay&#x27;,\n",
              "                                                                          &#x27;OperatingSystems&#x27;,\n",
              "                                                                          &#x27;Browser&#x27;,\n",
              "                                                                          &#x27;Region&#x27;,\n",
              "                                                                          &#x27;TrafficType&#x27;]),\n",
              "                                                                        (&#x27;cat&#x27;,\n",
              "                                                                         OneHotEncoder(),\n",
              "                                                                         [&#x27;Month&#x27;,\n",
              "                                                                          &#x27;VisitorType&#x27;,\n",
              "                                                                          &#x27;Weekend&#x27;])])),\n",
              "                                       (&#x27;knn&#x27;,\n",
              "                                        KNeighborsClassifier(n_neighbors=3))]),\n",
              "             param_grid={&#x27;knn__leaf_size&#x27;: [15, 20],\n",
              "                         &#x27;knn__n_neighbors&#x27;: [3, 6, 8, 11],\n",
              "                         &#x27;knn__weights&#x27;: [&#x27;uniform&#x27;, &#x27;distance&#x27;]})</pre></div></div></div><div class=\"sk-parallel\"><div class=\"sk-parallel-item\"><div class=\"sk-item\"><div class=\"sk-serial\"><div class=\"sk-item\"><div class=\"sk-serial\"><div class=\"sk-item sk-dashed-wrapped\"><div class=\"sk-label-container\"><div class=\"sk-label sk-toggleable\"><input class=\"sk-toggleable__control sk-hidden--visually\" id=\"5a67ef02-d824-4369-abef-f13846166926\" type=\"checkbox\" ><label for=\"5a67ef02-d824-4369-abef-f13846166926\" class=\"sk-toggleable__label sk-toggleable__label-arrow\">transform: ColumnTransformer</label><div class=\"sk-toggleable__content\"><pre>ColumnTransformer(transformers=[(&#x27;num&#x27;, MinMaxScaler(),\n",
              "                                 [&#x27;Administrative&#x27;, &#x27;Administrative_Duration&#x27;,\n",
              "                                  &#x27;Informational&#x27;, &#x27;Informational_Duration&#x27;,\n",
              "                                  &#x27;ProductRelated&#x27;, &#x27;ProductRelated_Duration&#x27;,\n",
              "                                  &#x27;BounceRates&#x27;, &#x27;ExitRates&#x27;, &#x27;PageValues&#x27;,\n",
              "                                  &#x27;SpecialDay&#x27;, &#x27;OperatingSystems&#x27;, &#x27;Browser&#x27;,\n",
              "                                  &#x27;Region&#x27;, &#x27;TrafficType&#x27;]),\n",
              "                                (&#x27;cat&#x27;, OneHotEncoder(),\n",
              "                                 [&#x27;Month&#x27;, &#x27;VisitorType&#x27;, &#x27;Weekend&#x27;])])</pre></div></div></div><div class=\"sk-parallel\"><div class=\"sk-parallel-item\"><div class=\"sk-item\"><div class=\"sk-label-container\"><div class=\"sk-label sk-toggleable\"><input class=\"sk-toggleable__control sk-hidden--visually\" id=\"63fa3f44-8515-4396-bf3a-596ea544509b\" type=\"checkbox\" ><label for=\"63fa3f44-8515-4396-bf3a-596ea544509b\" class=\"sk-toggleable__label sk-toggleable__label-arrow\">num</label><div class=\"sk-toggleable__content\"><pre>[&#x27;Administrative&#x27;, &#x27;Administrative_Duration&#x27;, &#x27;Informational&#x27;, &#x27;Informational_Duration&#x27;, &#x27;ProductRelated&#x27;, &#x27;ProductRelated_Duration&#x27;, &#x27;BounceRates&#x27;, &#x27;ExitRates&#x27;, &#x27;PageValues&#x27;, &#x27;SpecialDay&#x27;, &#x27;OperatingSystems&#x27;, &#x27;Browser&#x27;, &#x27;Region&#x27;, &#x27;TrafficType&#x27;]</pre></div></div></div><div class=\"sk-serial\"><div class=\"sk-item\"><div class=\"sk-estimator sk-toggleable\"><input class=\"sk-toggleable__control sk-hidden--visually\" id=\"fb150767-8129-48fe-8b63-ae7c854997a7\" type=\"checkbox\" ><label for=\"fb150767-8129-48fe-8b63-ae7c854997a7\" class=\"sk-toggleable__label sk-toggleable__label-arrow\">MinMaxScaler</label><div class=\"sk-toggleable__content\"><pre>MinMaxScaler()</pre></div></div></div></div></div></div><div class=\"sk-parallel-item\"><div class=\"sk-item\"><div class=\"sk-label-container\"><div class=\"sk-label sk-toggleable\"><input class=\"sk-toggleable__control sk-hidden--visually\" id=\"79a2ca6b-abed-4a3a-9749-c7f91a6e73e9\" type=\"checkbox\" ><label for=\"79a2ca6b-abed-4a3a-9749-c7f91a6e73e9\" class=\"sk-toggleable__label sk-toggleable__label-arrow\">cat</label><div class=\"sk-toggleable__content\"><pre>[&#x27;Month&#x27;, &#x27;VisitorType&#x27;, &#x27;Weekend&#x27;]</pre></div></div></div><div class=\"sk-serial\"><div class=\"sk-item\"><div class=\"sk-estimator sk-toggleable\"><input class=\"sk-toggleable__control sk-hidden--visually\" id=\"dfdaf4f6-841e-43b1-947e-b0142bc8e0c8\" type=\"checkbox\" ><label for=\"dfdaf4f6-841e-43b1-947e-b0142bc8e0c8\" class=\"sk-toggleable__label sk-toggleable__label-arrow\">OneHotEncoder</label><div class=\"sk-toggleable__content\"><pre>OneHotEncoder()</pre></div></div></div></div></div></div></div></div><div class=\"sk-item\"><div class=\"sk-estimator sk-toggleable\"><input class=\"sk-toggleable__control sk-hidden--visually\" id=\"2afef098-3413-4139-afc3-39c845fa670d\" type=\"checkbox\" ><label for=\"2afef098-3413-4139-afc3-39c845fa670d\" class=\"sk-toggleable__label sk-toggleable__label-arrow\">KNeighborsClassifier</label><div class=\"sk-toggleable__content\"><pre>KNeighborsClassifier(n_neighbors=3)</pre></div></div></div></div></div></div></div></div></div></div></div></div>"
            ]
          },
          "metadata": {},
          "execution_count": 29
        }
      ]
    },
    {
      "cell_type": "markdown",
      "source": [
        "#*Evaluate the Models*"
      ],
      "metadata": {
        "id": "NzJq21EZ6hX2"
      }
    },
    {
      "cell_type": "markdown",
      "source": [
        "*Logistic Regression*"
      ],
      "metadata": {
        "id": "CXlSblsC6lID"
      }
    },
    {
      "cell_type": "code",
      "source": [
        "y_pred_lr = logistic.predict(X_test)"
      ],
      "metadata": {
        "id": "FTV30Kds7IOW"
      },
      "execution_count": 30,
      "outputs": []
    },
    {
      "cell_type": "code",
      "source": [
        "print(classification_report(y_test, y_pred_lr))"
      ],
      "metadata": {
        "colab": {
          "base_uri": "https://localhost:8080/"
        },
        "id": "3me-BJki7jk4",
        "outputId": "ba5d18e8-0b9d-4358-d596-cfb7ee9b244d"
      },
      "execution_count": 31,
      "outputs": [
        {
          "output_type": "stream",
          "name": "stdout",
          "text": [
            "              precision    recall  f1-score   support\n",
            "\n",
            "           0       0.87      0.99      0.93      2064\n",
            "           1       0.80      0.26      0.39       402\n",
            "\n",
            "    accuracy                           0.87      2466\n",
            "   macro avg       0.84      0.62      0.66      2466\n",
            "weighted avg       0.86      0.87      0.84      2466\n",
            "\n"
          ]
        }
      ]
    },
    {
      "cell_type": "code",
      "source": [
        "cm = confusion_matrix(y_test, y_pred_lr)\n",
        "disp = ConfusionMatrixDisplay(confusion_matrix=cm)\n",
        "fig, ax = plt.subplots(figsize=(10,10))\n",
        "disp.plot(ax=ax, cmap='ocean')"
      ],
      "metadata": {
        "colab": {
          "base_uri": "https://localhost:8080/",
          "height": 592
        },
        "id": "of1J5IRa8Z5e",
        "outputId": "9ed0032d-9919-4b4a-d26e-06ffe73a092b"
      },
      "execution_count": 32,
      "outputs": [
        {
          "output_type": "execute_result",
          "data": {
            "text/plain": [
              "<sklearn.metrics._plot.confusion_matrix.ConfusionMatrixDisplay at 0x7f5c14c3f650>"
            ]
          },
          "metadata": {},
          "execution_count": 32
        },
        {
          "output_type": "display_data",
          "data": {
            "text/plain": [
              "<Figure size 720x720 with 2 Axes>"
            ],
            "image/png": "[encoded data removed]"
          },
          "metadata": {
            "needs_background": "light"
          }
        }
      ]
    },
    {
      "cell_type": "code",
      "source": [
        "y_pred_proba = logistic.predict_proba(X_test)[::,1]\n",
        "lr_precision, lr_recall, _ = precision_recall_curve(y_test, y_pred_proba)"
      ],
      "metadata": {
        "id": "aDmsVA0nSsTV"
      },
      "execution_count": 41,
      "outputs": []
    },
    {
      "cell_type": "code",
      "source": [
        "plt.plot(lr_recall, lr_precision, label=\"Logisitic\")\n",
        "plt.xlabel(\"Recall\")\n",
        "plt.ylabel(\"Precision\")\n",
        "plt.legend()"
      ],
      "metadata": {
        "colab": {
          "base_uri": "https://localhost:8080/",
          "height": 297
        },
        "id": "23TgjpDco_WK",
        "outputId": "43cde311-589e-435e-e73c-1fecf697a1fe"
      },
      "execution_count": 42,
      "outputs": [
        {
          "output_type": "execute_result",
          "data": {
            "text/plain": [
              "<matplotlib.legend.Legend at 0x7f5c12140a50>"
            ]
          },
          "metadata": {},
          "execution_count": 42
        },
        {
          "output_type": "display_data",
          "data": {
            "text/plain": [
              "<Figure size 432x288 with 1 Axes>"
            ],
            "image/png": "[encoded data removed]"
          },
          "metadata": {
            "needs_background": "light"
          }
        }
      ]
    },
    {
      "cell_type": "code",
      "source": [
        "auc(lr_recall, lr_precision)"
      ],
      "metadata": {
        "colab": {
          "base_uri": "https://localhost:8080/"
        },
        "id": "NtUiBz7wpHWF",
        "outputId": "b5547776-bd44-447b-be2a-0e207afc280a"
      },
      "execution_count": 43,
      "outputs": [
        {
          "output_type": "execute_result",
          "data": {
            "text/plain": [
              "0.6330545341828994"
            ]
          },
          "metadata": {},
          "execution_count": 43
        }
      ]
    },
    {
      "cell_type": "markdown",
      "source": [
        "*K-Nearest Neighbor*"
      ],
      "metadata": {
        "id": "IKDfKgMl6oA1"
      }
    },
    {
      "cell_type": "code",
      "source": [
        "y_pred_knn = knn.predict(X_test)"
      ],
      "metadata": {
        "id": "sLIG7KI59bnO"
      },
      "execution_count": 33,
      "outputs": []
    },
    {
      "cell_type": "code",
      "source": [
        "print(classification_report(y_test, y_pred_knn))"
      ],
      "metadata": {
        "colab": {
          "base_uri": "https://localhost:8080/"
        },
        "id": "vlDYhnG99ijq",
        "outputId": "afc50d10-9653-422c-fff5-850dcbfcadac"
      },
      "execution_count": 34,
      "outputs": [
        {
          "output_type": "stream",
          "name": "stdout",
          "text": [
            "              precision    recall  f1-score   support\n",
            "\n",
            "           0       0.87      0.95      0.91      2064\n",
            "           1       0.52      0.25      0.34       402\n",
            "\n",
            "    accuracy                           0.84      2466\n",
            "   macro avg       0.69      0.60      0.63      2466\n",
            "weighted avg       0.81      0.84      0.82      2466\n",
            "\n"
          ]
        }
      ]
    },
    {
      "cell_type": "code",
      "source": [
        "cm = confusion_matrix(y_test, y_pred_knn)\n",
        "disp = ConfusionMatrixDisplay(confusion_matrix=cm)\n",
        "fig, ax = plt.subplots(figsize=(10,10))\n",
        "disp.plot(ax=ax, cmap='terrain')"
      ],
      "metadata": {
        "colab": {
          "base_uri": "https://localhost:8080/",
          "height": 592
        },
        "id": "TWd5G8Rt9q1G",
        "outputId": "fa9f5766-499b-4b6d-c876-3b9de8d14079"
      },
      "execution_count": 35,
      "outputs": [
        {
          "output_type": "execute_result",
          "data": {
            "text/plain": [
              "<sklearn.metrics._plot.confusion_matrix.ConfusionMatrixDisplay at 0x7f5c14bb23d0>"
            ]
          },
          "metadata": {},
          "execution_count": 35
        },
        {
          "output_type": "display_data",
          "data": {
            "text/plain": [
              "<Figure size 720x720 with 2 Axes>"
            ],
            "image/png": "[encoded data removed]"
          },
          "metadata": {
            "needs_background": "light"
          }
        }
      ]
    },
    {
      "cell_type": "code",
      "source": [
        "y_pred_proba = knn.predict_proba(X_test)[::,1]\n",
        "knn_precision, knn_recall, _ = precision_recall_curve(y_test, y_pred_proba)"
      ],
      "metadata": {
        "id": "qEnnRue4Mm3U"
      },
      "execution_count": 45,
      "outputs": []
    },
    {
      "cell_type": "code",
      "source": [
        "plt.plot(knn_recall, knn_precision, label=\"K-Nearest Neighbor\")\n",
        "plt.xlabel(\"Recall\")\n",
        "plt.ylabel(\"Precision\")\n",
        "plt.legend()"
      ],
      "metadata": {
        "colab": {
          "base_uri": "https://localhost:8080/",
          "height": 297
        },
        "id": "qDQmvpDIrSzK",
        "outputId": "29ca563b-204e-413c-e9e6-c858a2d247f3"
      },
      "execution_count": 46,
      "outputs": [
        {
          "output_type": "execute_result",
          "data": {
            "text/plain": [
              "<matplotlib.legend.Legend at 0x7f5c12093d90>"
            ]
          },
          "metadata": {},
          "execution_count": 46
        },
        {
          "output_type": "display_data",
          "data": {
            "text/plain": [
              "<Figure size 432x288 with 1 Axes>"
            ],
            "image/png": "[encoded data removed]"
          },
          "metadata": {
            "needs_background": "light"
          }
        }
      ]
    },
    {
      "cell_type": "code",
      "source": [
        "auc(knn_recall, knn_precision)"
      ],
      "metadata": {
        "colab": {
          "base_uri": "https://localhost:8080/"
        },
        "id": "RDLaH9CKrjiP",
        "outputId": "dc56c27e-e81e-4e30-eae5-4bf173f234a8"
      },
      "execution_count": 47,
      "outputs": [
        {
          "output_type": "execute_result",
          "data": {
            "text/plain": [
              "0.42505311900526077"
            ]
          },
          "metadata": {},
          "execution_count": 47
        }
      ]
    },
    {
      "cell_type": "markdown",
      "source": [
        "*GridSearchCV*"
      ],
      "metadata": {
        "id": "WiHXpPO26rZt"
      }
    },
    {
      "cell_type": "code",
      "source": [
        "grid_pipeline.best_params_"
      ],
      "metadata": {
        "colab": {
          "base_uri": "https://localhost:8080/"
        },
        "id": "f4k7ylf86v1U",
        "outputId": "923209c1-0965-44d9-f389-9fa1e6fbab7e"
      },
      "execution_count": 36,
      "outputs": [
        {
          "output_type": "execute_result",
          "data": {
            "text/plain": [
              "{'knn__leaf_size': 15, 'knn__n_neighbors': 8, 'knn__weights': 'distance'}"
            ]
          },
          "metadata": {},
          "execution_count": 36
        }
      ]
    },
    {
      "cell_type": "code",
      "source": [
        "grid_pipeline.score(X_test, np.ravel(y_test))"
      ],
      "metadata": {
        "colab": {
          "base_uri": "https://localhost:8080/"
        },
        "id": "UZuTWTxK666R",
        "outputId": "62e036c7-d35a-4a42-bad8-2992b8d02e8a"
      },
      "execution_count": 37,
      "outputs": [
        {
          "output_type": "execute_result",
          "data": {
            "text/plain": [
              "0.8523925385239254"
            ]
          },
          "metadata": {},
          "execution_count": 37
        }
      ]
    },
    {
      "cell_type": "markdown",
      "source": [
        "***Evaluation Results***\n",
        "\n",
        "*Logistic Regression appears to be the better model for predicting if there was revenue made from the online shopper. However, when the Precision-Recall curve was applied, the score was not high at all. I had originally chosen the ROC curve but noticed that the scores appeared similarly high even though the confusion matrix showed low true positive rates for both classifiers. When I realized that the count for the revenue was very imbalanced the Precision-Recall curve became the better decision.*"
      ],
      "metadata": {
        "id": "4SYsSnEz-H-N"
      }
    },
    {
      "cell_type": "markdown",
      "source": [
        "#**Conclusion**\n",
        "\n",
        "Both models do not seem all that feasible for accurately predicting the positive result for this data. That may be due to the imbalance in the results (over 80% of the outcomes resulted in false). The GridSearchCV score does appear strong using KNN."
      ],
      "metadata": {
        "id": "Y-_OC2qkwp40"
      }
    }
  ]
}