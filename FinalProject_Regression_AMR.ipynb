{
  "nbformat": 4,
  "nbformat_minor": 0,
  "metadata": {
    "colab": {
      "name": "FinalProject_Regression_AMR.ipynb",
      "provenance": [],
      "authorship_tag": "ABX9TyMePIpG8aP/Rr0V5i+hjior",
      "include_colab_link": true
    },
    "kernelspec": {
      "name": "python3",
      "display_name": "Python 3"
    },
    "language_info": {
      "name": "python"
    }
  },
  "cells": [
    {
      "cell_type": "markdown",
      "metadata": {
        "id": "view-in-github",
        "colab_type": "text"
      },
      "source": [
        "<a href=\"https://colab.research.google.com/github/ashleighr01/MLA_AMR/blob/main/FinalProject_Regression_AMR.ipynb\" target=\"_parent\"><img src=\"https://colab.research.google.com/assets/colab-badge.svg\" alt=\"Open In Colab\"/></a>"
      ]
    },
    {
      "cell_type": "markdown",
      "source": [
        "#**Machine Learning Final Project: Regression**\n",
        "\n",
        "*Ashleigh Rufus*"
      ],
      "metadata": {
        "id": "QqZ5OdqbmitK"
      }
    },
    {
      "cell_type": "markdown",
      "source": [
        "#*Import Specific Models*"
      ],
      "metadata": {
        "id": "E6I3RyjgpOkj"
      }
    },
    {
      "cell_type": "code",
      "execution_count": 1,
      "metadata": {
        "id": "I7fFXBwRmBrd"
      },
      "outputs": [],
      "source": [
        "import pandas as pd\n",
        "import numpy as np\n",
        "import matplotlib.pyplot as plt\n",
        "import seaborn as sns\n",
        "%matplotlib inline"
      ]
    },
    {
      "cell_type": "code",
      "source": [
        "from google.colab import drive\n",
        "drive.mount('/content/gdrive')"
      ],
      "metadata": {
        "colab": {
          "base_uri": "https://localhost:8080/"
        },
        "id": "MS4xCBWVpE7B",
        "outputId": "b250cfb2-ed13-409c-834d-1813f9f062e6"
      },
      "execution_count": 2,
      "outputs": [
        {
          "output_type": "stream",
          "name": "stdout",
          "text": [
            "Mounted at /content/gdrive\n"
          ]
        }
      ]
    },
    {
      "cell_type": "code",
      "source": [
        "from sklearn.linear_model import LinearRegression\n",
        "from sklearn.svm import SVR, LinearSVR"
      ],
      "metadata": {
        "id": "YAc8aLS8_IoV"
      },
      "execution_count": 3,
      "outputs": []
    },
    {
      "cell_type": "code",
      "source": [
        "from sklearn.pipeline import Pipeline\n",
        "from sklearn.model_selection import GridSearchCV\n",
        "from sklearn.compose import ColumnTransformer\n",
        "from sklearn.preprocessing import MinMaxScaler\n",
        "from sklearn.preprocessing import StandardScaler\n",
        "from sklearn.preprocessing import OneHotEncoder\n",
        "\n",
        "from sklearn.model_selection import train_test_split"
      ],
      "metadata": {
        "id": "Ci7MCAm8AD9q"
      },
      "execution_count": 4,
      "outputs": []
    },
    {
      "cell_type": "code",
      "source": [
        "from sklearn.metrics import mean_squared_error, r2_score, mean_absolute_error"
      ],
      "metadata": {
        "id": "KmhQ3P7-B9g2"
      },
      "execution_count": 5,
      "outputs": []
    },
    {
      "cell_type": "code",
      "source": [
        "from sklearn import set_config\n",
        "set_config(display='diagram')"
      ],
      "metadata": {
        "id": "x9oeiwZKb6b6"
      },
      "execution_count": 6,
      "outputs": []
    },
    {
      "cell_type": "markdown",
      "source": [
        "#*Acquire Data*"
      ],
      "metadata": {
        "id": "GntGzos-cHoc"
      }
    },
    {
      "cell_type": "code",
      "source": [
        "mathdf = pd.read_csv('/content/gdrive/MyDrive/CS430/student-mat.csv', sep=';')\n"
      ],
      "metadata": {
        "id": "6VP8cKAbcMny"
      },
      "execution_count": 7,
      "outputs": []
    },
    {
      "cell_type": "code",
      "source": [
        "mathdf.head()"
      ],
      "metadata": {
        "colab": {
          "base_uri": "https://localhost:8080/",
          "height": 235
        },
        "id": "oPaBStpVdBFU",
        "outputId": "ab99f727-9ced-4895-d2d1-b0c1283d46ea"
      },
      "execution_count": 8,
      "outputs": [
        {
          "output_type": "execute_result",
          "data": {
            "text/plain": [
              "  school sex  age address famsize Pstatus  Medu  Fedu     Mjob      Fjob  ...  \\\n",
              "0     GP   F   18       U     GT3       A     4     4  at_home   teacher  ...   \n",
              "1     GP   F   17       U     GT3       T     1     1  at_home     other  ...   \n",
              "2     GP   F   15       U     LE3       T     1     1  at_home     other  ...   \n",
              "3     GP   F   15       U     GT3       T     4     2   health  services  ...   \n",
              "4     GP   F   16       U     GT3       T     3     3    other     other  ...   \n",
              "\n",
              "  famrel freetime  goout  Dalc  Walc health absences  G1  G2  G3  \n",
              "0      4        3      4     1     1      3        6   5   6   6  \n",
              "1      5        3      3     1     1      3        4   5   5   6  \n",
              "2      4        3      2     2     3      3       10   7   8  10  \n",
              "3      3        2      2     1     1      5        2  15  14  15  \n",
              "4      4        3      2     1     2      5        4   6  10  10  \n",
              "\n",
              "[5 rows x 33 columns]"
            ],
            "text/html": [
              "\n",
              "  <div id=\"df-534e0d78-3e43-4075-bbca-a13395198cee\">\n",
              "    <div class=\"colab-df-container\">\n",
              "      <div>\n",
              "<style scoped>\n",
              "    .dataframe tbody tr th:only-of-type {\n",
              "        vertical-align: middle;\n",
              "    }\n",
              "\n",
              "    .dataframe tbody tr th {\n",
              "        vertical-align: top;\n",
              "    }\n",
              "\n",
              "    .dataframe thead th {\n",
              "        text-align: right;\n",
              "    }\n",
              "</style>\n",
              "<table border=\"1\" class=\"dataframe\">\n",
              "  <thead>\n",
              "    <tr style=\"text-align: right;\">\n",
              "      <th></th>\n",
              "      <th>school</th>\n",
              "      <th>sex</th>\n",
              "      <th>age</th>\n",
              "      <th>address</th>\n",
              "      <th>famsize</th>\n",
              "      <th>Pstatus</th>\n",
              "      <th>Medu</th>\n",
              "      <th>Fedu</th>\n",
              "      <th>Mjob</th>\n",
              "      <th>Fjob</th>\n",
              "      <th>...</th>\n",
              "      <th>famrel</th>\n",
              "      <th>freetime</th>\n",
              "      <th>goout</th>\n",
              "      <th>Dalc</th>\n",
              "      <th>Walc</th>\n",
              "      <th>health</th>\n",
              "      <th>absences</th>\n",
              "      <th>G1</th>\n",
              "      <th>G2</th>\n",
              "      <th>G3</th>\n",
              "    </tr>\n",
              "  </thead>\n",
              "  <tbody>\n",
              "    <tr>\n",
              "      <th>0</th>\n",
              "      <td>GP</td>\n",
              "      <td>F</td>\n",
              "      <td>18</td>\n",
              "      <td>U</td>\n",
              "      <td>GT3</td>\n",
              "      <td>A</td>\n",
              "      <td>4</td>\n",
              "      <td>4</td>\n",
              "      <td>at_home</td>\n",
              "      <td>teacher</td>\n",
              "      <td>...</td>\n",
              "      <td>4</td>\n",
              "      <td>3</td>\n",
              "      <td>4</td>\n",
              "      <td>1</td>\n",
              "      <td>1</td>\n",
              "      <td>3</td>\n",
              "      <td>6</td>\n",
              "      <td>5</td>\n",
              "      <td>6</td>\n",
              "      <td>6</td>\n",
              "    </tr>\n",
              "    <tr>\n",
              "      <th>1</th>\n",
              "      <td>GP</td>\n",
              "      <td>F</td>\n",
              "      <td>17</td>\n",
              "      <td>U</td>\n",
              "      <td>GT3</td>\n",
              "      <td>T</td>\n",
              "      <td>1</td>\n",
              "      <td>1</td>\n",
              "      <td>at_home</td>\n",
              "      <td>other</td>\n",
              "      <td>...</td>\n",
              "      <td>5</td>\n",
              "      <td>3</td>\n",
              "      <td>3</td>\n",
              "      <td>1</td>\n",
              "      <td>1</td>\n",
              "      <td>3</td>\n",
              "      <td>4</td>\n",
              "      <td>5</td>\n",
              "      <td>5</td>\n",
              "      <td>6</td>\n",
              "    </tr>\n",
              "    <tr>\n",
              "      <th>2</th>\n",
              "      <td>GP</td>\n",
              "      <td>F</td>\n",
              "      <td>15</td>\n",
              "      <td>U</td>\n",
              "      <td>LE3</td>\n",
              "      <td>T</td>\n",
              "      <td>1</td>\n",
              "      <td>1</td>\n",
              "      <td>at_home</td>\n",
              "      <td>other</td>\n",
              "      <td>...</td>\n",
              "      <td>4</td>\n",
              "      <td>3</td>\n",
              "      <td>2</td>\n",
              "      <td>2</td>\n",
              "      <td>3</td>\n",
              "      <td>3</td>\n",
              "      <td>10</td>\n",
              "      <td>7</td>\n",
              "      <td>8</td>\n",
              "      <td>10</td>\n",
              "    </tr>\n",
              "    <tr>\n",
              "      <th>3</th>\n",
              "      <td>GP</td>\n",
              "      <td>F</td>\n",
              "      <td>15</td>\n",
              "      <td>U</td>\n",
              "      <td>GT3</td>\n",
              "      <td>T</td>\n",
              "      <td>4</td>\n",
              "      <td>2</td>\n",
              "      <td>health</td>\n",
              "      <td>services</td>\n",
              "      <td>...</td>\n",
              "      <td>3</td>\n",
              "      <td>2</td>\n",
              "      <td>2</td>\n",
              "      <td>1</td>\n",
              "      <td>1</td>\n",
              "      <td>5</td>\n",
              "      <td>2</td>\n",
              "      <td>15</td>\n",
              "      <td>14</td>\n",
              "      <td>15</td>\n",
              "    </tr>\n",
              "    <tr>\n",
              "      <th>4</th>\n",
              "      <td>GP</td>\n",
              "      <td>F</td>\n",
              "      <td>16</td>\n",
              "      <td>U</td>\n",
              "      <td>GT3</td>\n",
              "      <td>T</td>\n",
              "      <td>3</td>\n",
              "      <td>3</td>\n",
              "      <td>other</td>\n",
              "      <td>other</td>\n",
              "      <td>...</td>\n",
              "      <td>4</td>\n",
              "      <td>3</td>\n",
              "      <td>2</td>\n",
              "      <td>1</td>\n",
              "      <td>2</td>\n",
              "      <td>5</td>\n",
              "      <td>4</td>\n",
              "      <td>6</td>\n",
              "      <td>10</td>\n",
              "      <td>10</td>\n",
              "    </tr>\n",
              "  </tbody>\n",
              "</table>\n",
              "<p>5 rows × 33 columns</p>\n",
              "</div>\n",
              "      <button class=\"colab-df-convert\" onclick=\"convertToInteractive('df-534e0d78-3e43-4075-bbca-a13395198cee')\"\n",
              "              title=\"Convert this dataframe to an interactive table.\"\n",
              "              style=\"display:none;\">\n",
              "        \n",
              "  <svg xmlns=\"http://www.w3.org/2000/svg\" height=\"24px\"viewBox=\"0 0 24 24\"\n",
              "       width=\"24px\">\n",
              "    <path d=\"M0 0h24v24H0V0z\" fill=\"none\"/>\n",
              "    <path d=\"M18.56 5.44l.94 2.06.94-2.06 2.06-.94-2.06-.94-.94-2.06-.94 2.06-2.06.94zm-11 1L8.5 8.5l.94-2.06 2.06-.94-2.06-.94L8.5 2.5l-.94 2.06-2.06.94zm10 10l.94 2.06.94-2.06 2.06-.94-2.06-.94-.94-2.06-.94 2.06-2.06.94z\"/><path d=\"M17.41 7.96l-1.37-1.37c-.4-.4-.92-.59-1.43-.59-.52 0-1.04.2-1.43.59L10.3 9.45l-7.72 7.72c-.78.78-.78 2.05 0 2.83L4 21.41c.39.39.9.59 1.41.59.51 0 1.02-.2 1.41-.59l7.78-7.78 2.81-2.81c.8-.78.8-2.07 0-2.86zM5.41 20L4 18.59l7.72-7.72 1.47 1.35L5.41 20z\"/>\n",
              "  </svg>\n",
              "      </button>\n",
              "      \n",
              "  <style>\n",
              "    .colab-df-container {\n",
              "      display:flex;\n",
              "      flex-wrap:wrap;\n",
              "      gap: 12px;\n",
              "    }\n",
              "\n",
              "    .colab-df-convert {\n",
              "      background-color: #E8F0FE;\n",
              "      border: none;\n",
              "      border-radius: 50%;\n",
              "      cursor: pointer;\n",
              "      display: none;\n",
              "      fill: #1967D2;\n",
              "      height: 32px;\n",
              "      padding: 0 0 0 0;\n",
              "      width: 32px;\n",
              "    }\n",
              "\n",
              "    .colab-df-convert:hover {\n",
              "      background-color: #E2EBFA;\n",
              "      box-shadow: 0px 1px 2px rgba(60, 64, 67, 0.3), 0px 1px 3px 1px rgba(60, 64, 67, 0.15);\n",
              "      fill: #174EA6;\n",
              "    }\n",
              "\n",
              "    [theme=dark] .colab-df-convert {\n",
              "      background-color: #3B4455;\n",
              "      fill: #D2E3FC;\n",
              "    }\n",
              "\n",
              "    [theme=dark] .colab-df-convert:hover {\n",
              "      background-color: #434B5C;\n",
              "      box-shadow: 0px 1px 3px 1px rgba(0, 0, 0, 0.15);\n",
              "      filter: drop-shadow(0px 1px 2px rgba(0, 0, 0, 0.3));\n",
              "      fill: #FFFFFF;\n",
              "    }\n",
              "  </style>\n",
              "\n",
              "      <script>\n",
              "        const buttonEl =\n",
              "          document.querySelector('#df-534e0d78-3e43-4075-bbca-a13395198cee button.colab-df-convert');\n",
              "        buttonEl.style.display =\n",
              "          google.colab.kernel.accessAllowed ? 'block' : 'none';\n",
              "\n",
              "        async function convertToInteractive(key) {\n",
              "          const element = document.querySelector('#df-534e0d78-3e43-4075-bbca-a13395198cee');\n",
              "          const dataTable =\n",
              "            await google.colab.kernel.invokeFunction('convertToInteractive',\n",
              "                                                     [key], {});\n",
              "          if (!dataTable) return;\n",
              "\n",
              "          const docLinkHtml = 'Like what you see? Visit the ' +\n",
              "            '<a target=\"_blank\" href=https://colab.research.google.com/notebooks/data_table.ipynb>data table notebook</a>'\n",
              "            + ' to learn more about interactive tables.';\n",
              "          element.innerHTML = '';\n",
              "          dataTable['output_type'] = 'display_data';\n",
              "          await google.colab.output.renderOutput(dataTable, element);\n",
              "          const docLink = document.createElement('div');\n",
              "          docLink.innerHTML = docLinkHtml;\n",
              "          element.appendChild(docLink);\n",
              "        }\n",
              "      </script>\n",
              "    </div>\n",
              "  </div>\n",
              "  "
            ]
          },
          "metadata": {},
          "execution_count": 8
        }
      ]
    },
    {
      "cell_type": "markdown",
      "source": [
        "#*Statistical & Visual Exploration*"
      ],
      "metadata": {
        "id": "Om7CJXkuel7L"
      }
    },
    {
      "cell_type": "code",
      "source": [
        "mathdf.describe()"
      ],
      "metadata": {
        "colab": {
          "base_uri": "https://localhost:8080/",
          "height": 364
        },
        "id": "WRoBZGEgguMP",
        "outputId": "e16a3a79-4edc-4823-8964-7183d8f42f69"
      },
      "execution_count": 9,
      "outputs": [
        {
          "output_type": "execute_result",
          "data": {
            "text/plain": [
              "              age        Medu        Fedu  traveltime   studytime    failures  \\\n",
              "count  395.000000  395.000000  395.000000  395.000000  395.000000  395.000000   \n",
              "mean    16.696203    2.749367    2.521519    1.448101    2.035443    0.334177   \n",
              "std      1.276043    1.094735    1.088201    0.697505    0.839240    0.743651   \n",
              "min     15.000000    0.000000    0.000000    1.000000    1.000000    0.000000   \n",
              "25%     16.000000    2.000000    2.000000    1.000000    1.000000    0.000000   \n",
              "50%     17.000000    3.000000    2.000000    1.000000    2.000000    0.000000   \n",
              "75%     18.000000    4.000000    3.000000    2.000000    2.000000    0.000000   \n",
              "max     22.000000    4.000000    4.000000    4.000000    4.000000    3.000000   \n",
              "\n",
              "           famrel    freetime       goout        Dalc        Walc      health  \\\n",
              "count  395.000000  395.000000  395.000000  395.000000  395.000000  395.000000   \n",
              "mean     3.944304    3.235443    3.108861    1.481013    2.291139    3.554430   \n",
              "std      0.896659    0.998862    1.113278    0.890741    1.287897    1.390303   \n",
              "min      1.000000    1.000000    1.000000    1.000000    1.000000    1.000000   \n",
              "25%      4.000000    3.000000    2.000000    1.000000    1.000000    3.000000   \n",
              "50%      4.000000    3.000000    3.000000    1.000000    2.000000    4.000000   \n",
              "75%      5.000000    4.000000    4.000000    2.000000    3.000000    5.000000   \n",
              "max      5.000000    5.000000    5.000000    5.000000    5.000000    5.000000   \n",
              "\n",
              "         absences          G1          G2          G3  \n",
              "count  395.000000  395.000000  395.000000  395.000000  \n",
              "mean     5.708861   10.908861   10.713924   10.415190  \n",
              "std      8.003096    3.319195    3.761505    4.581443  \n",
              "min      0.000000    3.000000    0.000000    0.000000  \n",
              "25%      0.000000    8.000000    9.000000    8.000000  \n",
              "50%      4.000000   11.000000   11.000000   11.000000  \n",
              "75%      8.000000   13.000000   13.000000   14.000000  \n",
              "max     75.000000   19.000000   19.000000   20.000000  "
            ],
            "text/html": [
              "\n",
              "  <div id=\"df-7624f778-a3ea-4427-a2d8-3d06913e2bd6\">\n",
              "    <div class=\"colab-df-container\">\n",
              "      <div>\n",
              "<style scoped>\n",
              "    .dataframe tbody tr th:only-of-type {\n",
              "        vertical-align: middle;\n",
              "    }\n",
              "\n",
              "    .dataframe tbody tr th {\n",
              "        vertical-align: top;\n",
              "    }\n",
              "\n",
              "    .dataframe thead th {\n",
              "        text-align: right;\n",
              "    }\n",
              "</style>\n",
              "<table border=\"1\" class=\"dataframe\">\n",
              "  <thead>\n",
              "    <tr style=\"text-align: right;\">\n",
              "      <th></th>\n",
              "      <th>age</th>\n",
              "      <th>Medu</th>\n",
              "      <th>Fedu</th>\n",
              "      <th>traveltime</th>\n",
              "      <th>studytime</th>\n",
              "      <th>failures</th>\n",
              "      <th>famrel</th>\n",
              "      <th>freetime</th>\n",
              "      <th>goout</th>\n",
              "      <th>Dalc</th>\n",
              "      <th>Walc</th>\n",
              "      <th>health</th>\n",
              "      <th>absences</th>\n",
              "      <th>G1</th>\n",
              "      <th>G2</th>\n",
              "      <th>G3</th>\n",
              "    </tr>\n",
              "  </thead>\n",
              "  <tbody>\n",
              "    <tr>\n",
              "      <th>count</th>\n",
              "      <td>395.000000</td>\n",
              "      <td>395.000000</td>\n",
              "      <td>395.000000</td>\n",
              "      <td>395.000000</td>\n",
              "      <td>395.000000</td>\n",
              "      <td>395.000000</td>\n",
              "      <td>395.000000</td>\n",
              "      <td>395.000000</td>\n",
              "      <td>395.000000</td>\n",
              "      <td>395.000000</td>\n",
              "      <td>395.000000</td>\n",
              "      <td>395.000000</td>\n",
              "      <td>395.000000</td>\n",
              "      <td>395.000000</td>\n",
              "      <td>395.000000</td>\n",
              "      <td>395.000000</td>\n",
              "    </tr>\n",
              "    <tr>\n",
              "      <th>mean</th>\n",
              "      <td>16.696203</td>\n",
              "      <td>2.749367</td>\n",
              "      <td>2.521519</td>\n",
              "      <td>1.448101</td>\n",
              "      <td>2.035443</td>\n",
              "      <td>0.334177</td>\n",
              "      <td>3.944304</td>\n",
              "      <td>3.235443</td>\n",
              "      <td>3.108861</td>\n",
              "      <td>1.481013</td>\n",
              "      <td>2.291139</td>\n",
              "      <td>3.554430</td>\n",
              "      <td>5.708861</td>\n",
              "      <td>10.908861</td>\n",
              "      <td>10.713924</td>\n",
              "      <td>10.415190</td>\n",
              "    </tr>\n",
              "    <tr>\n",
              "      <th>std</th>\n",
              "      <td>1.276043</td>\n",
              "      <td>1.094735</td>\n",
              "      <td>1.088201</td>\n",
              "      <td>0.697505</td>\n",
              "      <td>0.839240</td>\n",
              "      <td>0.743651</td>\n",
              "      <td>0.896659</td>\n",
              "      <td>0.998862</td>\n",
              "      <td>1.113278</td>\n",
              "      <td>0.890741</td>\n",
              "      <td>1.287897</td>\n",
              "      <td>1.390303</td>\n",
              "      <td>8.003096</td>\n",
              "      <td>3.319195</td>\n",
              "      <td>3.761505</td>\n",
              "      <td>4.581443</td>\n",
              "    </tr>\n",
              "    <tr>\n",
              "      <th>min</th>\n",
              "      <td>15.000000</td>\n",
              "      <td>0.000000</td>\n",
              "      <td>0.000000</td>\n",
              "      <td>1.000000</td>\n",
              "      <td>1.000000</td>\n",
              "      <td>0.000000</td>\n",
              "      <td>1.000000</td>\n",
              "      <td>1.000000</td>\n",
              "      <td>1.000000</td>\n",
              "      <td>1.000000</td>\n",
              "      <td>1.000000</td>\n",
              "      <td>1.000000</td>\n",
              "      <td>0.000000</td>\n",
              "      <td>3.000000</td>\n",
              "      <td>0.000000</td>\n",
              "      <td>0.000000</td>\n",
              "    </tr>\n",
              "    <tr>\n",
              "      <th>25%</th>\n",
              "      <td>16.000000</td>\n",
              "      <td>2.000000</td>\n",
              "      <td>2.000000</td>\n",
              "      <td>1.000000</td>\n",
              "      <td>1.000000</td>\n",
              "      <td>0.000000</td>\n",
              "      <td>4.000000</td>\n",
              "      <td>3.000000</td>\n",
              "      <td>2.000000</td>\n",
              "      <td>1.000000</td>\n",
              "      <td>1.000000</td>\n",
              "      <td>3.000000</td>\n",
              "      <td>0.000000</td>\n",
              "      <td>8.000000</td>\n",
              "      <td>9.000000</td>\n",
              "      <td>8.000000</td>\n",
              "    </tr>\n",
              "    <tr>\n",
              "      <th>50%</th>\n",
              "      <td>17.000000</td>\n",
              "      <td>3.000000</td>\n",
              "      <td>2.000000</td>\n",
              "      <td>1.000000</td>\n",
              "      <td>2.000000</td>\n",
              "      <td>0.000000</td>\n",
              "      <td>4.000000</td>\n",
              "      <td>3.000000</td>\n",
              "      <td>3.000000</td>\n",
              "      <td>1.000000</td>\n",
              "      <td>2.000000</td>\n",
              "      <td>4.000000</td>\n",
              "      <td>4.000000</td>\n",
              "      <td>11.000000</td>\n",
              "      <td>11.000000</td>\n",
              "      <td>11.000000</td>\n",
              "    </tr>\n",
              "    <tr>\n",
              "      <th>75%</th>\n",
              "      <td>18.000000</td>\n",
              "      <td>4.000000</td>\n",
              "      <td>3.000000</td>\n",
              "      <td>2.000000</td>\n",
              "      <td>2.000000</td>\n",
              "      <td>0.000000</td>\n",
              "      <td>5.000000</td>\n",
              "      <td>4.000000</td>\n",
              "      <td>4.000000</td>\n",
              "      <td>2.000000</td>\n",
              "      <td>3.000000</td>\n",
              "      <td>5.000000</td>\n",
              "      <td>8.000000</td>\n",
              "      <td>13.000000</td>\n",
              "      <td>13.000000</td>\n",
              "      <td>14.000000</td>\n",
              "    </tr>\n",
              "    <tr>\n",
              "      <th>max</th>\n",
              "      <td>22.000000</td>\n",
              "      <td>4.000000</td>\n",
              "      <td>4.000000</td>\n",
              "      <td>4.000000</td>\n",
              "      <td>4.000000</td>\n",
              "      <td>3.000000</td>\n",
              "      <td>5.000000</td>\n",
              "      <td>5.000000</td>\n",
              "      <td>5.000000</td>\n",
              "      <td>5.000000</td>\n",
              "      <td>5.000000</td>\n",
              "      <td>5.000000</td>\n",
              "      <td>75.000000</td>\n",
              "      <td>19.000000</td>\n",
              "      <td>19.000000</td>\n",
              "      <td>20.000000</td>\n",
              "    </tr>\n",
              "  </tbody>\n",
              "</table>\n",
              "</div>\n",
              "      <button class=\"colab-df-convert\" onclick=\"convertToInteractive('df-7624f778-a3ea-4427-a2d8-3d06913e2bd6')\"\n",
              "              title=\"Convert this dataframe to an interactive table.\"\n",
              "              style=\"display:none;\">\n",
              "        \n",
              "  <svg xmlns=\"http://www.w3.org/2000/svg\" height=\"24px\"viewBox=\"0 0 24 24\"\n",
              "       width=\"24px\">\n",
              "    <path d=\"M0 0h24v24H0V0z\" fill=\"none\"/>\n",
              "    <path d=\"M18.56 5.44l.94 2.06.94-2.06 2.06-.94-2.06-.94-.94-2.06-.94 2.06-2.06.94zm-11 1L8.5 8.5l.94-2.06 2.06-.94-2.06-.94L8.5 2.5l-.94 2.06-2.06.94zm10 10l.94 2.06.94-2.06 2.06-.94-2.06-.94-.94-2.06-.94 2.06-2.06.94z\"/><path d=\"M17.41 7.96l-1.37-1.37c-.4-.4-.92-.59-1.43-.59-.52 0-1.04.2-1.43.59L10.3 9.45l-7.72 7.72c-.78.78-.78 2.05 0 2.83L4 21.41c.39.39.9.59 1.41.59.51 0 1.02-.2 1.41-.59l7.78-7.78 2.81-2.81c.8-.78.8-2.07 0-2.86zM5.41 20L4 18.59l7.72-7.72 1.47 1.35L5.41 20z\"/>\n",
              "  </svg>\n",
              "      </button>\n",
              "      \n",
              "  <style>\n",
              "    .colab-df-container {\n",
              "      display:flex;\n",
              "      flex-wrap:wrap;\n",
              "      gap: 12px;\n",
              "    }\n",
              "\n",
              "    .colab-df-convert {\n",
              "      background-color: #E8F0FE;\n",
              "      border: none;\n",
              "      border-radius: 50%;\n",
              "      cursor: pointer;\n",
              "      display: none;\n",
              "      fill: #1967D2;\n",
              "      height: 32px;\n",
              "      padding: 0 0 0 0;\n",
              "      width: 32px;\n",
              "    }\n",
              "\n",
              "    .colab-df-convert:hover {\n",
              "      background-color: #E2EBFA;\n",
              "      box-shadow: 0px 1px 2px rgba(60, 64, 67, 0.3), 0px 1px 3px 1px rgba(60, 64, 67, 0.15);\n",
              "      fill: #174EA6;\n",
              "    }\n",
              "\n",
              "    [theme=dark] .colab-df-convert {\n",
              "      background-color: #3B4455;\n",
              "      fill: #D2E3FC;\n",
              "    }\n",
              "\n",
              "    [theme=dark] .colab-df-convert:hover {\n",
              "      background-color: #434B5C;\n",
              "      box-shadow: 0px 1px 3px 1px rgba(0, 0, 0, 0.15);\n",
              "      filter: drop-shadow(0px 1px 2px rgba(0, 0, 0, 0.3));\n",
              "      fill: #FFFFFF;\n",
              "    }\n",
              "  </style>\n",
              "\n",
              "      <script>\n",
              "        const buttonEl =\n",
              "          document.querySelector('#df-7624f778-a3ea-4427-a2d8-3d06913e2bd6 button.colab-df-convert');\n",
              "        buttonEl.style.display =\n",
              "          google.colab.kernel.accessAllowed ? 'block' : 'none';\n",
              "\n",
              "        async function convertToInteractive(key) {\n",
              "          const element = document.querySelector('#df-7624f778-a3ea-4427-a2d8-3d06913e2bd6');\n",
              "          const dataTable =\n",
              "            await google.colab.kernel.invokeFunction('convertToInteractive',\n",
              "                                                     [key], {});\n",
              "          if (!dataTable) return;\n",
              "\n",
              "          const docLinkHtml = 'Like what you see? Visit the ' +\n",
              "            '<a target=\"_blank\" href=https://colab.research.google.com/notebooks/data_table.ipynb>data table notebook</a>'\n",
              "            + ' to learn more about interactive tables.';\n",
              "          element.innerHTML = '';\n",
              "          dataTable['output_type'] = 'display_data';\n",
              "          await google.colab.output.renderOutput(dataTable, element);\n",
              "          const docLink = document.createElement('div');\n",
              "          docLink.innerHTML = docLinkHtml;\n",
              "          element.appendChild(docLink);\n",
              "        }\n",
              "      </script>\n",
              "    </div>\n",
              "  </div>\n",
              "  "
            ]
          },
          "metadata": {},
          "execution_count": 9
        }
      ]
    },
    {
      "cell_type": "code",
      "source": [
        "mathFinal = mathdf.G3.groupby(mathdf.G3).count()"
      ],
      "metadata": {
        "id": "ErpzI20phMdf"
      },
      "execution_count": 10,
      "outputs": []
    },
    {
      "cell_type": "code",
      "source": [
        "mathFinal.plot(kind='bar', title='Math Final Grades', color='blue')"
      ],
      "metadata": {
        "colab": {
          "base_uri": "https://localhost:8080/",
          "height": 316
        },
        "id": "1oFKdCAxiAnZ",
        "outputId": "a1aa2df8-b9a4-47b8-e84a-49430ba2800b"
      },
      "execution_count": 11,
      "outputs": [
        {
          "output_type": "execute_result",
          "data": {
            "text/plain": [
              "<matplotlib.axes._subplots.AxesSubplot at 0x7f689c4051d0>"
            ]
          },
          "metadata": {},
          "execution_count": 11
        },
        {
          "output_type": "display_data",
          "data": {
            "text/plain": [
              "<Figure size 432x288 with 1 Axes>"
            ],
            "image/png": "[encoded data removed]"
          },
          "metadata": {
            "needs_background": "light"
          }
        }
      ]
    },
    {
      "cell_type": "code",
      "source": [
        "fig = plt.figure(figsize=(10,10))\n",
        "sns.violinplot(x='school', y='G3', data=mathdf, hue='school')"
      ],
      "metadata": {
        "colab": {
          "base_uri": "https://localhost:8080/",
          "height": 624
        },
        "id": "MAJi0FOsq7ew",
        "outputId": "f4628c0b-d804-4378-b037-c8d71daa7fa1"
      },
      "execution_count": 12,
      "outputs": [
        {
          "output_type": "execute_result",
          "data": {
            "text/plain": [
              "<matplotlib.axes._subplots.AxesSubplot at 0x7f689c3823d0>"
            ]
          },
          "metadata": {},
          "execution_count": 12
        },
        {
          "output_type": "display_data",
          "data": {
            "text/plain": [
              "<Figure size 720x720 with 1 Axes>"
            ],
            "image/png": "[encoded data removed]"
          },
          "metadata": {
            "needs_background": "light"
          }
        }
      ]
    },
    {
      "cell_type": "markdown",
      "source": [
        "#*Splitting Data into Train/Test*"
      ],
      "metadata": {
        "id": "RKlOFLiCtxn6"
      }
    },
    {
      "cell_type": "code",
      "source": [
        "X = mathdf.iloc[:,0:-1]\n",
        "y = mathdf[['G3']]"
      ],
      "metadata": {
        "id": "MVwfe3eat4m3"
      },
      "execution_count": 13,
      "outputs": []
    },
    {
      "cell_type": "code",
      "source": [
        "X_train, X_test, y_train, y_test = train_test_split(X, y, test_size=.20, random_state=32)"
      ],
      "metadata": {
        "id": "llKO7cu7xUiH"
      },
      "execution_count": 14,
      "outputs": []
    },
    {
      "cell_type": "markdown",
      "source": [
        "#*Building the Pipeline(s)*"
      ],
      "metadata": {
        "id": "_KNnmRhCyoy1"
      }
    },
    {
      "cell_type": "code",
      "source": [
        "mathdf.columns"
      ],
      "metadata": {
        "colab": {
          "base_uri": "https://localhost:8080/"
        },
        "id": "4UW7NeW9BY9S",
        "outputId": "4ec7484a-9837-4485-fed2-dd8c1d1e275e"
      },
      "execution_count": 15,
      "outputs": [
        {
          "output_type": "execute_result",
          "data": {
            "text/plain": [
              "Index(['school', 'sex', 'age', 'address', 'famsize', 'Pstatus', 'Medu', 'Fedu',\n",
              "       'Mjob', 'Fjob', 'reason', 'guardian', 'traveltime', 'studytime',\n",
              "       'failures', 'schoolsup', 'famsup', 'paid', 'activities', 'nursery',\n",
              "       'higher', 'internet', 'romantic', 'famrel', 'freetime', 'goout', 'Dalc',\n",
              "       'Walc', 'health', 'absences', 'G1', 'G2', 'G3'],\n",
              "      dtype='object')"
            ]
          },
          "metadata": {},
          "execution_count": 15
        }
      ]
    },
    {
      "cell_type": "code",
      "source": [
        "num_attribs = ['age', 'Medu', 'Fedu', 'traveltime', 'studytime', 'failures', 'famrel', 'freetime', 'goout', 'Dalc', 'Walc', 'health', 'absences', 'G1', 'G2']\n",
        "cat_attribs = ['school', 'sex', 'address', 'famsize', 'Pstatus', 'Mjob', 'Fjob', 'reason', 'guardian', 'schoolsup', 'famsup', 'paid', 'activities', 'nursery', 'higher', 'internet', 'romantic']"
      ],
      "metadata": {
        "id": "8ZKmy76RzU7C"
      },
      "execution_count": 16,
      "outputs": []
    },
    {
      "cell_type": "code",
      "source": [
        "col_transform = ColumnTransformer(transformers=[\n",
        "    ('num', MinMaxScaler(), num_attribs),\n",
        "    ('cat', OneHotEncoder(), cat_attribs),\n",
        "])"
      ],
      "metadata": {
        "id": "Sm_dlbZ1Fk33"
      },
      "execution_count": 17,
      "outputs": []
    },
    {
      "cell_type": "markdown",
      "source": [
        "*Linear Regression*"
      ],
      "metadata": {
        "id": "cS6XOnB_FflK"
      }
    },
    {
      "cell_type": "code",
      "source": [
        "linear = Pipeline([\n",
        "    ('transform', col_transform),\n",
        "    ('linearReg', LinearRegression()),\n",
        "])"
      ],
      "metadata": {
        "id": "NsHVmd7xFXJv"
      },
      "execution_count": 18,
      "outputs": []
    },
    {
      "cell_type": "markdown",
      "source": [
        "*Support Vector Machine*"
      ],
      "metadata": {
        "id": "zdlbslK1L2S8"
      }
    },
    {
      "cell_type": "code",
      "source": [
        "svm = Pipeline([\n",
        "    ('transform', col_transform),\n",
        "    ('svr', SVR()),\n",
        "])"
      ],
      "metadata": {
        "id": "gtatzqiIL5vr"
      },
      "execution_count": 19,
      "outputs": []
    },
    {
      "cell_type": "markdown",
      "source": [
        "*GridSearchCV*"
      ],
      "metadata": {
        "id": "SgW1VLWXOaQ3"
      }
    },
    {
      "cell_type": "code",
      "source": [
        "parameters = {\n",
        "    'svr__kernel': ['poly', 'linear', 'rbf'],\n",
        "    'svr__degree': [2, 3, 5],\n",
        "    'svr__C': [25, 50, 100],\n",
        "    'svr__epsilon': [0.0, 0.1, 0.2]\n",
        "}\n"
      ],
      "metadata": {
        "id": "8_wyzqYTOdzk"
      },
      "execution_count": 20,
      "outputs": []
    },
    {
      "cell_type": "code",
      "source": [
        "grid_pipeline = GridSearchCV(svm, param_grid=parameters)"
      ],
      "metadata": {
        "id": "2BGRJXHfmpup"
      },
      "execution_count": 21,
      "outputs": []
    },
    {
      "cell_type": "markdown",
      "source": [
        "#*Execute the Models*"
      ],
      "metadata": {
        "id": "bWPz1DElnnc7"
      }
    },
    {
      "cell_type": "markdown",
      "source": [
        "*Linear Regression*"
      ],
      "metadata": {
        "id": "njF9iOnWnuc0"
      }
    },
    {
      "cell_type": "code",
      "source": [
        "linear.fit(X_train, np.ravel(y_train))"
      ],
      "metadata": {
        "colab": {
          "base_uri": "https://localhost:8080/",
          "height": 192
        },
        "id": "dtvkUCOEntOX",
        "outputId": "64a998bb-e2e1-4472-ff37-9dde5ea6b273"
      },
      "execution_count": 22,
      "outputs": [
        {
          "output_type": "execute_result",
          "data": {
            "text/plain": [
              "Pipeline(steps=[('transform',\n",
              "                 ColumnTransformer(transformers=[('num', MinMaxScaler(),\n",
              "                                                  ['age', 'Medu', 'Fedu',\n",
              "                                                   'traveltime', 'studytime',\n",
              "                                                   'failures', 'famrel',\n",
              "                                                   'freetime', 'goout', 'Dalc',\n",
              "                                                   'Walc', 'health', 'absences',\n",
              "                                                   'G1', 'G2']),\n",
              "                                                 ('cat', OneHotEncoder(),\n",
              "                                                  ['school', 'sex', 'address',\n",
              "                                                   'famsize', 'Pstatus', 'Mjob',\n",
              "                                                   'Fjob', 'reason', 'guardian',\n",
              "                                                   'schoolsup', 'famsup',\n",
              "                                                   'paid', 'activities',\n",
              "                                                   'nursery', 'higher',\n",
              "                                                   'internet', 'romantic'])])),\n",
              "                ('linearReg', LinearRegression())])"
            ],
            "text/html": [
              "<style>#sk-1e0f52d6-b054-4780-860b-5903ec983b2c {color: black;background-color: white;}#sk-1e0f52d6-b054-4780-860b-5903ec983b2c pre{padding: 0;}#sk-1e0f52d6-b054-4780-860b-5903ec983b2c div.sk-toggleable {background-color: white;}#sk-1e0f52d6-b054-4780-860b-5903ec983b2c label.sk-toggleable__label {cursor: pointer;display: block;width: 100%;margin-bottom: 0;padding: 0.3em;box-sizing: border-box;text-align: center;}#sk-1e0f52d6-b054-4780-860b-5903ec983b2c label.sk-toggleable__label-arrow:before {content: \"▸\";float: left;margin-right: 0.25em;color: #696969;}#sk-1e0f52d6-b054-4780-860b-5903ec983b2c label.sk-toggleable__label-arrow:hover:before {color: black;}#sk-1e0f52d6-b054-4780-860b-5903ec983b2c div.sk-estimator:hover label.sk-toggleable__label-arrow:before {color: black;}#sk-1e0f52d6-b054-4780-860b-5903ec983b2c div.sk-toggleable__content {max-height: 0;max-width: 0;overflow: hidden;text-align: left;background-color: #f0f8ff;}#sk-1e0f52d6-b054-4780-860b-5903ec983b2c div.sk-toggleable__content pre {margin: 0.2em;color: black;border-radius: 0.25em;background-color: #f0f8ff;}#sk-1e0f52d6-b054-4780-860b-5903ec983b2c input.sk-toggleable__control:checked~div.sk-toggleable__content {max-height: 200px;max-width: 100%;overflow: auto;}#sk-1e0f52d6-b054-4780-860b-5903ec983b2c input.sk-toggleable__control:checked~label.sk-toggleable__label-arrow:before {content: \"▾\";}#sk-1e0f52d6-b054-4780-860b-5903ec983b2c div.sk-estimator input.sk-toggleable__control:checked~label.sk-toggleable__label {background-color: #d4ebff;}#sk-1e0f52d6-b054-4780-860b-5903ec983b2c div.sk-label input.sk-toggleable__control:checked~label.sk-toggleable__label {background-color: #d4ebff;}#sk-1e0f52d6-b054-4780-860b-5903ec983b2c input.sk-hidden--visually {border: 0;clip: rect(1px 1px 1px 1px);clip: rect(1px, 1px, 1px, 1px);height: 1px;margin: -1px;overflow: hidden;padding: 0;position: absolute;width: 1px;}#sk-1e0f52d6-b054-4780-860b-5903ec983b2c div.sk-estimator {font-family: monospace;background-color: #f0f8ff;border: 1px dotted black;border-radius: 0.25em;box-sizing: border-box;margin-bottom: 0.5em;}#sk-1e0f52d6-b054-4780-860b-5903ec983b2c div.sk-estimator:hover {background-color: #d4ebff;}#sk-1e0f52d6-b054-4780-860b-5903ec983b2c div.sk-parallel-item::after {content: \"\";width: 100%;border-bottom: 1px solid gray;flex-grow: 1;}#sk-1e0f52d6-b054-4780-860b-5903ec983b2c div.sk-label:hover label.sk-toggleable__label {background-color: #d4ebff;}#sk-1e0f52d6-b054-4780-860b-5903ec983b2c div.sk-serial::before {content: \"\";position: absolute;border-left: 1px solid gray;box-sizing: border-box;top: 2em;bottom: 0;left: 50%;}#sk-1e0f52d6-b054-4780-860b-5903ec983b2c div.sk-serial {display: flex;flex-direction: column;align-items: center;background-color: white;padding-right: 0.2em;padding-left: 0.2em;}#sk-1e0f52d6-b054-4780-860b-5903ec983b2c div.sk-item {z-index: 1;}#sk-1e0f52d6-b054-4780-860b-5903ec983b2c div.sk-parallel {display: flex;align-items: stretch;justify-content: center;background-color: white;}#sk-1e0f52d6-b054-4780-860b-5903ec983b2c div.sk-parallel::before {content: \"\";position: absolute;border-left: 1px solid gray;box-sizing: border-box;top: 2em;bottom: 0;left: 50%;}#sk-1e0f52d6-b054-4780-860b-5903ec983b2c div.sk-parallel-item {display: flex;flex-direction: column;position: relative;background-color: white;}#sk-1e0f52d6-b054-4780-860b-5903ec983b2c div.sk-parallel-item:first-child::after {align-self: flex-end;width: 50%;}#sk-1e0f52d6-b054-4780-860b-5903ec983b2c div.sk-parallel-item:last-child::after {align-self: flex-start;width: 50%;}#sk-1e0f52d6-b054-4780-860b-5903ec983b2c div.sk-parallel-item:only-child::after {width: 0;}#sk-1e0f52d6-b054-4780-860b-5903ec983b2c div.sk-dashed-wrapped {border: 1px dashed gray;margin: 0 0.4em 0.5em 0.4em;box-sizing: border-box;padding-bottom: 0.4em;background-color: white;position: relative;}#sk-1e0f52d6-b054-4780-860b-5903ec983b2c div.sk-label label {font-family: monospace;font-weight: bold;background-color: white;display: inline-block;line-height: 1.2em;}#sk-1e0f52d6-b054-4780-860b-5903ec983b2c div.sk-label-container {position: relative;z-index: 2;text-align: center;}#sk-1e0f52d6-b054-4780-860b-5903ec983b2c div.sk-container {/* jupyter's `normalize.less` sets `[hidden] { display: none; }` but bootstrap.min.css set `[hidden] { display: none !important; }` so we also need the `!important` here to be able to override the default hidden behavior on the sphinx rendered scikit-learn.org. See: https://github.com/scikit-learn/scikit-learn/issues/21755 */display: inline-block !important;position: relative;}#sk-1e0f52d6-b054-4780-860b-5903ec983b2c div.sk-text-repr-fallback {display: none;}</style><div id=\"sk-1e0f52d6-b054-4780-860b-5903ec983b2c\" class=\"sk-top-container\"><div class=\"sk-text-repr-fallback\"><pre>Pipeline(steps=[(&#x27;transform&#x27;,\n",
              "                 ColumnTransformer(transformers=[(&#x27;num&#x27;, MinMaxScaler(),\n",
              "                                                  [&#x27;age&#x27;, &#x27;Medu&#x27;, &#x27;Fedu&#x27;,\n",
              "                                                   &#x27;traveltime&#x27;, &#x27;studytime&#x27;,\n",
              "                                                   &#x27;failures&#x27;, &#x27;famrel&#x27;,\n",
              "                                                   &#x27;freetime&#x27;, &#x27;goout&#x27;, &#x27;Dalc&#x27;,\n",
              "                                                   &#x27;Walc&#x27;, &#x27;health&#x27;, &#x27;absences&#x27;,\n",
              "                                                   &#x27;G1&#x27;, &#x27;G2&#x27;]),\n",
              "                                                 (&#x27;cat&#x27;, OneHotEncoder(),\n",
              "                                                  [&#x27;school&#x27;, &#x27;sex&#x27;, &#x27;address&#x27;,\n",
              "                                                   &#x27;famsize&#x27;, &#x27;Pstatus&#x27;, &#x27;Mjob&#x27;,\n",
              "                                                   &#x27;Fjob&#x27;, &#x27;reason&#x27;, &#x27;guardian&#x27;,\n",
              "                                                   &#x27;schoolsup&#x27;, &#x27;famsup&#x27;,\n",
              "                                                   &#x27;paid&#x27;, &#x27;activities&#x27;,\n",
              "                                                   &#x27;nursery&#x27;, &#x27;higher&#x27;,\n",
              "                                                   &#x27;internet&#x27;, &#x27;romantic&#x27;])])),\n",
              "                (&#x27;linearReg&#x27;, LinearRegression())])</pre><b>Please rerun this cell to show the HTML repr or trust the notebook.</b></div><div class=\"sk-container\" hidden><div class=\"sk-item sk-dashed-wrapped\"><div class=\"sk-label-container\"><div class=\"sk-label sk-toggleable\"><input class=\"sk-toggleable__control sk-hidden--visually\" id=\"d5134e59-2990-4b97-976f-89daf6468c91\" type=\"checkbox\" ><label for=\"d5134e59-2990-4b97-976f-89daf6468c91\" class=\"sk-toggleable__label sk-toggleable__label-arrow\">Pipeline</label><div class=\"sk-toggleable__content\"><pre>Pipeline(steps=[(&#x27;transform&#x27;,\n",
              "                 ColumnTransformer(transformers=[(&#x27;num&#x27;, MinMaxScaler(),\n",
              "                                                  [&#x27;age&#x27;, &#x27;Medu&#x27;, &#x27;Fedu&#x27;,\n",
              "                                                   &#x27;traveltime&#x27;, &#x27;studytime&#x27;,\n",
              "                                                   &#x27;failures&#x27;, &#x27;famrel&#x27;,\n",
              "                                                   &#x27;freetime&#x27;, &#x27;goout&#x27;, &#x27;Dalc&#x27;,\n",
              "                                                   &#x27;Walc&#x27;, &#x27;health&#x27;, &#x27;absences&#x27;,\n",
              "                                                   &#x27;G1&#x27;, &#x27;G2&#x27;]),\n",
              "                                                 (&#x27;cat&#x27;, OneHotEncoder(),\n",
              "                                                  [&#x27;school&#x27;, &#x27;sex&#x27;, &#x27;address&#x27;,\n",
              "                                                   &#x27;famsize&#x27;, &#x27;Pstatus&#x27;, &#x27;Mjob&#x27;,\n",
              "                                                   &#x27;Fjob&#x27;, &#x27;reason&#x27;, &#x27;guardian&#x27;,\n",
              "                                                   &#x27;schoolsup&#x27;, &#x27;famsup&#x27;,\n",
              "                                                   &#x27;paid&#x27;, &#x27;activities&#x27;,\n",
              "                                                   &#x27;nursery&#x27;, &#x27;higher&#x27;,\n",
              "                                                   &#x27;internet&#x27;, &#x27;romantic&#x27;])])),\n",
              "                (&#x27;linearReg&#x27;, LinearRegression())])</pre></div></div></div><div class=\"sk-serial\"><div class=\"sk-item sk-dashed-wrapped\"><div class=\"sk-label-container\"><div class=\"sk-label sk-toggleable\"><input class=\"sk-toggleable__control sk-hidden--visually\" id=\"b48e1061-98fe-46ae-82cc-c87a2622df46\" type=\"checkbox\" ><label for=\"b48e1061-98fe-46ae-82cc-c87a2622df46\" class=\"sk-toggleable__label sk-toggleable__label-arrow\">transform: ColumnTransformer</label><div class=\"sk-toggleable__content\"><pre>ColumnTransformer(transformers=[(&#x27;num&#x27;, MinMaxScaler(),\n",
              "                                 [&#x27;age&#x27;, &#x27;Medu&#x27;, &#x27;Fedu&#x27;, &#x27;traveltime&#x27;,\n",
              "                                  &#x27;studytime&#x27;, &#x27;failures&#x27;, &#x27;famrel&#x27;, &#x27;freetime&#x27;,\n",
              "                                  &#x27;goout&#x27;, &#x27;Dalc&#x27;, &#x27;Walc&#x27;, &#x27;health&#x27;, &#x27;absences&#x27;,\n",
              "                                  &#x27;G1&#x27;, &#x27;G2&#x27;]),\n",
              "                                (&#x27;cat&#x27;, OneHotEncoder(),\n",
              "                                 [&#x27;school&#x27;, &#x27;sex&#x27;, &#x27;address&#x27;, &#x27;famsize&#x27;,\n",
              "                                  &#x27;Pstatus&#x27;, &#x27;Mjob&#x27;, &#x27;Fjob&#x27;, &#x27;reason&#x27;,\n",
              "                                  &#x27;guardian&#x27;, &#x27;schoolsup&#x27;, &#x27;famsup&#x27;, &#x27;paid&#x27;,\n",
              "                                  &#x27;activities&#x27;, &#x27;nursery&#x27;, &#x27;higher&#x27;, &#x27;internet&#x27;,\n",
              "                                  &#x27;romantic&#x27;])])</pre></div></div></div><div class=\"sk-parallel\"><div class=\"sk-parallel-item\"><div class=\"sk-item\"><div class=\"sk-label-container\"><div class=\"sk-label sk-toggleable\"><input class=\"sk-toggleable__control sk-hidden--visually\" id=\"f981333c-8436-4a7a-9d6d-dc49d80fbbc4\" type=\"checkbox\" ><label for=\"f981333c-8436-4a7a-9d6d-dc49d80fbbc4\" class=\"sk-toggleable__label sk-toggleable__label-arrow\">num</label><div class=\"sk-toggleable__content\"><pre>[&#x27;age&#x27;, &#x27;Medu&#x27;, &#x27;Fedu&#x27;, &#x27;traveltime&#x27;, &#x27;studytime&#x27;, &#x27;failures&#x27;, &#x27;famrel&#x27;, &#x27;freetime&#x27;, &#x27;goout&#x27;, &#x27;Dalc&#x27;, &#x27;Walc&#x27;, &#x27;health&#x27;, &#x27;absences&#x27;, &#x27;G1&#x27;, &#x27;G2&#x27;]</pre></div></div></div><div class=\"sk-serial\"><div class=\"sk-item\"><div class=\"sk-estimator sk-toggleable\"><input class=\"sk-toggleable__control sk-hidden--visually\" id=\"dcae0ac5-1671-4296-94e5-86c969018343\" type=\"checkbox\" ><label for=\"dcae0ac5-1671-4296-94e5-86c969018343\" class=\"sk-toggleable__label sk-toggleable__label-arrow\">MinMaxScaler</label><div class=\"sk-toggleable__content\"><pre>MinMaxScaler()</pre></div></div></div></div></div></div><div class=\"sk-parallel-item\"><div class=\"sk-item\"><div class=\"sk-label-container\"><div class=\"sk-label sk-toggleable\"><input class=\"sk-toggleable__control sk-hidden--visually\" id=\"c3c6cc74-6f75-475c-913e-1610bac0c7c8\" type=\"checkbox\" ><label for=\"c3c6cc74-6f75-475c-913e-1610bac0c7c8\" class=\"sk-toggleable__label sk-toggleable__label-arrow\">cat</label><div class=\"sk-toggleable__content\"><pre>[&#x27;school&#x27;, &#x27;sex&#x27;, &#x27;address&#x27;, &#x27;famsize&#x27;, &#x27;Pstatus&#x27;, &#x27;Mjob&#x27;, &#x27;Fjob&#x27;, &#x27;reason&#x27;, &#x27;guardian&#x27;, &#x27;schoolsup&#x27;, &#x27;famsup&#x27;, &#x27;paid&#x27;, &#x27;activities&#x27;, &#x27;nursery&#x27;, &#x27;higher&#x27;, &#x27;internet&#x27;, &#x27;romantic&#x27;]</pre></div></div></div><div class=\"sk-serial\"><div class=\"sk-item\"><div class=\"sk-estimator sk-toggleable\"><input class=\"sk-toggleable__control sk-hidden--visually\" id=\"9856cf11-467e-4b32-854a-f6c553306e4c\" type=\"checkbox\" ><label for=\"9856cf11-467e-4b32-854a-f6c553306e4c\" class=\"sk-toggleable__label sk-toggleable__label-arrow\">OneHotEncoder</label><div class=\"sk-toggleable__content\"><pre>OneHotEncoder()</pre></div></div></div></div></div></div></div></div><div class=\"sk-item\"><div class=\"sk-estimator sk-toggleable\"><input class=\"sk-toggleable__control sk-hidden--visually\" id=\"01d04773-66a7-4184-b4f6-bea925d9a30d\" type=\"checkbox\" ><label for=\"01d04773-66a7-4184-b4f6-bea925d9a30d\" class=\"sk-toggleable__label sk-toggleable__label-arrow\">LinearRegression</label><div class=\"sk-toggleable__content\"><pre>LinearRegression()</pre></div></div></div></div></div></div></div>"
            ]
          },
          "metadata": {},
          "execution_count": 22
        }
      ]
    },
    {
      "cell_type": "markdown",
      "source": [
        "*Support Vector Machine*"
      ],
      "metadata": {
        "id": "nddIXhk_n8XW"
      }
    },
    {
      "cell_type": "code",
      "source": [
        "svm.fit(X_train, np.ravel(y_train))"
      ],
      "metadata": {
        "colab": {
          "base_uri": "https://localhost:8080/",
          "height": 192
        },
        "id": "ecwfuflBoBVD",
        "outputId": "fa8a8bb5-527e-4d44-b5bb-63c8a20f04c2"
      },
      "execution_count": 23,
      "outputs": [
        {
          "output_type": "execute_result",
          "data": {
            "text/plain": [
              "Pipeline(steps=[('transform',\n",
              "                 ColumnTransformer(transformers=[('num', MinMaxScaler(),\n",
              "                                                  ['age', 'Medu', 'Fedu',\n",
              "                                                   'traveltime', 'studytime',\n",
              "                                                   'failures', 'famrel',\n",
              "                                                   'freetime', 'goout', 'Dalc',\n",
              "                                                   'Walc', 'health', 'absences',\n",
              "                                                   'G1', 'G2']),\n",
              "                                                 ('cat', OneHotEncoder(),\n",
              "                                                  ['school', 'sex', 'address',\n",
              "                                                   'famsize', 'Pstatus', 'Mjob',\n",
              "                                                   'Fjob', 'reason', 'guardian',\n",
              "                                                   'schoolsup', 'famsup',\n",
              "                                                   'paid', 'activities',\n",
              "                                                   'nursery', 'higher',\n",
              "                                                   'internet', 'romantic'])])),\n",
              "                ('svr', SVR())])"
            ],
            "text/html": [
              "<style>#sk-74564479-5e29-401b-8254-8edd6d1c1684 {color: black;background-color: white;}#sk-74564479-5e29-401b-8254-8edd6d1c1684 pre{padding: 0;}#sk-74564479-5e29-401b-8254-8edd6d1c1684 div.sk-toggleable {background-color: white;}#sk-74564479-5e29-401b-8254-8edd6d1c1684 label.sk-toggleable__label {cursor: pointer;display: block;width: 100%;margin-bottom: 0;padding: 0.3em;box-sizing: border-box;text-align: center;}#sk-74564479-5e29-401b-8254-8edd6d1c1684 label.sk-toggleable__label-arrow:before {content: \"▸\";float: left;margin-right: 0.25em;color: #696969;}#sk-74564479-5e29-401b-8254-8edd6d1c1684 label.sk-toggleable__label-arrow:hover:before {color: black;}#sk-74564479-5e29-401b-8254-8edd6d1c1684 div.sk-estimator:hover label.sk-toggleable__label-arrow:before {color: black;}#sk-74564479-5e29-401b-8254-8edd6d1c1684 div.sk-toggleable__content {max-height: 0;max-width: 0;overflow: hidden;text-align: left;background-color: #f0f8ff;}#sk-74564479-5e29-401b-8254-8edd6d1c1684 div.sk-toggleable__content pre {margin: 0.2em;color: black;border-radius: 0.25em;background-color: #f0f8ff;}#sk-74564479-5e29-401b-8254-8edd6d1c1684 input.sk-toggleable__control:checked~div.sk-toggleable__content {max-height: 200px;max-width: 100%;overflow: auto;}#sk-74564479-5e29-401b-8254-8edd6d1c1684 input.sk-toggleable__control:checked~label.sk-toggleable__label-arrow:before {content: \"▾\";}#sk-74564479-5e29-401b-8254-8edd6d1c1684 div.sk-estimator input.sk-toggleable__control:checked~label.sk-toggleable__label {background-color: #d4ebff;}#sk-74564479-5e29-401b-8254-8edd6d1c1684 div.sk-label input.sk-toggleable__control:checked~label.sk-toggleable__label {background-color: #d4ebff;}#sk-74564479-5e29-401b-8254-8edd6d1c1684 input.sk-hidden--visually {border: 0;clip: rect(1px 1px 1px 1px);clip: rect(1px, 1px, 1px, 1px);height: 1px;margin: -1px;overflow: hidden;padding: 0;position: absolute;width: 1px;}#sk-74564479-5e29-401b-8254-8edd6d1c1684 div.sk-estimator {font-family: monospace;background-color: #f0f8ff;border: 1px dotted black;border-radius: 0.25em;box-sizing: border-box;margin-bottom: 0.5em;}#sk-74564479-5e29-401b-8254-8edd6d1c1684 div.sk-estimator:hover {background-color: #d4ebff;}#sk-74564479-5e29-401b-8254-8edd6d1c1684 div.sk-parallel-item::after {content: \"\";width: 100%;border-bottom: 1px solid gray;flex-grow: 1;}#sk-74564479-5e29-401b-8254-8edd6d1c1684 div.sk-label:hover label.sk-toggleable__label {background-color: #d4ebff;}#sk-74564479-5e29-401b-8254-8edd6d1c1684 div.sk-serial::before {content: \"\";position: absolute;border-left: 1px solid gray;box-sizing: border-box;top: 2em;bottom: 0;left: 50%;}#sk-74564479-5e29-401b-8254-8edd6d1c1684 div.sk-serial {display: flex;flex-direction: column;align-items: center;background-color: white;padding-right: 0.2em;padding-left: 0.2em;}#sk-74564479-5e29-401b-8254-8edd6d1c1684 div.sk-item {z-index: 1;}#sk-74564479-5e29-401b-8254-8edd6d1c1684 div.sk-parallel {display: flex;align-items: stretch;justify-content: center;background-color: white;}#sk-74564479-5e29-401b-8254-8edd6d1c1684 div.sk-parallel::before {content: \"\";position: absolute;border-left: 1px solid gray;box-sizing: border-box;top: 2em;bottom: 0;left: 50%;}#sk-74564479-5e29-401b-8254-8edd6d1c1684 div.sk-parallel-item {display: flex;flex-direction: column;position: relative;background-color: white;}#sk-74564479-5e29-401b-8254-8edd6d1c1684 div.sk-parallel-item:first-child::after {align-self: flex-end;width: 50%;}#sk-74564479-5e29-401b-8254-8edd6d1c1684 div.sk-parallel-item:last-child::after {align-self: flex-start;width: 50%;}#sk-74564479-5e29-401b-8254-8edd6d1c1684 div.sk-parallel-item:only-child::after {width: 0;}#sk-74564479-5e29-401b-8254-8edd6d1c1684 div.sk-dashed-wrapped {border: 1px dashed gray;margin: 0 0.4em 0.5em 0.4em;box-sizing: border-box;padding-bottom: 0.4em;background-color: white;position: relative;}#sk-74564479-5e29-401b-8254-8edd6d1c1684 div.sk-label label {font-family: monospace;font-weight: bold;background-color: white;display: inline-block;line-height: 1.2em;}#sk-74564479-5e29-401b-8254-8edd6d1c1684 div.sk-label-container {position: relative;z-index: 2;text-align: center;}#sk-74564479-5e29-401b-8254-8edd6d1c1684 div.sk-container {/* jupyter's `normalize.less` sets `[hidden] { display: none; }` but bootstrap.min.css set `[hidden] { display: none !important; }` so we also need the `!important` here to be able to override the default hidden behavior on the sphinx rendered scikit-learn.org. See: https://github.com/scikit-learn/scikit-learn/issues/21755 */display: inline-block !important;position: relative;}#sk-74564479-5e29-401b-8254-8edd6d1c1684 div.sk-text-repr-fallback {display: none;}</style><div id=\"sk-74564479-5e29-401b-8254-8edd6d1c1684\" class=\"sk-top-container\"><div class=\"sk-text-repr-fallback\"><pre>Pipeline(steps=[(&#x27;transform&#x27;,\n",
              "                 ColumnTransformer(transformers=[(&#x27;num&#x27;, MinMaxScaler(),\n",
              "                                                  [&#x27;age&#x27;, &#x27;Medu&#x27;, &#x27;Fedu&#x27;,\n",
              "                                                   &#x27;traveltime&#x27;, &#x27;studytime&#x27;,\n",
              "                                                   &#x27;failures&#x27;, &#x27;famrel&#x27;,\n",
              "                                                   &#x27;freetime&#x27;, &#x27;goout&#x27;, &#x27;Dalc&#x27;,\n",
              "                                                   &#x27;Walc&#x27;, &#x27;health&#x27;, &#x27;absences&#x27;,\n",
              "                                                   &#x27;G1&#x27;, &#x27;G2&#x27;]),\n",
              "                                                 (&#x27;cat&#x27;, OneHotEncoder(),\n",
              "                                                  [&#x27;school&#x27;, &#x27;sex&#x27;, &#x27;address&#x27;,\n",
              "                                                   &#x27;famsize&#x27;, &#x27;Pstatus&#x27;, &#x27;Mjob&#x27;,\n",
              "                                                   &#x27;Fjob&#x27;, &#x27;reason&#x27;, &#x27;guardian&#x27;,\n",
              "                                                   &#x27;schoolsup&#x27;, &#x27;famsup&#x27;,\n",
              "                                                   &#x27;paid&#x27;, &#x27;activities&#x27;,\n",
              "                                                   &#x27;nursery&#x27;, &#x27;higher&#x27;,\n",
              "                                                   &#x27;internet&#x27;, &#x27;romantic&#x27;])])),\n",
              "                (&#x27;svr&#x27;, SVR())])</pre><b>Please rerun this cell to show the HTML repr or trust the notebook.</b></div><div class=\"sk-container\" hidden><div class=\"sk-item sk-dashed-wrapped\"><div class=\"sk-label-container\"><div class=\"sk-label sk-toggleable\"><input class=\"sk-toggleable__control sk-hidden--visually\" id=\"8a82776b-0ab5-4f2f-9c4d-319757428ee9\" type=\"checkbox\" ><label for=\"8a82776b-0ab5-4f2f-9c4d-319757428ee9\" class=\"sk-toggleable__label sk-toggleable__label-arrow\">Pipeline</label><div class=\"sk-toggleable__content\"><pre>Pipeline(steps=[(&#x27;transform&#x27;,\n",
              "                 ColumnTransformer(transformers=[(&#x27;num&#x27;, MinMaxScaler(),\n",
              "                                                  [&#x27;age&#x27;, &#x27;Medu&#x27;, &#x27;Fedu&#x27;,\n",
              "                                                   &#x27;traveltime&#x27;, &#x27;studytime&#x27;,\n",
              "                                                   &#x27;failures&#x27;, &#x27;famrel&#x27;,\n",
              "                                                   &#x27;freetime&#x27;, &#x27;goout&#x27;, &#x27;Dalc&#x27;,\n",
              "                                                   &#x27;Walc&#x27;, &#x27;health&#x27;, &#x27;absences&#x27;,\n",
              "                                                   &#x27;G1&#x27;, &#x27;G2&#x27;]),\n",
              "                                                 (&#x27;cat&#x27;, OneHotEncoder(),\n",
              "                                                  [&#x27;school&#x27;, &#x27;sex&#x27;, &#x27;address&#x27;,\n",
              "                                                   &#x27;famsize&#x27;, &#x27;Pstatus&#x27;, &#x27;Mjob&#x27;,\n",
              "                                                   &#x27;Fjob&#x27;, &#x27;reason&#x27;, &#x27;guardian&#x27;,\n",
              "                                                   &#x27;schoolsup&#x27;, &#x27;famsup&#x27;,\n",
              "                                                   &#x27;paid&#x27;, &#x27;activities&#x27;,\n",
              "                                                   &#x27;nursery&#x27;, &#x27;higher&#x27;,\n",
              "                                                   &#x27;internet&#x27;, &#x27;romantic&#x27;])])),\n",
              "                (&#x27;svr&#x27;, SVR())])</pre></div></div></div><div class=\"sk-serial\"><div class=\"sk-item sk-dashed-wrapped\"><div class=\"sk-label-container\"><div class=\"sk-label sk-toggleable\"><input class=\"sk-toggleable__control sk-hidden--visually\" id=\"c89a6410-20b9-4430-a196-566dff413535\" type=\"checkbox\" ><label for=\"c89a6410-20b9-4430-a196-566dff413535\" class=\"sk-toggleable__label sk-toggleable__label-arrow\">transform: ColumnTransformer</label><div class=\"sk-toggleable__content\"><pre>ColumnTransformer(transformers=[(&#x27;num&#x27;, MinMaxScaler(),\n",
              "                                 [&#x27;age&#x27;, &#x27;Medu&#x27;, &#x27;Fedu&#x27;, &#x27;traveltime&#x27;,\n",
              "                                  &#x27;studytime&#x27;, &#x27;failures&#x27;, &#x27;famrel&#x27;, &#x27;freetime&#x27;,\n",
              "                                  &#x27;goout&#x27;, &#x27;Dalc&#x27;, &#x27;Walc&#x27;, &#x27;health&#x27;, &#x27;absences&#x27;,\n",
              "                                  &#x27;G1&#x27;, &#x27;G2&#x27;]),\n",
              "                                (&#x27;cat&#x27;, OneHotEncoder(),\n",
              "                                 [&#x27;school&#x27;, &#x27;sex&#x27;, &#x27;address&#x27;, &#x27;famsize&#x27;,\n",
              "                                  &#x27;Pstatus&#x27;, &#x27;Mjob&#x27;, &#x27;Fjob&#x27;, &#x27;reason&#x27;,\n",
              "                                  &#x27;guardian&#x27;, &#x27;schoolsup&#x27;, &#x27;famsup&#x27;, &#x27;paid&#x27;,\n",
              "                                  &#x27;activities&#x27;, &#x27;nursery&#x27;, &#x27;higher&#x27;, &#x27;internet&#x27;,\n",
              "                                  &#x27;romantic&#x27;])])</pre></div></div></div><div class=\"sk-parallel\"><div class=\"sk-parallel-item\"><div class=\"sk-item\"><div class=\"sk-label-container\"><div class=\"sk-label sk-toggleable\"><input class=\"sk-toggleable__control sk-hidden--visually\" id=\"757416e8-fd61-4d82-a51c-8d7cd70538f9\" type=\"checkbox\" ><label for=\"757416e8-fd61-4d82-a51c-8d7cd70538f9\" class=\"sk-toggleable__label sk-toggleable__label-arrow\">num</label><div class=\"sk-toggleable__content\"><pre>[&#x27;age&#x27;, &#x27;Medu&#x27;, &#x27;Fedu&#x27;, &#x27;traveltime&#x27;, &#x27;studytime&#x27;, &#x27;failures&#x27;, &#x27;famrel&#x27;, &#x27;freetime&#x27;, &#x27;goout&#x27;, &#x27;Dalc&#x27;, &#x27;Walc&#x27;, &#x27;health&#x27;, &#x27;absences&#x27;, &#x27;G1&#x27;, &#x27;G2&#x27;]</pre></div></div></div><div class=\"sk-serial\"><div class=\"sk-item\"><div class=\"sk-estimator sk-toggleable\"><input class=\"sk-toggleable__control sk-hidden--visually\" id=\"8e9aab1f-fced-4f73-b870-6734b08cdd52\" type=\"checkbox\" ><label for=\"8e9aab1f-fced-4f73-b870-6734b08cdd52\" class=\"sk-toggleable__label sk-toggleable__label-arrow\">MinMaxScaler</label><div class=\"sk-toggleable__content\"><pre>MinMaxScaler()</pre></div></div></div></div></div></div><div class=\"sk-parallel-item\"><div class=\"sk-item\"><div class=\"sk-label-container\"><div class=\"sk-label sk-toggleable\"><input class=\"sk-toggleable__control sk-hidden--visually\" id=\"41864e32-f973-4115-af49-e715f3ccb070\" type=\"checkbox\" ><label for=\"41864e32-f973-4115-af49-e715f3ccb070\" class=\"sk-toggleable__label sk-toggleable__label-arrow\">cat</label><div class=\"sk-toggleable__content\"><pre>[&#x27;school&#x27;, &#x27;sex&#x27;, &#x27;address&#x27;, &#x27;famsize&#x27;, &#x27;Pstatus&#x27;, &#x27;Mjob&#x27;, &#x27;Fjob&#x27;, &#x27;reason&#x27;, &#x27;guardian&#x27;, &#x27;schoolsup&#x27;, &#x27;famsup&#x27;, &#x27;paid&#x27;, &#x27;activities&#x27;, &#x27;nursery&#x27;, &#x27;higher&#x27;, &#x27;internet&#x27;, &#x27;romantic&#x27;]</pre></div></div></div><div class=\"sk-serial\"><div class=\"sk-item\"><div class=\"sk-estimator sk-toggleable\"><input class=\"sk-toggleable__control sk-hidden--visually\" id=\"d457ba95-0f95-41dc-9805-e5e9936e0ce7\" type=\"checkbox\" ><label for=\"d457ba95-0f95-41dc-9805-e5e9936e0ce7\" class=\"sk-toggleable__label sk-toggleable__label-arrow\">OneHotEncoder</label><div class=\"sk-toggleable__content\"><pre>OneHotEncoder()</pre></div></div></div></div></div></div></div></div><div class=\"sk-item\"><div class=\"sk-estimator sk-toggleable\"><input class=\"sk-toggleable__control sk-hidden--visually\" id=\"8537a753-735e-4691-9890-514ee19c66a0\" type=\"checkbox\" ><label for=\"8537a753-735e-4691-9890-514ee19c66a0\" class=\"sk-toggleable__label sk-toggleable__label-arrow\">SVR</label><div class=\"sk-toggleable__content\"><pre>SVR()</pre></div></div></div></div></div></div></div>"
            ]
          },
          "metadata": {},
          "execution_count": 23
        }
      ]
    },
    {
      "cell_type": "markdown",
      "source": [
        "*GridSearchCV*"
      ],
      "metadata": {
        "id": "lDQjjlL2oQC_"
      }
    },
    {
      "cell_type": "code",
      "source": [
        "grid_pipeline.fit(X_train, np.ravel(y_train))"
      ],
      "metadata": {
        "colab": {
          "base_uri": "https://localhost:8080/",
          "height": 193
        },
        "id": "bAUfnlNfoSlC",
        "outputId": "859a5df4-ad68-490b-81b5-6ab38ac85fc7"
      },
      "execution_count": 24,
      "outputs": [
        {
          "output_type": "execute_result",
          "data": {
            "text/plain": [
              "GridSearchCV(estimator=Pipeline(steps=[('transform',\n",
              "                                        ColumnTransformer(transformers=[('num',\n",
              "                                                                         MinMaxScaler(),\n",
              "                                                                         ['age',\n",
              "                                                                          'Medu',\n",
              "                                                                          'Fedu',\n",
              "                                                                          'traveltime',\n",
              "                                                                          'studytime',\n",
              "                                                                          'failures',\n",
              "                                                                          'famrel',\n",
              "                                                                          'freetime',\n",
              "                                                                          'goout',\n",
              "                                                                          'Dalc',\n",
              "                                                                          'Walc',\n",
              "                                                                          'health',\n",
              "                                                                          'absences',\n",
              "                                                                          'G1',\n",
              "                                                                          'G2']),\n",
              "                                                                        ('cat',\n",
              "                                                                         OneHotEncoder(),\n",
              "                                                                         ['school',\n",
              "                                                                          'sex',\n",
              "                                                                          'address',\n",
              "                                                                          'famsize',\n",
              "                                                                          'Pstatus',\n",
              "                                                                          'Mjob',\n",
              "                                                                          'Fjob',\n",
              "                                                                          'reason',\n",
              "                                                                          'guardian',\n",
              "                                                                          'schoolsup',\n",
              "                                                                          'famsup',\n",
              "                                                                          'paid',\n",
              "                                                                          'activities',\n",
              "                                                                          'nursery',\n",
              "                                                                          'higher',\n",
              "                                                                          'internet',\n",
              "                                                                          'romantic'])])),\n",
              "                                       ('svr', SVR())]),\n",
              "             param_grid={'svr__C': [25, 50, 100], 'svr__degree': [2, 3, 5],\n",
              "                         'svr__epsilon': [0.0, 0.1, 0.2],\n",
              "                         'svr__kernel': ['poly', 'linear', 'rbf']})"
            ],
            "text/html": [
              "<style>#sk-19c5da09-524b-4c70-84ec-62c75a785429 {color: black;background-color: white;}#sk-19c5da09-524b-4c70-84ec-62c75a785429 pre{padding: 0;}#sk-19c5da09-524b-4c70-84ec-62c75a785429 div.sk-toggleable {background-color: white;}#sk-19c5da09-524b-4c70-84ec-62c75a785429 label.sk-toggleable__label {cursor: pointer;display: block;width: 100%;margin-bottom: 0;padding: 0.3em;box-sizing: border-box;text-align: center;}#sk-19c5da09-524b-4c70-84ec-62c75a785429 label.sk-toggleable__label-arrow:before {content: \"▸\";float: left;margin-right: 0.25em;color: #696969;}#sk-19c5da09-524b-4c70-84ec-62c75a785429 label.sk-toggleable__label-arrow:hover:before {color: black;}#sk-19c5da09-524b-4c70-84ec-62c75a785429 div.sk-estimator:hover label.sk-toggleable__label-arrow:before {color: black;}#sk-19c5da09-524b-4c70-84ec-62c75a785429 div.sk-toggleable__content {max-height: 0;max-width: 0;overflow: hidden;text-align: left;background-color: #f0f8ff;}#sk-19c5da09-524b-4c70-84ec-62c75a785429 div.sk-toggleable__content pre {margin: 0.2em;color: black;border-radius: 0.25em;background-color: #f0f8ff;}#sk-19c5da09-524b-4c70-84ec-62c75a785429 input.sk-toggleable__control:checked~div.sk-toggleable__content {max-height: 200px;max-width: 100%;overflow: auto;}#sk-19c5da09-524b-4c70-84ec-62c75a785429 input.sk-toggleable__control:checked~label.sk-toggleable__label-arrow:before {content: \"▾\";}#sk-19c5da09-524b-4c70-84ec-62c75a785429 div.sk-estimator input.sk-toggleable__control:checked~label.sk-toggleable__label {background-color: #d4ebff;}#sk-19c5da09-524b-4c70-84ec-62c75a785429 div.sk-label input.sk-toggleable__control:checked~label.sk-toggleable__label {background-color: #d4ebff;}#sk-19c5da09-524b-4c70-84ec-62c75a785429 input.sk-hidden--visually {border: 0;clip: rect(1px 1px 1px 1px);clip: rect(1px, 1px, 1px, 1px);height: 1px;margin: -1px;overflow: hidden;padding: 0;position: absolute;width: 1px;}#sk-19c5da09-524b-4c70-84ec-62c75a785429 div.sk-estimator {font-family: monospace;background-color: #f0f8ff;border: 1px dotted black;border-radius: 0.25em;box-sizing: border-box;margin-bottom: 0.5em;}#sk-19c5da09-524b-4c70-84ec-62c75a785429 div.sk-estimator:hover {background-color: #d4ebff;}#sk-19c5da09-524b-4c70-84ec-62c75a785429 div.sk-parallel-item::after {content: \"\";width: 100%;border-bottom: 1px solid gray;flex-grow: 1;}#sk-19c5da09-524b-4c70-84ec-62c75a785429 div.sk-label:hover label.sk-toggleable__label {background-color: #d4ebff;}#sk-19c5da09-524b-4c70-84ec-62c75a785429 div.sk-serial::before {content: \"\";position: absolute;border-left: 1px solid gray;box-sizing: border-box;top: 2em;bottom: 0;left: 50%;}#sk-19c5da09-524b-4c70-84ec-62c75a785429 div.sk-serial {display: flex;flex-direction: column;align-items: center;background-color: white;padding-right: 0.2em;padding-left: 0.2em;}#sk-19c5da09-524b-4c70-84ec-62c75a785429 div.sk-item {z-index: 1;}#sk-19c5da09-524b-4c70-84ec-62c75a785429 div.sk-parallel {display: flex;align-items: stretch;justify-content: center;background-color: white;}#sk-19c5da09-524b-4c70-84ec-62c75a785429 div.sk-parallel::before {content: \"\";position: absolute;border-left: 1px solid gray;box-sizing: border-box;top: 2em;bottom: 0;left: 50%;}#sk-19c5da09-524b-4c70-84ec-62c75a785429 div.sk-parallel-item {display: flex;flex-direction: column;position: relative;background-color: white;}#sk-19c5da09-524b-4c70-84ec-62c75a785429 div.sk-parallel-item:first-child::after {align-self: flex-end;width: 50%;}#sk-19c5da09-524b-4c70-84ec-62c75a785429 div.sk-parallel-item:last-child::after {align-self: flex-start;width: 50%;}#sk-19c5da09-524b-4c70-84ec-62c75a785429 div.sk-parallel-item:only-child::after {width: 0;}#sk-19c5da09-524b-4c70-84ec-62c75a785429 div.sk-dashed-wrapped {border: 1px dashed gray;margin: 0 0.4em 0.5em 0.4em;box-sizing: border-box;padding-bottom: 0.4em;background-color: white;position: relative;}#sk-19c5da09-524b-4c70-84ec-62c75a785429 div.sk-label label {font-family: monospace;font-weight: bold;background-color: white;display: inline-block;line-height: 1.2em;}#sk-19c5da09-524b-4c70-84ec-62c75a785429 div.sk-label-container {position: relative;z-index: 2;text-align: center;}#sk-19c5da09-524b-4c70-84ec-62c75a785429 div.sk-container {/* jupyter's `normalize.less` sets `[hidden] { display: none; }` but bootstrap.min.css set `[hidden] { display: none !important; }` so we also need the `!important` here to be able to override the default hidden behavior on the sphinx rendered scikit-learn.org. See: https://github.com/scikit-learn/scikit-learn/issues/21755 */display: inline-block !important;position: relative;}#sk-19c5da09-524b-4c70-84ec-62c75a785429 div.sk-text-repr-fallback {display: none;}</style><div id=\"sk-19c5da09-524b-4c70-84ec-62c75a785429\" class=\"sk-top-container\"><div class=\"sk-text-repr-fallback\"><pre>GridSearchCV(estimator=Pipeline(steps=[(&#x27;transform&#x27;,\n",
              "                                        ColumnTransformer(transformers=[(&#x27;num&#x27;,\n",
              "                                                                         MinMaxScaler(),\n",
              "                                                                         [&#x27;age&#x27;,\n",
              "                                                                          &#x27;Medu&#x27;,\n",
              "                                                                          &#x27;Fedu&#x27;,\n",
              "                                                                          &#x27;traveltime&#x27;,\n",
              "                                                                          &#x27;studytime&#x27;,\n",
              "                                                                          &#x27;failures&#x27;,\n",
              "                                                                          &#x27;famrel&#x27;,\n",
              "                                                                          &#x27;freetime&#x27;,\n",
              "                                                                          &#x27;goout&#x27;,\n",
              "                                                                          &#x27;Dalc&#x27;,\n",
              "                                                                          &#x27;Walc&#x27;,\n",
              "                                                                          &#x27;health&#x27;,\n",
              "                                                                          &#x27;absences&#x27;,\n",
              "                                                                          &#x27;G1&#x27;,\n",
              "                                                                          &#x27;G2&#x27;]),\n",
              "                                                                        (&#x27;cat&#x27;,\n",
              "                                                                         OneHotEncoder(),\n",
              "                                                                         [&#x27;school&#x27;,\n",
              "                                                                          &#x27;sex&#x27;,\n",
              "                                                                          &#x27;address&#x27;,\n",
              "                                                                          &#x27;famsize&#x27;,\n",
              "                                                                          &#x27;Pstatus&#x27;,\n",
              "                                                                          &#x27;Mjob&#x27;,\n",
              "                                                                          &#x27;Fjob&#x27;,\n",
              "                                                                          &#x27;reason&#x27;,\n",
              "                                                                          &#x27;guardian&#x27;,\n",
              "                                                                          &#x27;schoolsup&#x27;,\n",
              "                                                                          &#x27;famsup&#x27;,\n",
              "                                                                          &#x27;paid&#x27;,\n",
              "                                                                          &#x27;activities&#x27;,\n",
              "                                                                          &#x27;nursery&#x27;,\n",
              "                                                                          &#x27;higher&#x27;,\n",
              "                                                                          &#x27;internet&#x27;,\n",
              "                                                                          &#x27;romantic&#x27;])])),\n",
              "                                       (&#x27;svr&#x27;, SVR())]),\n",
              "             param_grid={&#x27;svr__C&#x27;: [25, 50, 100], &#x27;svr__degree&#x27;: [2, 3, 5],\n",
              "                         &#x27;svr__epsilon&#x27;: [0.0, 0.1, 0.2],\n",
              "                         &#x27;svr__kernel&#x27;: [&#x27;poly&#x27;, &#x27;linear&#x27;, &#x27;rbf&#x27;]})</pre><b>Please rerun this cell to show the HTML repr or trust the notebook.</b></div><div class=\"sk-container\" hidden><div class=\"sk-item sk-dashed-wrapped\"><div class=\"sk-label-container\"><div class=\"sk-label sk-toggleable\"><input class=\"sk-toggleable__control sk-hidden--visually\" id=\"3a420fb0-e66e-4159-9f38-e39ed90c2aac\" type=\"checkbox\" ><label for=\"3a420fb0-e66e-4159-9f38-e39ed90c2aac\" class=\"sk-toggleable__label sk-toggleable__label-arrow\">GridSearchCV</label><div class=\"sk-toggleable__content\"><pre>GridSearchCV(estimator=Pipeline(steps=[(&#x27;transform&#x27;,\n",
              "                                        ColumnTransformer(transformers=[(&#x27;num&#x27;,\n",
              "                                                                         MinMaxScaler(),\n",
              "                                                                         [&#x27;age&#x27;,\n",
              "                                                                          &#x27;Medu&#x27;,\n",
              "                                                                          &#x27;Fedu&#x27;,\n",
              "                                                                          &#x27;traveltime&#x27;,\n",
              "                                                                          &#x27;studytime&#x27;,\n",
              "                                                                          &#x27;failures&#x27;,\n",
              "                                                                          &#x27;famrel&#x27;,\n",
              "                                                                          &#x27;freetime&#x27;,\n",
              "                                                                          &#x27;goout&#x27;,\n",
              "                                                                          &#x27;Dalc&#x27;,\n",
              "                                                                          &#x27;Walc&#x27;,\n",
              "                                                                          &#x27;health&#x27;,\n",
              "                                                                          &#x27;absences&#x27;,\n",
              "                                                                          &#x27;G1&#x27;,\n",
              "                                                                          &#x27;G2&#x27;]),\n",
              "                                                                        (&#x27;cat&#x27;,\n",
              "                                                                         OneHotEncoder(),\n",
              "                                                                         [&#x27;school&#x27;,\n",
              "                                                                          &#x27;sex&#x27;,\n",
              "                                                                          &#x27;address&#x27;,\n",
              "                                                                          &#x27;famsize&#x27;,\n",
              "                                                                          &#x27;Pstatus&#x27;,\n",
              "                                                                          &#x27;Mjob&#x27;,\n",
              "                                                                          &#x27;Fjob&#x27;,\n",
              "                                                                          &#x27;reason&#x27;,\n",
              "                                                                          &#x27;guardian&#x27;,\n",
              "                                                                          &#x27;schoolsup&#x27;,\n",
              "                                                                          &#x27;famsup&#x27;,\n",
              "                                                                          &#x27;paid&#x27;,\n",
              "                                                                          &#x27;activities&#x27;,\n",
              "                                                                          &#x27;nursery&#x27;,\n",
              "                                                                          &#x27;higher&#x27;,\n",
              "                                                                          &#x27;internet&#x27;,\n",
              "                                                                          &#x27;romantic&#x27;])])),\n",
              "                                       (&#x27;svr&#x27;, SVR())]),\n",
              "             param_grid={&#x27;svr__C&#x27;: [25, 50, 100], &#x27;svr__degree&#x27;: [2, 3, 5],\n",
              "                         &#x27;svr__epsilon&#x27;: [0.0, 0.1, 0.2],\n",
              "                         &#x27;svr__kernel&#x27;: [&#x27;poly&#x27;, &#x27;linear&#x27;, &#x27;rbf&#x27;]})</pre></div></div></div><div class=\"sk-parallel\"><div class=\"sk-parallel-item\"><div class=\"sk-item\"><div class=\"sk-serial\"><div class=\"sk-item\"><div class=\"sk-serial\"><div class=\"sk-item sk-dashed-wrapped\"><div class=\"sk-label-container\"><div class=\"sk-label sk-toggleable\"><input class=\"sk-toggleable__control sk-hidden--visually\" id=\"cb91080d-7dfa-4e19-aa54-fee70a9aec55\" type=\"checkbox\" ><label for=\"cb91080d-7dfa-4e19-aa54-fee70a9aec55\" class=\"sk-toggleable__label sk-toggleable__label-arrow\">transform: ColumnTransformer</label><div class=\"sk-toggleable__content\"><pre>ColumnTransformer(transformers=[(&#x27;num&#x27;, MinMaxScaler(),\n",
              "                                 [&#x27;age&#x27;, &#x27;Medu&#x27;, &#x27;Fedu&#x27;, &#x27;traveltime&#x27;,\n",
              "                                  &#x27;studytime&#x27;, &#x27;failures&#x27;, &#x27;famrel&#x27;, &#x27;freetime&#x27;,\n",
              "                                  &#x27;goout&#x27;, &#x27;Dalc&#x27;, &#x27;Walc&#x27;, &#x27;health&#x27;, &#x27;absences&#x27;,\n",
              "                                  &#x27;G1&#x27;, &#x27;G2&#x27;]),\n",
              "                                (&#x27;cat&#x27;, OneHotEncoder(),\n",
              "                                 [&#x27;school&#x27;, &#x27;sex&#x27;, &#x27;address&#x27;, &#x27;famsize&#x27;,\n",
              "                                  &#x27;Pstatus&#x27;, &#x27;Mjob&#x27;, &#x27;Fjob&#x27;, &#x27;reason&#x27;,\n",
              "                                  &#x27;guardian&#x27;, &#x27;schoolsup&#x27;, &#x27;famsup&#x27;, &#x27;paid&#x27;,\n",
              "                                  &#x27;activities&#x27;, &#x27;nursery&#x27;, &#x27;higher&#x27;, &#x27;internet&#x27;,\n",
              "                                  &#x27;romantic&#x27;])])</pre></div></div></div><div class=\"sk-parallel\"><div class=\"sk-parallel-item\"><div class=\"sk-item\"><div class=\"sk-label-container\"><div class=\"sk-label sk-toggleable\"><input class=\"sk-toggleable__control sk-hidden--visually\" id=\"d421f68e-65c3-4d82-beda-a597b61781e6\" type=\"checkbox\" ><label for=\"d421f68e-65c3-4d82-beda-a597b61781e6\" class=\"sk-toggleable__label sk-toggleable__label-arrow\">num</label><div class=\"sk-toggleable__content\"><pre>[&#x27;age&#x27;, &#x27;Medu&#x27;, &#x27;Fedu&#x27;, &#x27;traveltime&#x27;, &#x27;studytime&#x27;, &#x27;failures&#x27;, &#x27;famrel&#x27;, &#x27;freetime&#x27;, &#x27;goout&#x27;, &#x27;Dalc&#x27;, &#x27;Walc&#x27;, &#x27;health&#x27;, &#x27;absences&#x27;, &#x27;G1&#x27;, &#x27;G2&#x27;]</pre></div></div></div><div class=\"sk-serial\"><div class=\"sk-item\"><div class=\"sk-estimator sk-toggleable\"><input class=\"sk-toggleable__control sk-hidden--visually\" id=\"c82fff3e-997d-4e97-9a40-2ccf03e37200\" type=\"checkbox\" ><label for=\"c82fff3e-997d-4e97-9a40-2ccf03e37200\" class=\"sk-toggleable__label sk-toggleable__label-arrow\">MinMaxScaler</label><div class=\"sk-toggleable__content\"><pre>MinMaxScaler()</pre></div></div></div></div></div></div><div class=\"sk-parallel-item\"><div class=\"sk-item\"><div class=\"sk-label-container\"><div class=\"sk-label sk-toggleable\"><input class=\"sk-toggleable__control sk-hidden--visually\" id=\"fb01019b-2886-4baf-8aef-614045c8a00a\" type=\"checkbox\" ><label for=\"fb01019b-2886-4baf-8aef-614045c8a00a\" class=\"sk-toggleable__label sk-toggleable__label-arrow\">cat</label><div class=\"sk-toggleable__content\"><pre>[&#x27;school&#x27;, &#x27;sex&#x27;, &#x27;address&#x27;, &#x27;famsize&#x27;, &#x27;Pstatus&#x27;, &#x27;Mjob&#x27;, &#x27;Fjob&#x27;, &#x27;reason&#x27;, &#x27;guardian&#x27;, &#x27;schoolsup&#x27;, &#x27;famsup&#x27;, &#x27;paid&#x27;, &#x27;activities&#x27;, &#x27;nursery&#x27;, &#x27;higher&#x27;, &#x27;internet&#x27;, &#x27;romantic&#x27;]</pre></div></div></div><div class=\"sk-serial\"><div class=\"sk-item\"><div class=\"sk-estimator sk-toggleable\"><input class=\"sk-toggleable__control sk-hidden--visually\" id=\"528642e1-c2df-4704-8e29-b7cc8367fa88\" type=\"checkbox\" ><label for=\"528642e1-c2df-4704-8e29-b7cc8367fa88\" class=\"sk-toggleable__label sk-toggleable__label-arrow\">OneHotEncoder</label><div class=\"sk-toggleable__content\"><pre>OneHotEncoder()</pre></div></div></div></div></div></div></div></div><div class=\"sk-item\"><div class=\"sk-estimator sk-toggleable\"><input class=\"sk-toggleable__control sk-hidden--visually\" id=\"ad2ecb21-9d4e-4c61-a766-ba861046fded\" type=\"checkbox\" ><label for=\"ad2ecb21-9d4e-4c61-a766-ba861046fded\" class=\"sk-toggleable__label sk-toggleable__label-arrow\">SVR</label><div class=\"sk-toggleable__content\"><pre>SVR()</pre></div></div></div></div></div></div></div></div></div></div></div></div>"
            ]
          },
          "metadata": {},
          "execution_count": 24
        }
      ]
    },
    {
      "cell_type": "markdown",
      "source": [
        "#*Evaluate the Models*"
      ],
      "metadata": {
        "id": "kD50syfxrZxp"
      }
    },
    {
      "cell_type": "markdown",
      "source": [
        "*Linear Regression*"
      ],
      "metadata": {
        "id": "8yAaWPFjrpza"
      }
    },
    {
      "cell_type": "code",
      "source": [
        "y_testpred_lr = linear.predict(X_test)\n",
        "y_trainpred_lr = linear.predict(X_train)"
      ],
      "metadata": {
        "id": "RIVtEk2RrcN3"
      },
      "execution_count": 25,
      "outputs": []
    },
    {
      "cell_type": "code",
      "source": [
        "print(\"Root mean squared error for test: \", (mean_squared_error(y_test, y_testpred_lr)**(0.5)))\n",
        "print(\"Root mean squared error for train: \", (mean_squared_error(y_train, y_trainpred_lr)**(0.5)))"
      ],
      "metadata": {
        "colab": {
          "base_uri": "https://localhost:8080/"
        },
        "id": "SDotBsvjtoFo",
        "outputId": "c7ba716a-bddd-43f9-8c5b-188a002c3af3"
      },
      "execution_count": 26,
      "outputs": [
        {
          "output_type": "stream",
          "name": "stdout",
          "text": [
            "Root mean squared error for test:  2.2125013382945897\n",
            "Root mean squared error for train:  1.7261514242612557\n"
          ]
        }
      ]
    },
    {
      "cell_type": "markdown",
      "source": [
        "*Support Vector Machine*"
      ],
      "metadata": {
        "id": "mIXCdPCBrzo1"
      }
    },
    {
      "cell_type": "code",
      "source": [
        "y_testpred_svm = svm.predict(X_test)\n",
        "y_trainpred_svm = svm.predict(X_train)"
      ],
      "metadata": {
        "id": "hN-3xCUor2QA"
      },
      "execution_count": 27,
      "outputs": []
    },
    {
      "cell_type": "code",
      "source": [
        "print(\"Root mean squared error for test: \", (mean_squared_error(y_test, y_testpred_svm)**(0.5)))\n",
        "print(\"Root mean squared error for train: \", (mean_squared_error(y_train, y_trainpred_svm)**(0.5)))"
      ],
      "metadata": {
        "colab": {
          "base_uri": "https://localhost:8080/"
        },
        "id": "hoLf9dllt54n",
        "outputId": "2dd05841-da24-4182-d611-848c2a327f7a"
      },
      "execution_count": 28,
      "outputs": [
        {
          "output_type": "stream",
          "name": "stdout",
          "text": [
            "Root mean squared error for test:  3.73256561694301\n",
            "Root mean squared error for train:  3.460119776139946\n"
          ]
        }
      ]
    },
    {
      "cell_type": "markdown",
      "source": [
        "*GridSearchCV*"
      ],
      "metadata": {
        "id": "22HLgKXQsBVn"
      }
    },
    {
      "cell_type": "code",
      "source": [
        "grid_pipeline.best_params_"
      ],
      "metadata": {
        "colab": {
          "base_uri": "https://localhost:8080/"
        },
        "id": "aU4snXJIsEtP",
        "outputId": "17e4369b-2cac-47ee-b664-e136c0e1b54a"
      },
      "execution_count": 29,
      "outputs": [
        {
          "output_type": "execute_result",
          "data": {
            "text/plain": [
              "{'svr__C': 50, 'svr__degree': 2, 'svr__epsilon': 0.1, 'svr__kernel': 'linear'}"
            ]
          },
          "metadata": {},
          "execution_count": 29
        }
      ]
    },
    {
      "cell_type": "code",
      "source": [
        "grid_pipeline.score(X_test, np.ravel(y_test))"
      ],
      "metadata": {
        "colab": {
          "base_uri": "https://localhost:8080/"
        },
        "id": "ziy4BSYeuFuP",
        "outputId": "88a2c061-3bc1-41c5-f1ef-766dcc5298eb"
      },
      "execution_count": 30,
      "outputs": [
        {
          "output_type": "execute_result",
          "data": {
            "text/plain": [
              "0.7772701990841645"
            ]
          },
          "metadata": {},
          "execution_count": 30
        }
      ]
    },
    {
      "cell_type": "markdown",
      "source": [
        "**Evalution Result**\n",
        "\n",
        "Linear Regression appears to be the better model for predicting the final grade for the math students in this dataset. However, when looking at the models on their own, the Support Vector Machine has RMSE values very close within range of one another (0.3 difference). While the Linear Regression had a range around 0.5."
      ],
      "metadata": {
        "id": "_7s7KbaOyadk"
      }
    },
    {
      "cell_type": "markdown",
      "source": [
        "#**Conclusion**\n",
        "\n",
        "Both models do appear to give an accurate prediction for the math students' final grades. The differences between test and train sets are less than 1.0. Another note is that the accuracy score with SVR through the GridSearchCV piepline is around 0.77, not bad but definitely gives room for improvement."
      ],
      "metadata": {
        "id": "GpzERAb8hxXi"
      }
    }
  ]
}